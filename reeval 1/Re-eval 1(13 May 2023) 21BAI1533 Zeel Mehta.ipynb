{
 "cells": [
  {
   "cell_type": "markdown",
   "id": "cd27ba40",
   "metadata": {},
   "source": [
    "## Re-eval 1 13th May 2023\n",
    "### 21BAI1533 Zeel Mehta "
   ]
  },
  {
   "cell_type": "markdown",
   "id": "1b34e47b",
   "metadata": {},
   "source": [
    "### 21BAI1533\n",
    "### 1) Import the necessary packages /modules and read the data set\n"
   ]
  },
  {
   "cell_type": "code",
   "execution_count": 105,
   "id": "650626c7",
   "metadata": {},
   "outputs": [],
   "source": [
    "import pandas as pd\n",
    "import numpy as np\n",
    "import matplotlib.pyplot as plt\n",
    "import seaborn as sns"
   ]
  },
  {
   "cell_type": "code",
   "execution_count": 106,
   "id": "63a43672",
   "metadata": {},
   "outputs": [],
   "source": [
    "df=pd.read_csv('data.csv')"
   ]
  },
  {
   "cell_type": "code",
   "execution_count": 107,
   "id": "d5a6f5ba",
   "metadata": {},
   "outputs": [
    {
     "data": {
      "text/html": [
       "<div>\n",
       "<style scoped>\n",
       "    .dataframe tbody tr th:only-of-type {\n",
       "        vertical-align: middle;\n",
       "    }\n",
       "\n",
       "    .dataframe tbody tr th {\n",
       "        vertical-align: top;\n",
       "    }\n",
       "\n",
       "    .dataframe thead th {\n",
       "        text-align: right;\n",
       "    }\n",
       "</style>\n",
       "<table border=\"1\" class=\"dataframe\">\n",
       "  <thead>\n",
       "    <tr style=\"text-align: right;\">\n",
       "      <th></th>\n",
       "      <th>Unnamed: 0</th>\n",
       "      <th>ride.alc.driver</th>\n",
       "      <th>female</th>\n",
       "      <th>grade</th>\n",
       "      <th>age4</th>\n",
       "      <th>smoke</th>\n",
       "      <th>DriverLicense</th>\n",
       "      <th>In_Month</th>\n",
       "    </tr>\n",
       "  </thead>\n",
       "  <tbody>\n",
       "    <tr>\n",
       "      <th>0</th>\n",
       "      <td>1</td>\n",
       "      <td>1</td>\n",
       "      <td>1.0</td>\n",
       "      <td>10.0</td>\n",
       "      <td>15.0</td>\n",
       "      <td>1.0</td>\n",
       "      <td>0.0</td>\n",
       "      <td>39343.0</td>\n",
       "    </tr>\n",
       "    <tr>\n",
       "      <th>1</th>\n",
       "      <td>2</td>\n",
       "      <td>1</td>\n",
       "      <td>1.0</td>\n",
       "      <td>10.0</td>\n",
       "      <td>18.0</td>\n",
       "      <td>1.0</td>\n",
       "      <td>1.0</td>\n",
       "      <td>46205.0</td>\n",
       "    </tr>\n",
       "    <tr>\n",
       "      <th>2</th>\n",
       "      <td>3</td>\n",
       "      <td>1</td>\n",
       "      <td>NaN</td>\n",
       "      <td>NaN</td>\n",
       "      <td>NaN</td>\n",
       "      <td>NaN</td>\n",
       "      <td>NaN</td>\n",
       "      <td>NaN</td>\n",
       "    </tr>\n",
       "    <tr>\n",
       "      <th>3</th>\n",
       "      <td>4</td>\n",
       "      <td>0</td>\n",
       "      <td>0.0</td>\n",
       "      <td>11.0</td>\n",
       "      <td>17.0</td>\n",
       "      <td>0.0</td>\n",
       "      <td>1.0</td>\n",
       "      <td>43525.0</td>\n",
       "    </tr>\n",
       "    <tr>\n",
       "      <th>4</th>\n",
       "      <td>5</td>\n",
       "      <td>0</td>\n",
       "      <td>0.0</td>\n",
       "      <td>11.0</td>\n",
       "      <td>17.0</td>\n",
       "      <td>0.0</td>\n",
       "      <td>1.0</td>\n",
       "      <td>39891.0</td>\n",
       "    </tr>\n",
       "    <tr>\n",
       "      <th>...</th>\n",
       "      <td>...</td>\n",
       "      <td>...</td>\n",
       "      <td>...</td>\n",
       "      <td>...</td>\n",
       "      <td>...</td>\n",
       "      <td>...</td>\n",
       "      <td>...</td>\n",
       "      <td>...</td>\n",
       "    </tr>\n",
       "    <tr>\n",
       "      <th>13382</th>\n",
       "      <td>13383</td>\n",
       "      <td>0</td>\n",
       "      <td>NaN</td>\n",
       "      <td>9.0</td>\n",
       "      <td>15.0</td>\n",
       "      <td>0.0</td>\n",
       "      <td>0.0</td>\n",
       "      <td>216303.0</td>\n",
       "    </tr>\n",
       "    <tr>\n",
       "      <th>13383</th>\n",
       "      <td>13384</td>\n",
       "      <td>0</td>\n",
       "      <td>NaN</td>\n",
       "      <td>9.0</td>\n",
       "      <td>15.0</td>\n",
       "      <td>0.0</td>\n",
       "      <td>0.0</td>\n",
       "      <td>216379.0</td>\n",
       "    </tr>\n",
       "    <tr>\n",
       "      <th>13384</th>\n",
       "      <td>13385</td>\n",
       "      <td>0</td>\n",
       "      <td>NaN</td>\n",
       "      <td>9.0</td>\n",
       "      <td>15.0</td>\n",
       "      <td>0.0</td>\n",
       "      <td>0.0</td>\n",
       "      <td>216455.0</td>\n",
       "    </tr>\n",
       "    <tr>\n",
       "      <th>13385</th>\n",
       "      <td>13386</td>\n",
       "      <td>0</td>\n",
       "      <td>NaN</td>\n",
       "      <td>9.0</td>\n",
       "      <td>15.0</td>\n",
       "      <td>0.0</td>\n",
       "      <td>0.0</td>\n",
       "      <td>216530.0</td>\n",
       "    </tr>\n",
       "    <tr>\n",
       "      <th>13386</th>\n",
       "      <td>13387</td>\n",
       "      <td>0</td>\n",
       "      <td>NaN</td>\n",
       "      <td>9.0</td>\n",
       "      <td>15.0</td>\n",
       "      <td>0.0</td>\n",
       "      <td>0.0</td>\n",
       "      <td>216606.0</td>\n",
       "    </tr>\n",
       "  </tbody>\n",
       "</table>\n",
       "<p>13387 rows × 8 columns</p>\n",
       "</div>"
      ],
      "text/plain": [
       "       Unnamed: 0  ride.alc.driver  female  grade  age4  smoke  DriverLicense  \\\n",
       "0               1                1     1.0   10.0  15.0    1.0            0.0   \n",
       "1               2                1     1.0   10.0  18.0    1.0            1.0   \n",
       "2               3                1     NaN    NaN   NaN    NaN            NaN   \n",
       "3               4                0     0.0   11.0  17.0    0.0            1.0   \n",
       "4               5                0     0.0   11.0  17.0    0.0            1.0   \n",
       "...           ...              ...     ...    ...   ...    ...            ...   \n",
       "13382       13383                0     NaN    9.0  15.0    0.0            0.0   \n",
       "13383       13384                0     NaN    9.0  15.0    0.0            0.0   \n",
       "13384       13385                0     NaN    9.0  15.0    0.0            0.0   \n",
       "13385       13386                0     NaN    9.0  15.0    0.0            0.0   \n",
       "13386       13387                0     NaN    9.0  15.0    0.0            0.0   \n",
       "\n",
       "       In_Month  \n",
       "0       39343.0  \n",
       "1       46205.0  \n",
       "2           NaN  \n",
       "3       43525.0  \n",
       "4       39891.0  \n",
       "...         ...  \n",
       "13382  216303.0  \n",
       "13383  216379.0  \n",
       "13384  216455.0  \n",
       "13385  216530.0  \n",
       "13386  216606.0  \n",
       "\n",
       "[13387 rows x 8 columns]"
      ]
     },
     "execution_count": 107,
     "metadata": {},
     "output_type": "execute_result"
    }
   ],
   "source": [
    "df"
   ]
  },
  {
   "cell_type": "markdown",
   "id": "446245ef",
   "metadata": {},
   "source": [
    "### 21BAI1533\n",
    "### 2) Drop the column ‘Unnamed: 0’ and rename the columns as given below [hint: rename] (2 Marks).\n"
   ]
  },
  {
   "cell_type": "code",
   "execution_count": 108,
   "id": "4fa3b978",
   "metadata": {},
   "outputs": [
    {
     "data": {
      "text/plain": [
       "Index(['Unnamed: 0', 'ride.alc.driver', 'female', 'grade', 'age4', 'smoke',\n",
       "       'DriverLicense', 'In_Month'],\n",
       "      dtype='object')"
      ]
     },
     "execution_count": 108,
     "metadata": {},
     "output_type": "execute_result"
    }
   ],
   "source": [
    "df.columns"
   ]
  },
  {
   "cell_type": "code",
   "execution_count": 109,
   "id": "279aa565",
   "metadata": {
    "scrolled": true
   },
   "outputs": [],
   "source": [
    "df=df.drop(['Unnamed: 0'],axis=1)\n",
    "df=df.rename(columns={'ride.alc.driver':'drunken','age4':'age','smoke':'smoked','DriverLicense':'driver_license','In_Month':'Income'})"
   ]
  },
  {
   "cell_type": "code",
   "execution_count": 110,
   "id": "b9a1b6d0",
   "metadata": {},
   "outputs": [
    {
     "data": {
      "text/html": [
       "<div>\n",
       "<style scoped>\n",
       "    .dataframe tbody tr th:only-of-type {\n",
       "        vertical-align: middle;\n",
       "    }\n",
       "\n",
       "    .dataframe tbody tr th {\n",
       "        vertical-align: top;\n",
       "    }\n",
       "\n",
       "    .dataframe thead th {\n",
       "        text-align: right;\n",
       "    }\n",
       "</style>\n",
       "<table border=\"1\" class=\"dataframe\">\n",
       "  <thead>\n",
       "    <tr style=\"text-align: right;\">\n",
       "      <th></th>\n",
       "      <th>drunken</th>\n",
       "      <th>female</th>\n",
       "      <th>grade</th>\n",
       "      <th>age</th>\n",
       "      <th>smoked</th>\n",
       "      <th>driver_license</th>\n",
       "      <th>Income</th>\n",
       "    </tr>\n",
       "  </thead>\n",
       "  <tbody>\n",
       "    <tr>\n",
       "      <th>0</th>\n",
       "      <td>1</td>\n",
       "      <td>1.0</td>\n",
       "      <td>10.0</td>\n",
       "      <td>15.0</td>\n",
       "      <td>1.0</td>\n",
       "      <td>0.0</td>\n",
       "      <td>39343.0</td>\n",
       "    </tr>\n",
       "    <tr>\n",
       "      <th>1</th>\n",
       "      <td>1</td>\n",
       "      <td>1.0</td>\n",
       "      <td>10.0</td>\n",
       "      <td>18.0</td>\n",
       "      <td>1.0</td>\n",
       "      <td>1.0</td>\n",
       "      <td>46205.0</td>\n",
       "    </tr>\n",
       "    <tr>\n",
       "      <th>2</th>\n",
       "      <td>1</td>\n",
       "      <td>NaN</td>\n",
       "      <td>NaN</td>\n",
       "      <td>NaN</td>\n",
       "      <td>NaN</td>\n",
       "      <td>NaN</td>\n",
       "      <td>NaN</td>\n",
       "    </tr>\n",
       "    <tr>\n",
       "      <th>3</th>\n",
       "      <td>0</td>\n",
       "      <td>0.0</td>\n",
       "      <td>11.0</td>\n",
       "      <td>17.0</td>\n",
       "      <td>0.0</td>\n",
       "      <td>1.0</td>\n",
       "      <td>43525.0</td>\n",
       "    </tr>\n",
       "    <tr>\n",
       "      <th>4</th>\n",
       "      <td>0</td>\n",
       "      <td>0.0</td>\n",
       "      <td>11.0</td>\n",
       "      <td>17.0</td>\n",
       "      <td>0.0</td>\n",
       "      <td>1.0</td>\n",
       "      <td>39891.0</td>\n",
       "    </tr>\n",
       "    <tr>\n",
       "      <th>...</th>\n",
       "      <td>...</td>\n",
       "      <td>...</td>\n",
       "      <td>...</td>\n",
       "      <td>...</td>\n",
       "      <td>...</td>\n",
       "      <td>...</td>\n",
       "      <td>...</td>\n",
       "    </tr>\n",
       "    <tr>\n",
       "      <th>13382</th>\n",
       "      <td>0</td>\n",
       "      <td>NaN</td>\n",
       "      <td>9.0</td>\n",
       "      <td>15.0</td>\n",
       "      <td>0.0</td>\n",
       "      <td>0.0</td>\n",
       "      <td>216303.0</td>\n",
       "    </tr>\n",
       "    <tr>\n",
       "      <th>13383</th>\n",
       "      <td>0</td>\n",
       "      <td>NaN</td>\n",
       "      <td>9.0</td>\n",
       "      <td>15.0</td>\n",
       "      <td>0.0</td>\n",
       "      <td>0.0</td>\n",
       "      <td>216379.0</td>\n",
       "    </tr>\n",
       "    <tr>\n",
       "      <th>13384</th>\n",
       "      <td>0</td>\n",
       "      <td>NaN</td>\n",
       "      <td>9.0</td>\n",
       "      <td>15.0</td>\n",
       "      <td>0.0</td>\n",
       "      <td>0.0</td>\n",
       "      <td>216455.0</td>\n",
       "    </tr>\n",
       "    <tr>\n",
       "      <th>13385</th>\n",
       "      <td>0</td>\n",
       "      <td>NaN</td>\n",
       "      <td>9.0</td>\n",
       "      <td>15.0</td>\n",
       "      <td>0.0</td>\n",
       "      <td>0.0</td>\n",
       "      <td>216530.0</td>\n",
       "    </tr>\n",
       "    <tr>\n",
       "      <th>13386</th>\n",
       "      <td>0</td>\n",
       "      <td>NaN</td>\n",
       "      <td>9.0</td>\n",
       "      <td>15.0</td>\n",
       "      <td>0.0</td>\n",
       "      <td>0.0</td>\n",
       "      <td>216606.0</td>\n",
       "    </tr>\n",
       "  </tbody>\n",
       "</table>\n",
       "<p>13387 rows × 7 columns</p>\n",
       "</div>"
      ],
      "text/plain": [
       "       drunken  female  grade   age  smoked  driver_license    Income\n",
       "0            1     1.0   10.0  15.0     1.0             0.0   39343.0\n",
       "1            1     1.0   10.0  18.0     1.0             1.0   46205.0\n",
       "2            1     NaN    NaN   NaN     NaN             NaN       NaN\n",
       "3            0     0.0   11.0  17.0     0.0             1.0   43525.0\n",
       "4            0     0.0   11.0  17.0     0.0             1.0   39891.0\n",
       "...        ...     ...    ...   ...     ...             ...       ...\n",
       "13382        0     NaN    9.0  15.0     0.0             0.0  216303.0\n",
       "13383        0     NaN    9.0  15.0     0.0             0.0  216379.0\n",
       "13384        0     NaN    9.0  15.0     0.0             0.0  216455.0\n",
       "13385        0     NaN    9.0  15.0     0.0             0.0  216530.0\n",
       "13386        0     NaN    9.0  15.0     0.0             0.0  216606.0\n",
       "\n",
       "[13387 rows x 7 columns]"
      ]
     },
     "execution_count": 110,
     "metadata": {},
     "output_type": "execute_result"
    }
   ],
   "source": [
    "df"
   ]
  },
  {
   "cell_type": "markdown",
   "id": "6fab9e8b",
   "metadata": {},
   "source": [
    "### 21BAI1533\n",
    "### 3) Fill in the missing values using the proper strategy for the columns identified from question number 2. (2 Marks)"
   ]
  },
  {
   "cell_type": "code",
   "execution_count": 111,
   "id": "2b6cf983",
   "metadata": {
    "scrolled": true
   },
   "outputs": [
    {
     "data": {
      "text/plain": [
       "Index(['drunken', 'female', 'grade', 'age', 'smoked', 'driver_license',\n",
       "       'Income'],\n",
       "      dtype='object')"
      ]
     },
     "execution_count": 111,
     "metadata": {},
     "output_type": "execute_result"
    }
   ],
   "source": [
    "df.columns"
   ]
  },
  {
   "cell_type": "code",
   "execution_count": 112,
   "id": "4c0c8a2e",
   "metadata": {},
   "outputs": [
    {
     "data": {
      "text/plain": [
       "drunken             int64\n",
       "female            float64\n",
       "grade             float64\n",
       "age               float64\n",
       "smoked            float64\n",
       "driver_license    float64\n",
       "Income            float64\n",
       "dtype: object"
      ]
     },
     "execution_count": 112,
     "metadata": {},
     "output_type": "execute_result"
    }
   ],
   "source": [
    "df.dtypes"
   ]
  },
  {
   "cell_type": "code",
   "execution_count": 113,
   "id": "e7e6ac03",
   "metadata": {},
   "outputs": [
    {
     "data": {
      "text/plain": [
       "755"
      ]
     },
     "execution_count": 113,
     "metadata": {},
     "output_type": "execute_result"
    }
   ],
   "source": [
    "df['female'].isnull().values.sum()"
   ]
  },
  {
   "cell_type": "code",
   "execution_count": 114,
   "id": "b75c7187",
   "metadata": {},
   "outputs": [
    {
     "data": {
      "text/plain": [
       "0"
      ]
     },
     "execution_count": 114,
     "metadata": {},
     "output_type": "execute_result"
    }
   ],
   "source": [
    "df['drunken'].isnull().values.sum()"
   ]
  },
  {
   "cell_type": "code",
   "execution_count": 115,
   "id": "e4f58df0",
   "metadata": {},
   "outputs": [
    {
     "data": {
      "text/plain": [
       "67"
      ]
     },
     "execution_count": 115,
     "metadata": {},
     "output_type": "execute_result"
    }
   ],
   "source": [
    "df['grade'].isnull().values.sum()"
   ]
  },
  {
   "cell_type": "code",
   "execution_count": 116,
   "id": "b2e57ad9",
   "metadata": {},
   "outputs": [
    {
     "data": {
      "text/plain": [
       "54"
      ]
     },
     "execution_count": 116,
     "metadata": {},
     "output_type": "execute_result"
    }
   ],
   "source": [
    "df['age'].isnull().values.sum()"
   ]
  },
  {
   "cell_type": "code",
   "execution_count": 117,
   "id": "79664399",
   "metadata": {},
   "outputs": [
    {
     "data": {
      "text/plain": [
       "388"
      ]
     },
     "execution_count": 117,
     "metadata": {},
     "output_type": "execute_result"
    }
   ],
   "source": [
    "df['smoked'].isnull().values.sum()"
   ]
  },
  {
   "cell_type": "code",
   "execution_count": 118,
   "id": "1f5ad5f7",
   "metadata": {},
   "outputs": [
    {
     "data": {
      "text/plain": [
       "54"
      ]
     },
     "execution_count": 118,
     "metadata": {},
     "output_type": "execute_result"
    }
   ],
   "source": [
    "df['driver_license'].isnull().values.sum()"
   ]
  },
  {
   "cell_type": "code",
   "execution_count": 119,
   "id": "46507f77",
   "metadata": {},
   "outputs": [
    {
     "data": {
      "text/plain": [
       "8"
      ]
     },
     "execution_count": 119,
     "metadata": {},
     "output_type": "execute_result"
    }
   ],
   "source": [
    "df['Income'].isnull().values.sum()"
   ]
  },
  {
   "cell_type": "code",
   "execution_count": 120,
   "id": "ad382ad6",
   "metadata": {},
   "outputs": [],
   "source": [
    "from sklearn.impute import SimpleImputer\n",
    "imp=SimpleImputer(missing_values=np.NaN,strategy='most_frequent')"
   ]
  },
  {
   "cell_type": "code",
   "execution_count": 121,
   "id": "b9245b8a",
   "metadata": {},
   "outputs": [],
   "source": [
    "df[['female','grade','age','smoked','driver_license','Income']]=imp.fit_transform(df[['female','grade','age','smoked','driver_license','Income']])"
   ]
  },
  {
   "cell_type": "code",
   "execution_count": 122,
   "id": "eacac5b5",
   "metadata": {},
   "outputs": [
    {
     "data": {
      "text/html": [
       "<div>\n",
       "<style scoped>\n",
       "    .dataframe tbody tr th:only-of-type {\n",
       "        vertical-align: middle;\n",
       "    }\n",
       "\n",
       "    .dataframe tbody tr th {\n",
       "        vertical-align: top;\n",
       "    }\n",
       "\n",
       "    .dataframe thead th {\n",
       "        text-align: right;\n",
       "    }\n",
       "</style>\n",
       "<table border=\"1\" class=\"dataframe\">\n",
       "  <thead>\n",
       "    <tr style=\"text-align: right;\">\n",
       "      <th></th>\n",
       "      <th>drunken</th>\n",
       "      <th>female</th>\n",
       "      <th>grade</th>\n",
       "      <th>age</th>\n",
       "      <th>smoked</th>\n",
       "      <th>driver_license</th>\n",
       "      <th>Income</th>\n",
       "    </tr>\n",
       "  </thead>\n",
       "  <tbody>\n",
       "    <tr>\n",
       "      <th>0</th>\n",
       "      <td>1</td>\n",
       "      <td>1.0</td>\n",
       "      <td>10.0</td>\n",
       "      <td>15.0</td>\n",
       "      <td>1.0</td>\n",
       "      <td>0.0</td>\n",
       "      <td>39343.0</td>\n",
       "    </tr>\n",
       "    <tr>\n",
       "      <th>1</th>\n",
       "      <td>1</td>\n",
       "      <td>1.0</td>\n",
       "      <td>10.0</td>\n",
       "      <td>18.0</td>\n",
       "      <td>1.0</td>\n",
       "      <td>1.0</td>\n",
       "      <td>46205.0</td>\n",
       "    </tr>\n",
       "    <tr>\n",
       "      <th>2</th>\n",
       "      <td>1</td>\n",
       "      <td>1.0</td>\n",
       "      <td>12.0</td>\n",
       "      <td>16.0</td>\n",
       "      <td>1.0</td>\n",
       "      <td>1.0</td>\n",
       "      <td>39343.0</td>\n",
       "    </tr>\n",
       "    <tr>\n",
       "      <th>3</th>\n",
       "      <td>0</td>\n",
       "      <td>0.0</td>\n",
       "      <td>11.0</td>\n",
       "      <td>17.0</td>\n",
       "      <td>0.0</td>\n",
       "      <td>1.0</td>\n",
       "      <td>43525.0</td>\n",
       "    </tr>\n",
       "    <tr>\n",
       "      <th>4</th>\n",
       "      <td>0</td>\n",
       "      <td>0.0</td>\n",
       "      <td>11.0</td>\n",
       "      <td>17.0</td>\n",
       "      <td>0.0</td>\n",
       "      <td>1.0</td>\n",
       "      <td>39891.0</td>\n",
       "    </tr>\n",
       "    <tr>\n",
       "      <th>...</th>\n",
       "      <td>...</td>\n",
       "      <td>...</td>\n",
       "      <td>...</td>\n",
       "      <td>...</td>\n",
       "      <td>...</td>\n",
       "      <td>...</td>\n",
       "      <td>...</td>\n",
       "    </tr>\n",
       "    <tr>\n",
       "      <th>13382</th>\n",
       "      <td>0</td>\n",
       "      <td>1.0</td>\n",
       "      <td>9.0</td>\n",
       "      <td>15.0</td>\n",
       "      <td>0.0</td>\n",
       "      <td>0.0</td>\n",
       "      <td>216303.0</td>\n",
       "    </tr>\n",
       "    <tr>\n",
       "      <th>13383</th>\n",
       "      <td>0</td>\n",
       "      <td>1.0</td>\n",
       "      <td>9.0</td>\n",
       "      <td>15.0</td>\n",
       "      <td>0.0</td>\n",
       "      <td>0.0</td>\n",
       "      <td>216379.0</td>\n",
       "    </tr>\n",
       "    <tr>\n",
       "      <th>13384</th>\n",
       "      <td>0</td>\n",
       "      <td>1.0</td>\n",
       "      <td>9.0</td>\n",
       "      <td>15.0</td>\n",
       "      <td>0.0</td>\n",
       "      <td>0.0</td>\n",
       "      <td>216455.0</td>\n",
       "    </tr>\n",
       "    <tr>\n",
       "      <th>13385</th>\n",
       "      <td>0</td>\n",
       "      <td>1.0</td>\n",
       "      <td>9.0</td>\n",
       "      <td>15.0</td>\n",
       "      <td>0.0</td>\n",
       "      <td>0.0</td>\n",
       "      <td>216530.0</td>\n",
       "    </tr>\n",
       "    <tr>\n",
       "      <th>13386</th>\n",
       "      <td>0</td>\n",
       "      <td>1.0</td>\n",
       "      <td>9.0</td>\n",
       "      <td>15.0</td>\n",
       "      <td>0.0</td>\n",
       "      <td>0.0</td>\n",
       "      <td>216606.0</td>\n",
       "    </tr>\n",
       "  </tbody>\n",
       "</table>\n",
       "<p>13387 rows × 7 columns</p>\n",
       "</div>"
      ],
      "text/plain": [
       "       drunken  female  grade   age  smoked  driver_license    Income\n",
       "0            1     1.0   10.0  15.0     1.0             0.0   39343.0\n",
       "1            1     1.0   10.0  18.0     1.0             1.0   46205.0\n",
       "2            1     1.0   12.0  16.0     1.0             1.0   39343.0\n",
       "3            0     0.0   11.0  17.0     0.0             1.0   43525.0\n",
       "4            0     0.0   11.0  17.0     0.0             1.0   39891.0\n",
       "...        ...     ...    ...   ...     ...             ...       ...\n",
       "13382        0     1.0    9.0  15.0     0.0             0.0  216303.0\n",
       "13383        0     1.0    9.0  15.0     0.0             0.0  216379.0\n",
       "13384        0     1.0    9.0  15.0     0.0             0.0  216455.0\n",
       "13385        0     1.0    9.0  15.0     0.0             0.0  216530.0\n",
       "13386        0     1.0    9.0  15.0     0.0             0.0  216606.0\n",
       "\n",
       "[13387 rows x 7 columns]"
      ]
     },
     "execution_count": 122,
     "metadata": {},
     "output_type": "execute_result"
    }
   ],
   "source": [
    "df"
   ]
  },
  {
   "cell_type": "code",
   "execution_count": 123,
   "id": "0e99e6c7",
   "metadata": {},
   "outputs": [
    {
     "data": {
      "text/plain": [
       "0"
      ]
     },
     "execution_count": 123,
     "metadata": {},
     "output_type": "execute_result"
    }
   ],
   "source": [
    "df.isnull().values.sum()"
   ]
  },
  {
   "cell_type": "markdown",
   "id": "1ab7e1be",
   "metadata": {},
   "source": [
    "### 21BAI1533 \n",
    "### 4) Visualize the “female” using pie chart with labels. (2 Marks)\n"
   ]
  },
  {
   "cell_type": "code",
   "execution_count": 124,
   "id": "f840f69d",
   "metadata": {},
   "outputs": [
    {
     "data": {
      "image/png": "[encoded data removed]",
      "text/plain": [
       "<Figure size 432x288 with 1 Axes>"
      ]
     },
     "metadata": {},
     "output_type": "display_data"
    }
   ],
   "source": [
    "x=df['female'].value_counts()\n",
    "label=['female','not female']\n",
    "plt.pie(x,labels=label)\n",
    "plt.show()"
   ]
  },
  {
   "cell_type": "markdown",
   "id": "59e696a2",
   "metadata": {},
   "source": [
    "### 21BAI1533\n",
    "### 5) Draw the drunken driver details in bar chart [x axis: No and Yes & Y axis: Count]. (2 Marks)\n"
   ]
  },
  {
   "cell_type": "code",
   "execution_count": 133,
   "id": "884accba",
   "metadata": {
    "scrolled": false
   },
   "outputs": [
    {
     "data": {
      "text/plain": [
       "0    9210\n",
       "1    4177\n",
       "Name: drunken, dtype: int64"
      ]
     },
     "execution_count": 133,
     "metadata": {},
     "output_type": "execute_result"
    }
   ],
   "source": [
    "x=df['drunken'].value_counts()\n",
    "x"
   ]
  },
  {
   "cell_type": "code",
   "execution_count": 126,
   "id": "e746f61f",
   "metadata": {},
   "outputs": [],
   "source": [
    "y=df['drunken']"
   ]
  },
  {
   "cell_type": "code",
   "execution_count": 127,
   "id": "18ac115f",
   "metadata": {},
   "outputs": [
    {
     "data": {
      "text/plain": [
       "<AxesSubplot:xlabel='drunken', ylabel='drunken'>"
      ]
     },
     "execution_count": 127,
     "metadata": {},
     "output_type": "execute_result"
    },
    {
     "data": {
      "image/png": "[encoded data removed]",
      "text/plain": [
       "<Figure size 432x288 with 1 Axes>"
      ]
     },
     "metadata": {
      "needs_background": "light"
     },
     "output_type": "display_data"
    }
   ],
   "source": [
    "sns.barplot(x=x,y=y,data=df)"
   ]
  },
  {
   "cell_type": "markdown",
   "id": "6d5acd92",
   "metadata": {},
   "source": [
    "### 21BAI1533\n",
    "### 6) Apply normalization on the column “Income” and add the normalized values into the new column called “IncomeV1” (2 Marks).\n"
   ]
  },
  {
   "cell_type": "code",
   "execution_count": 128,
   "id": "c21b9850",
   "metadata": {},
   "outputs": [],
   "source": [
    "df['Income']=df['Income'].astype(int)"
   ]
  },
  {
   "cell_type": "code",
   "execution_count": 129,
   "id": "184f0839",
   "metadata": {},
   "outputs": [],
   "source": [
    "mi=df['Income'].min()\n",
    "ma=df['Income'].max()"
   ]
  },
  {
   "cell_type": "code",
   "execution_count": 130,
   "id": "8ed9eaf7",
   "metadata": {},
   "outputs": [],
   "source": [
    "p=df['Income']-mi\n",
    "q=ma-mi"
   ]
  },
  {
   "cell_type": "code",
   "execution_count": 131,
   "id": "676468c2",
   "metadata": {},
   "outputs": [],
   "source": [
    "df['IncomeV1']=p/q"
   ]
  },
  {
   "cell_type": "code",
   "execution_count": 132,
   "id": "49198475",
   "metadata": {},
   "outputs": [
    {
     "data": {
      "text/html": [
       "<div>\n",
       "<style scoped>\n",
       "    .dataframe tbody tr th:only-of-type {\n",
       "        vertical-align: middle;\n",
       "    }\n",
       "\n",
       "    .dataframe tbody tr th {\n",
       "        vertical-align: top;\n",
       "    }\n",
       "\n",
       "    .dataframe thead th {\n",
       "        text-align: right;\n",
       "    }\n",
       "</style>\n",
       "<table border=\"1\" class=\"dataframe\">\n",
       "  <thead>\n",
       "    <tr style=\"text-align: right;\">\n",
       "      <th></th>\n",
       "      <th>drunken</th>\n",
       "      <th>female</th>\n",
       "      <th>grade</th>\n",
       "      <th>age</th>\n",
       "      <th>smoked</th>\n",
       "      <th>driver_license</th>\n",
       "      <th>Income</th>\n",
       "      <th>IncomeV1</th>\n",
       "    </tr>\n",
       "  </thead>\n",
       "  <tbody>\n",
       "    <tr>\n",
       "      <th>0</th>\n",
       "      <td>1</td>\n",
       "      <td>1.0</td>\n",
       "      <td>10.0</td>\n",
       "      <td>15.0</td>\n",
       "      <td>1.0</td>\n",
       "      <td>0.0</td>\n",
       "      <td>39343</td>\n",
       "      <td>0.005092</td>\n",
       "    </tr>\n",
       "    <tr>\n",
       "      <th>1</th>\n",
       "      <td>1</td>\n",
       "      <td>1.0</td>\n",
       "      <td>10.0</td>\n",
       "      <td>18.0</td>\n",
       "      <td>1.0</td>\n",
       "      <td>1.0</td>\n",
       "      <td>46205</td>\n",
       "      <td>0.026767</td>\n",
       "    </tr>\n",
       "    <tr>\n",
       "      <th>2</th>\n",
       "      <td>1</td>\n",
       "      <td>1.0</td>\n",
       "      <td>12.0</td>\n",
       "      <td>16.0</td>\n",
       "      <td>1.0</td>\n",
       "      <td>1.0</td>\n",
       "      <td>39343</td>\n",
       "      <td>0.005092</td>\n",
       "    </tr>\n",
       "    <tr>\n",
       "      <th>3</th>\n",
       "      <td>0</td>\n",
       "      <td>0.0</td>\n",
       "      <td>11.0</td>\n",
       "      <td>17.0</td>\n",
       "      <td>0.0</td>\n",
       "      <td>1.0</td>\n",
       "      <td>43525</td>\n",
       "      <td>0.018302</td>\n",
       "    </tr>\n",
       "    <tr>\n",
       "      <th>4</th>\n",
       "      <td>0</td>\n",
       "      <td>0.0</td>\n",
       "      <td>11.0</td>\n",
       "      <td>17.0</td>\n",
       "      <td>0.0</td>\n",
       "      <td>1.0</td>\n",
       "      <td>39891</td>\n",
       "      <td>0.006823</td>\n",
       "    </tr>\n",
       "    <tr>\n",
       "      <th>...</th>\n",
       "      <td>...</td>\n",
       "      <td>...</td>\n",
       "      <td>...</td>\n",
       "      <td>...</td>\n",
       "      <td>...</td>\n",
       "      <td>...</td>\n",
       "      <td>...</td>\n",
       "      <td>...</td>\n",
       "    </tr>\n",
       "    <tr>\n",
       "      <th>13382</th>\n",
       "      <td>0</td>\n",
       "      <td>1.0</td>\n",
       "      <td>9.0</td>\n",
       "      <td>15.0</td>\n",
       "      <td>0.0</td>\n",
       "      <td>0.0</td>\n",
       "      <td>216303</td>\n",
       "      <td>0.564068</td>\n",
       "    </tr>\n",
       "    <tr>\n",
       "      <th>13383</th>\n",
       "      <td>0</td>\n",
       "      <td>1.0</td>\n",
       "      <td>9.0</td>\n",
       "      <td>15.0</td>\n",
       "      <td>0.0</td>\n",
       "      <td>0.0</td>\n",
       "      <td>216379</td>\n",
       "      <td>0.564308</td>\n",
       "    </tr>\n",
       "    <tr>\n",
       "      <th>13384</th>\n",
       "      <td>0</td>\n",
       "      <td>1.0</td>\n",
       "      <td>9.0</td>\n",
       "      <td>15.0</td>\n",
       "      <td>0.0</td>\n",
       "      <td>0.0</td>\n",
       "      <td>216455</td>\n",
       "      <td>0.564548</td>\n",
       "    </tr>\n",
       "    <tr>\n",
       "      <th>13385</th>\n",
       "      <td>0</td>\n",
       "      <td>1.0</td>\n",
       "      <td>9.0</td>\n",
       "      <td>15.0</td>\n",
       "      <td>0.0</td>\n",
       "      <td>0.0</td>\n",
       "      <td>216530</td>\n",
       "      <td>0.564785</td>\n",
       "    </tr>\n",
       "    <tr>\n",
       "      <th>13386</th>\n",
       "      <td>0</td>\n",
       "      <td>1.0</td>\n",
       "      <td>9.0</td>\n",
       "      <td>15.0</td>\n",
       "      <td>0.0</td>\n",
       "      <td>0.0</td>\n",
       "      <td>216606</td>\n",
       "      <td>0.565025</td>\n",
       "    </tr>\n",
       "  </tbody>\n",
       "</table>\n",
       "<p>13387 rows × 8 columns</p>\n",
       "</div>"
      ],
      "text/plain": [
       "       drunken  female  grade   age  smoked  driver_license  Income  IncomeV1\n",
       "0            1     1.0   10.0  15.0     1.0             0.0   39343  0.005092\n",
       "1            1     1.0   10.0  18.0     1.0             1.0   46205  0.026767\n",
       "2            1     1.0   12.0  16.0     1.0             1.0   39343  0.005092\n",
       "3            0     0.0   11.0  17.0     0.0             1.0   43525  0.018302\n",
       "4            0     0.0   11.0  17.0     0.0             1.0   39891  0.006823\n",
       "...        ...     ...    ...   ...     ...             ...     ...       ...\n",
       "13382        0     1.0    9.0  15.0     0.0             0.0  216303  0.564068\n",
       "13383        0     1.0    9.0  15.0     0.0             0.0  216379  0.564308\n",
       "13384        0     1.0    9.0  15.0     0.0             0.0  216455  0.564548\n",
       "13385        0     1.0    9.0  15.0     0.0             0.0  216530  0.564785\n",
       "13386        0     1.0    9.0  15.0     0.0             0.0  216606  0.565025\n",
       "\n",
       "[13387 rows x 8 columns]"
      ]
     },
     "execution_count": 132,
     "metadata": {},
     "output_type": "execute_result"
    }
   ],
   "source": [
    "df"
   ]
  },
  {
   "cell_type": "code",
   "execution_count": null,
   "id": "1a518483",
   "metadata": {},
   "outputs": [],
   "source": []
  }
 ],
 "metadata": {
  "kernelspec": {
   "display_name": "Python 3 (ipykernel)",
   "language": "python",
   "name": "python3"
  },
  "language_info": {
   "codemirror_mode": {
    "name": "ipython",
    "version": 3
   },
   "file_extension": ".py",
   "mimetype": "text/x-python",
   "name": "python",
   "nbconvert_exporter": "python",
   "pygments_lexer": "ipython3",
   "version": "3.9.12"
  }
 },
 "nbformat": 4,
 "nbformat_minor": 5
}
