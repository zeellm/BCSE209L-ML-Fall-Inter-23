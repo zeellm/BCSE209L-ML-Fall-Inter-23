{
 "cells": [
  {
   "cell_type": "code",
   "execution_count": 107,
   "id": "538b5486",
   "metadata": {},
   "outputs": [],
   "source": [
    "import pandas as pd\n",
    "import numpy as np\n",
    "import matplotlib.pyplot as plt\n",
    "import seaborn as sns"
   ]
  },
  {
   "cell_type": "code",
   "execution_count": 108,
   "id": "79c57398",
   "metadata": {},
   "outputs": [
    {
     "data": {
      "text/html": [
       "<div>\n",
       "<style scoped>\n",
       "    .dataframe tbody tr th:only-of-type {\n",
       "        vertical-align: middle;\n",
       "    }\n",
       "\n",
       "    .dataframe tbody tr th {\n",
       "        vertical-align: top;\n",
       "    }\n",
       "\n",
       "    .dataframe thead th {\n",
       "        text-align: right;\n",
       "    }\n",
       "</style>\n",
       "<table border=\"1\" class=\"dataframe\">\n",
       "  <thead>\n",
       "    <tr style=\"text-align: right;\">\n",
       "      <th></th>\n",
       "      <th>Make</th>\n",
       "      <th>Model</th>\n",
       "      <th>Year</th>\n",
       "      <th>Engine Fuel Type</th>\n",
       "      <th>Engine HP</th>\n",
       "      <th>Engine Cylinders</th>\n",
       "      <th>Transmission Type</th>\n",
       "      <th>Driven_Wheels</th>\n",
       "      <th>Number of Doors</th>\n",
       "      <th>Market Category</th>\n",
       "      <th>Vehicle Size</th>\n",
       "      <th>Vehicle Style</th>\n",
       "      <th>highway MPG</th>\n",
       "      <th>city mpg</th>\n",
       "      <th>Popularity</th>\n",
       "      <th>MSRP</th>\n",
       "    </tr>\n",
       "  </thead>\n",
       "  <tbody>\n",
       "    <tr>\n",
       "      <th>0</th>\n",
       "      <td>BMW</td>\n",
       "      <td>1 Series M</td>\n",
       "      <td>2011</td>\n",
       "      <td>premium unleaded (required)</td>\n",
       "      <td>335.0</td>\n",
       "      <td>6.0</td>\n",
       "      <td>MANUAL</td>\n",
       "      <td>rear wheel drive</td>\n",
       "      <td>2.0</td>\n",
       "      <td>Factory Tuner,Luxury,High-Performance</td>\n",
       "      <td>Compact</td>\n",
       "      <td>Coupe</td>\n",
       "      <td>26</td>\n",
       "      <td>19</td>\n",
       "      <td>3916</td>\n",
       "      <td>46135</td>\n",
       "    </tr>\n",
       "    <tr>\n",
       "      <th>1</th>\n",
       "      <td>BMW</td>\n",
       "      <td>1 Series</td>\n",
       "      <td>2011</td>\n",
       "      <td>premium unleaded (required)</td>\n",
       "      <td>300.0</td>\n",
       "      <td>6.0</td>\n",
       "      <td>MANUAL</td>\n",
       "      <td>rear wheel drive</td>\n",
       "      <td>2.0</td>\n",
       "      <td>Luxury,Performance</td>\n",
       "      <td>Compact</td>\n",
       "      <td>Convertible</td>\n",
       "      <td>28</td>\n",
       "      <td>19</td>\n",
       "      <td>3916</td>\n",
       "      <td>40650</td>\n",
       "    </tr>\n",
       "    <tr>\n",
       "      <th>2</th>\n",
       "      <td>BMW</td>\n",
       "      <td>1 Series</td>\n",
       "      <td>2011</td>\n",
       "      <td>premium unleaded (required)</td>\n",
       "      <td>300.0</td>\n",
       "      <td>6.0</td>\n",
       "      <td>MANUAL</td>\n",
       "      <td>rear wheel drive</td>\n",
       "      <td>2.0</td>\n",
       "      <td>Luxury,High-Performance</td>\n",
       "      <td>Compact</td>\n",
       "      <td>Coupe</td>\n",
       "      <td>28</td>\n",
       "      <td>20</td>\n",
       "      <td>3916</td>\n",
       "      <td>36350</td>\n",
       "    </tr>\n",
       "    <tr>\n",
       "      <th>3</th>\n",
       "      <td>BMW</td>\n",
       "      <td>1 Series</td>\n",
       "      <td>2011</td>\n",
       "      <td>premium unleaded (required)</td>\n",
       "      <td>230.0</td>\n",
       "      <td>6.0</td>\n",
       "      <td>MANUAL</td>\n",
       "      <td>rear wheel drive</td>\n",
       "      <td>2.0</td>\n",
       "      <td>Luxury,Performance</td>\n",
       "      <td>Compact</td>\n",
       "      <td>Coupe</td>\n",
       "      <td>28</td>\n",
       "      <td>18</td>\n",
       "      <td>3916</td>\n",
       "      <td>29450</td>\n",
       "    </tr>\n",
       "    <tr>\n",
       "      <th>4</th>\n",
       "      <td>BMW</td>\n",
       "      <td>1 Series</td>\n",
       "      <td>2011</td>\n",
       "      <td>premium unleaded (required)</td>\n",
       "      <td>230.0</td>\n",
       "      <td>6.0</td>\n",
       "      <td>MANUAL</td>\n",
       "      <td>rear wheel drive</td>\n",
       "      <td>2.0</td>\n",
       "      <td>Luxury</td>\n",
       "      <td>Compact</td>\n",
       "      <td>Convertible</td>\n",
       "      <td>28</td>\n",
       "      <td>18</td>\n",
       "      <td>3916</td>\n",
       "      <td>34500</td>\n",
       "    </tr>\n",
       "  </tbody>\n",
       "</table>\n",
       "</div>"
      ],
      "text/plain": [
       "  Make       Model  Year             Engine Fuel Type  Engine HP  \\\n",
       "0  BMW  1 Series M  2011  premium unleaded (required)      335.0   \n",
       "1  BMW    1 Series  2011  premium unleaded (required)      300.0   \n",
       "2  BMW    1 Series  2011  premium unleaded (required)      300.0   \n",
       "3  BMW    1 Series  2011  premium unleaded (required)      230.0   \n",
       "4  BMW    1 Series  2011  premium unleaded (required)      230.0   \n",
       "\n",
       "   Engine Cylinders Transmission Type     Driven_Wheels  Number of Doors  \\\n",
       "0               6.0            MANUAL  rear wheel drive              2.0   \n",
       "1               6.0            MANUAL  rear wheel drive              2.0   \n",
       "2               6.0            MANUAL  rear wheel drive              2.0   \n",
       "3               6.0            MANUAL  rear wheel drive              2.0   \n",
       "4               6.0            MANUAL  rear wheel drive              2.0   \n",
       "\n",
       "                         Market Category Vehicle Size Vehicle Style  \\\n",
       "0  Factory Tuner,Luxury,High-Performance      Compact         Coupe   \n",
       "1                     Luxury,Performance      Compact   Convertible   \n",
       "2                Luxury,High-Performance      Compact         Coupe   \n",
       "3                     Luxury,Performance      Compact         Coupe   \n",
       "4                                 Luxury      Compact   Convertible   \n",
       "\n",
       "   highway MPG  city mpg  Popularity   MSRP  \n",
       "0           26        19        3916  46135  \n",
       "1           28        19        3916  40650  \n",
       "2           28        20        3916  36350  \n",
       "3           28        18        3916  29450  \n",
       "4           28        18        3916  34500  "
      ]
     },
     "execution_count": 108,
     "metadata": {},
     "output_type": "execute_result"
    }
   ],
   "source": [
    "df=pd.read_csv('data.csv')\n",
    "df.head()"
   ]
  },
  {
   "cell_type": "code",
   "execution_count": 109,
   "id": "58d43901",
   "metadata": {},
   "outputs": [
    {
     "data": {
      "text/plain": [
       "Index(['Make', 'Model', 'Year', 'Engine Fuel Type', 'Engine HP',\n",
       "       'Engine Cylinders', 'Transmission Type', 'Driven_Wheels',\n",
       "       'Number of Doors', 'Market Category', 'Vehicle Size', 'Vehicle Style',\n",
       "       'highway MPG', 'city mpg', 'Popularity', 'MSRP'],\n",
       "      dtype='object')"
      ]
     },
     "execution_count": 109,
     "metadata": {},
     "output_type": "execute_result"
    }
   ],
   "source": [
    "df.columns"
   ]
  },
  {
   "cell_type": "code",
   "execution_count": 110,
   "id": "bbb961fc",
   "metadata": {},
   "outputs": [
    {
     "data": {
      "text/plain": [
       "Make                  object\n",
       "Model                 object\n",
       "Year                   int64\n",
       "Engine Fuel Type      object\n",
       "Engine HP            float64\n",
       "Engine Cylinders     float64\n",
       "Transmission Type     object\n",
       "Driven_Wheels         object\n",
       "Number of Doors      float64\n",
       "Market Category       object\n",
       "Vehicle Size          object\n",
       "Vehicle Style         object\n",
       "highway MPG            int64\n",
       "city mpg               int64\n",
       "Popularity             int64\n",
       "MSRP                   int64\n",
       "dtype: object"
      ]
     },
     "execution_count": 110,
     "metadata": {},
     "output_type": "execute_result"
    }
   ],
   "source": [
    "df.dtypes"
   ]
  },
  {
   "cell_type": "code",
   "execution_count": 111,
   "id": "1ddc260b",
   "metadata": {},
   "outputs": [
    {
     "data": {
      "text/html": [
       "<div>\n",
       "<style scoped>\n",
       "    .dataframe tbody tr th:only-of-type {\n",
       "        vertical-align: middle;\n",
       "    }\n",
       "\n",
       "    .dataframe tbody tr th {\n",
       "        vertical-align: top;\n",
       "    }\n",
       "\n",
       "    .dataframe thead th {\n",
       "        text-align: right;\n",
       "    }\n",
       "</style>\n",
       "<table border=\"1\" class=\"dataframe\">\n",
       "  <thead>\n",
       "    <tr style=\"text-align: right;\">\n",
       "      <th></th>\n",
       "      <th>Year</th>\n",
       "      <th>Engine HP</th>\n",
       "      <th>Engine Cylinders</th>\n",
       "      <th>Number of Doors</th>\n",
       "      <th>highway MPG</th>\n",
       "      <th>city mpg</th>\n",
       "      <th>Popularity</th>\n",
       "      <th>MSRP</th>\n",
       "    </tr>\n",
       "  </thead>\n",
       "  <tbody>\n",
       "    <tr>\n",
       "      <th>count</th>\n",
       "      <td>11914.000000</td>\n",
       "      <td>11845.00000</td>\n",
       "      <td>11884.000000</td>\n",
       "      <td>11908.000000</td>\n",
       "      <td>11914.000000</td>\n",
       "      <td>11914.000000</td>\n",
       "      <td>11914.000000</td>\n",
       "      <td>1.191400e+04</td>\n",
       "    </tr>\n",
       "    <tr>\n",
       "      <th>mean</th>\n",
       "      <td>2010.384338</td>\n",
       "      <td>249.38607</td>\n",
       "      <td>5.628829</td>\n",
       "      <td>3.436093</td>\n",
       "      <td>26.637485</td>\n",
       "      <td>19.733255</td>\n",
       "      <td>1554.911197</td>\n",
       "      <td>4.059474e+04</td>\n",
       "    </tr>\n",
       "    <tr>\n",
       "      <th>std</th>\n",
       "      <td>7.579740</td>\n",
       "      <td>109.19187</td>\n",
       "      <td>1.780559</td>\n",
       "      <td>0.881315</td>\n",
       "      <td>8.863001</td>\n",
       "      <td>8.987798</td>\n",
       "      <td>1441.855347</td>\n",
       "      <td>6.010910e+04</td>\n",
       "    </tr>\n",
       "    <tr>\n",
       "      <th>min</th>\n",
       "      <td>1990.000000</td>\n",
       "      <td>55.00000</td>\n",
       "      <td>0.000000</td>\n",
       "      <td>2.000000</td>\n",
       "      <td>12.000000</td>\n",
       "      <td>7.000000</td>\n",
       "      <td>2.000000</td>\n",
       "      <td>2.000000e+03</td>\n",
       "    </tr>\n",
       "    <tr>\n",
       "      <th>25%</th>\n",
       "      <td>2007.000000</td>\n",
       "      <td>170.00000</td>\n",
       "      <td>4.000000</td>\n",
       "      <td>2.000000</td>\n",
       "      <td>22.000000</td>\n",
       "      <td>16.000000</td>\n",
       "      <td>549.000000</td>\n",
       "      <td>2.100000e+04</td>\n",
       "    </tr>\n",
       "    <tr>\n",
       "      <th>50%</th>\n",
       "      <td>2015.000000</td>\n",
       "      <td>227.00000</td>\n",
       "      <td>6.000000</td>\n",
       "      <td>4.000000</td>\n",
       "      <td>26.000000</td>\n",
       "      <td>18.000000</td>\n",
       "      <td>1385.000000</td>\n",
       "      <td>2.999500e+04</td>\n",
       "    </tr>\n",
       "    <tr>\n",
       "      <th>75%</th>\n",
       "      <td>2016.000000</td>\n",
       "      <td>300.00000</td>\n",
       "      <td>6.000000</td>\n",
       "      <td>4.000000</td>\n",
       "      <td>30.000000</td>\n",
       "      <td>22.000000</td>\n",
       "      <td>2009.000000</td>\n",
       "      <td>4.223125e+04</td>\n",
       "    </tr>\n",
       "    <tr>\n",
       "      <th>max</th>\n",
       "      <td>2017.000000</td>\n",
       "      <td>1001.00000</td>\n",
       "      <td>16.000000</td>\n",
       "      <td>4.000000</td>\n",
       "      <td>354.000000</td>\n",
       "      <td>137.000000</td>\n",
       "      <td>5657.000000</td>\n",
       "      <td>2.065902e+06</td>\n",
       "    </tr>\n",
       "  </tbody>\n",
       "</table>\n",
       "</div>"
      ],
      "text/plain": [
       "               Year    Engine HP  Engine Cylinders  Number of Doors  \\\n",
       "count  11914.000000  11845.00000      11884.000000     11908.000000   \n",
       "mean    2010.384338    249.38607          5.628829         3.436093   \n",
       "std        7.579740    109.19187          1.780559         0.881315   \n",
       "min     1990.000000     55.00000          0.000000         2.000000   \n",
       "25%     2007.000000    170.00000          4.000000         2.000000   \n",
       "50%     2015.000000    227.00000          6.000000         4.000000   \n",
       "75%     2016.000000    300.00000          6.000000         4.000000   \n",
       "max     2017.000000   1001.00000         16.000000         4.000000   \n",
       "\n",
       "        highway MPG      city mpg    Popularity          MSRP  \n",
       "count  11914.000000  11914.000000  11914.000000  1.191400e+04  \n",
       "mean      26.637485     19.733255   1554.911197  4.059474e+04  \n",
       "std        8.863001      8.987798   1441.855347  6.010910e+04  \n",
       "min       12.000000      7.000000      2.000000  2.000000e+03  \n",
       "25%       22.000000     16.000000    549.000000  2.100000e+04  \n",
       "50%       26.000000     18.000000   1385.000000  2.999500e+04  \n",
       "75%       30.000000     22.000000   2009.000000  4.223125e+04  \n",
       "max      354.000000    137.000000   5657.000000  2.065902e+06  "
      ]
     },
     "execution_count": 111,
     "metadata": {},
     "output_type": "execute_result"
    }
   ],
   "source": [
    "df.describe()"
   ]
  },
  {
   "cell_type": "code",
   "execution_count": 112,
   "id": "4c465b13",
   "metadata": {},
   "outputs": [
    {
     "name": "stdout",
     "output_type": "stream",
     "text": [
      "<class 'pandas.core.frame.DataFrame'>\n",
      "RangeIndex: 11914 entries, 0 to 11913\n",
      "Data columns (total 16 columns):\n",
      " #   Column             Non-Null Count  Dtype  \n",
      "---  ------             --------------  -----  \n",
      " 0   Make               11914 non-null  object \n",
      " 1   Model              11914 non-null  object \n",
      " 2   Year               11914 non-null  int64  \n",
      " 3   Engine Fuel Type   11911 non-null  object \n",
      " 4   Engine HP          11845 non-null  float64\n",
      " 5   Engine Cylinders   11884 non-null  float64\n",
      " 6   Transmission Type  11914 non-null  object \n",
      " 7   Driven_Wheels      11914 non-null  object \n",
      " 8   Number of Doors    11908 non-null  float64\n",
      " 9   Market Category    8172 non-null   object \n",
      " 10  Vehicle Size       11914 non-null  object \n",
      " 11  Vehicle Style      11914 non-null  object \n",
      " 12  highway MPG        11914 non-null  int64  \n",
      " 13  city mpg           11914 non-null  int64  \n",
      " 14  Popularity         11914 non-null  int64  \n",
      " 15  MSRP               11914 non-null  int64  \n",
      "dtypes: float64(3), int64(5), object(8)\n",
      "memory usage: 1.5+ MB\n"
     ]
    }
   ],
   "source": [
    "df.info()"
   ]
  },
  {
   "cell_type": "code",
   "execution_count": 113,
   "id": "1d5f6690",
   "metadata": {},
   "outputs": [
    {
     "data": {
      "text/html": [
       "<div>\n",
       "<style scoped>\n",
       "    .dataframe tbody tr th:only-of-type {\n",
       "        vertical-align: middle;\n",
       "    }\n",
       "\n",
       "    .dataframe tbody tr th {\n",
       "        vertical-align: top;\n",
       "    }\n",
       "\n",
       "    .dataframe thead th {\n",
       "        text-align: right;\n",
       "    }\n",
       "</style>\n",
       "<table border=\"1\" class=\"dataframe\">\n",
       "  <thead>\n",
       "    <tr style=\"text-align: right;\">\n",
       "      <th></th>\n",
       "      <th>Make</th>\n",
       "      <th>Model</th>\n",
       "      <th>Year</th>\n",
       "      <th>Engine HP</th>\n",
       "      <th>Engine Cylinders</th>\n",
       "      <th>Transmission Type</th>\n",
       "      <th>Driven_Wheels</th>\n",
       "      <th>highway MPG</th>\n",
       "      <th>city mpg</th>\n",
       "      <th>MSRP</th>\n",
       "    </tr>\n",
       "  </thead>\n",
       "  <tbody>\n",
       "    <tr>\n",
       "      <th>0</th>\n",
       "      <td>BMW</td>\n",
       "      <td>1 Series M</td>\n",
       "      <td>2011</td>\n",
       "      <td>335.0</td>\n",
       "      <td>6.0</td>\n",
       "      <td>MANUAL</td>\n",
       "      <td>rear wheel drive</td>\n",
       "      <td>26</td>\n",
       "      <td>19</td>\n",
       "      <td>46135</td>\n",
       "    </tr>\n",
       "    <tr>\n",
       "      <th>1</th>\n",
       "      <td>BMW</td>\n",
       "      <td>1 Series</td>\n",
       "      <td>2011</td>\n",
       "      <td>300.0</td>\n",
       "      <td>6.0</td>\n",
       "      <td>MANUAL</td>\n",
       "      <td>rear wheel drive</td>\n",
       "      <td>28</td>\n",
       "      <td>19</td>\n",
       "      <td>40650</td>\n",
       "    </tr>\n",
       "    <tr>\n",
       "      <th>2</th>\n",
       "      <td>BMW</td>\n",
       "      <td>1 Series</td>\n",
       "      <td>2011</td>\n",
       "      <td>300.0</td>\n",
       "      <td>6.0</td>\n",
       "      <td>MANUAL</td>\n",
       "      <td>rear wheel drive</td>\n",
       "      <td>28</td>\n",
       "      <td>20</td>\n",
       "      <td>36350</td>\n",
       "    </tr>\n",
       "    <tr>\n",
       "      <th>3</th>\n",
       "      <td>BMW</td>\n",
       "      <td>1 Series</td>\n",
       "      <td>2011</td>\n",
       "      <td>230.0</td>\n",
       "      <td>6.0</td>\n",
       "      <td>MANUAL</td>\n",
       "      <td>rear wheel drive</td>\n",
       "      <td>28</td>\n",
       "      <td>18</td>\n",
       "      <td>29450</td>\n",
       "    </tr>\n",
       "    <tr>\n",
       "      <th>4</th>\n",
       "      <td>BMW</td>\n",
       "      <td>1 Series</td>\n",
       "      <td>2011</td>\n",
       "      <td>230.0</td>\n",
       "      <td>6.0</td>\n",
       "      <td>MANUAL</td>\n",
       "      <td>rear wheel drive</td>\n",
       "      <td>28</td>\n",
       "      <td>18</td>\n",
       "      <td>34500</td>\n",
       "    </tr>\n",
       "  </tbody>\n",
       "</table>\n",
       "</div>"
      ],
      "text/plain": [
       "  Make       Model  Year  Engine HP  Engine Cylinders Transmission Type  \\\n",
       "0  BMW  1 Series M  2011      335.0               6.0            MANUAL   \n",
       "1  BMW    1 Series  2011      300.0               6.0            MANUAL   \n",
       "2  BMW    1 Series  2011      300.0               6.0            MANUAL   \n",
       "3  BMW    1 Series  2011      230.0               6.0            MANUAL   \n",
       "4  BMW    1 Series  2011      230.0               6.0            MANUAL   \n",
       "\n",
       "      Driven_Wheels  highway MPG  city mpg   MSRP  \n",
       "0  rear wheel drive           26        19  46135  \n",
       "1  rear wheel drive           28        19  40650  \n",
       "2  rear wheel drive           28        20  36350  \n",
       "3  rear wheel drive           28        18  29450  \n",
       "4  rear wheel drive           28        18  34500  "
      ]
     },
     "execution_count": 113,
     "metadata": {},
     "output_type": "execute_result"
    }
   ],
   "source": [
    "drp=['Engine Fuel Type','Market Category','Vehicle Style','Popularity', 'Number of Doors', 'Vehicle Size']\n",
    "df=df.drop(drp,axis=1)\n",
    "df.head()"
   ]
  },
  {
   "cell_type": "code",
   "execution_count": 114,
   "id": "61f2f78b",
   "metadata": {},
   "outputs": [
    {
     "data": {
      "text/html": [
       "<div>\n",
       "<style scoped>\n",
       "    .dataframe tbody tr th:only-of-type {\n",
       "        vertical-align: middle;\n",
       "    }\n",
       "\n",
       "    .dataframe tbody tr th {\n",
       "        vertical-align: top;\n",
       "    }\n",
       "\n",
       "    .dataframe thead th {\n",
       "        text-align: right;\n",
       "    }\n",
       "</style>\n",
       "<table border=\"1\" class=\"dataframe\">\n",
       "  <thead>\n",
       "    <tr style=\"text-align: right;\">\n",
       "      <th></th>\n",
       "      <th>Make</th>\n",
       "      <th>Model</th>\n",
       "      <th>Year</th>\n",
       "      <th>HP</th>\n",
       "      <th>Cylinders</th>\n",
       "      <th>Transmission</th>\n",
       "      <th>Drive Mode</th>\n",
       "      <th>MPG-H</th>\n",
       "      <th>MPG-C</th>\n",
       "      <th>Price</th>\n",
       "    </tr>\n",
       "  </thead>\n",
       "  <tbody>\n",
       "    <tr>\n",
       "      <th>0</th>\n",
       "      <td>BMW</td>\n",
       "      <td>1 Series M</td>\n",
       "      <td>2011</td>\n",
       "      <td>335.0</td>\n",
       "      <td>6.0</td>\n",
       "      <td>MANUAL</td>\n",
       "      <td>rear wheel drive</td>\n",
       "      <td>26</td>\n",
       "      <td>19</td>\n",
       "      <td>46135</td>\n",
       "    </tr>\n",
       "    <tr>\n",
       "      <th>1</th>\n",
       "      <td>BMW</td>\n",
       "      <td>1 Series</td>\n",
       "      <td>2011</td>\n",
       "      <td>300.0</td>\n",
       "      <td>6.0</td>\n",
       "      <td>MANUAL</td>\n",
       "      <td>rear wheel drive</td>\n",
       "      <td>28</td>\n",
       "      <td>19</td>\n",
       "      <td>40650</td>\n",
       "    </tr>\n",
       "    <tr>\n",
       "      <th>2</th>\n",
       "      <td>BMW</td>\n",
       "      <td>1 Series</td>\n",
       "      <td>2011</td>\n",
       "      <td>300.0</td>\n",
       "      <td>6.0</td>\n",
       "      <td>MANUAL</td>\n",
       "      <td>rear wheel drive</td>\n",
       "      <td>28</td>\n",
       "      <td>20</td>\n",
       "      <td>36350</td>\n",
       "    </tr>\n",
       "    <tr>\n",
       "      <th>3</th>\n",
       "      <td>BMW</td>\n",
       "      <td>1 Series</td>\n",
       "      <td>2011</td>\n",
       "      <td>230.0</td>\n",
       "      <td>6.0</td>\n",
       "      <td>MANUAL</td>\n",
       "      <td>rear wheel drive</td>\n",
       "      <td>28</td>\n",
       "      <td>18</td>\n",
       "      <td>29450</td>\n",
       "    </tr>\n",
       "    <tr>\n",
       "      <th>4</th>\n",
       "      <td>BMW</td>\n",
       "      <td>1 Series</td>\n",
       "      <td>2011</td>\n",
       "      <td>230.0</td>\n",
       "      <td>6.0</td>\n",
       "      <td>MANUAL</td>\n",
       "      <td>rear wheel drive</td>\n",
       "      <td>28</td>\n",
       "      <td>18</td>\n",
       "      <td>34500</td>\n",
       "    </tr>\n",
       "  </tbody>\n",
       "</table>\n",
       "</div>"
      ],
      "text/plain": [
       "  Make       Model  Year     HP  Cylinders Transmission        Drive Mode  \\\n",
       "0  BMW  1 Series M  2011  335.0        6.0       MANUAL  rear wheel drive   \n",
       "1  BMW    1 Series  2011  300.0        6.0       MANUAL  rear wheel drive   \n",
       "2  BMW    1 Series  2011  300.0        6.0       MANUAL  rear wheel drive   \n",
       "3  BMW    1 Series  2011  230.0        6.0       MANUAL  rear wheel drive   \n",
       "4  BMW    1 Series  2011  230.0        6.0       MANUAL  rear wheel drive   \n",
       "\n",
       "   MPG-H  MPG-C  Price  \n",
       "0     26     19  46135  \n",
       "1     28     19  40650  \n",
       "2     28     20  36350  \n",
       "3     28     18  29450  \n",
       "4     28     18  34500  "
      ]
     },
     "execution_count": 114,
     "metadata": {},
     "output_type": "execute_result"
    }
   ],
   "source": [
    "x={\"Engine HP\": \"HP\", \n",
    "   \"Engine Cylinders\": \"Cylinders\", \n",
    "   \"Transmission Type\": \"Transmission\", \n",
    "   \"Driven_Wheels\": \"Drive Mode\", \n",
    "   \"highway MPG\": \"MPG-H\", \n",
    "   \"city mpg\": \n",
    "   \"MPG-C\", \n",
    "   \"MSRP\": \"Price\"}\n",
    "df.rename(columns=x,inplace=True)\n",
    "df.head()"
   ]
  },
  {
   "cell_type": "code",
   "execution_count": 115,
   "id": "24e41346",
   "metadata": {},
   "outputs": [
    {
     "data": {
      "text/html": [
       "<div>\n",
       "<style scoped>\n",
       "    .dataframe tbody tr th:only-of-type {\n",
       "        vertical-align: middle;\n",
       "    }\n",
       "\n",
       "    .dataframe tbody tr th {\n",
       "        vertical-align: top;\n",
       "    }\n",
       "\n",
       "    .dataframe thead th {\n",
       "        text-align: right;\n",
       "    }\n",
       "</style>\n",
       "<table border=\"1\" class=\"dataframe\">\n",
       "  <thead>\n",
       "    <tr style=\"text-align: right;\">\n",
       "      <th></th>\n",
       "      <th>Make</th>\n",
       "      <th>Model</th>\n",
       "      <th>Year</th>\n",
       "      <th>HP</th>\n",
       "      <th>Cylinders</th>\n",
       "      <th>Transmission</th>\n",
       "      <th>Drive Mode</th>\n",
       "      <th>MPG-H</th>\n",
       "      <th>MPG-C</th>\n",
       "      <th>Price</th>\n",
       "    </tr>\n",
       "  </thead>\n",
       "  <tbody>\n",
       "    <tr>\n",
       "      <th>14</th>\n",
       "      <td>BMW</td>\n",
       "      <td>1 Series</td>\n",
       "      <td>2013</td>\n",
       "      <td>230.0</td>\n",
       "      <td>6.0</td>\n",
       "      <td>MANUAL</td>\n",
       "      <td>rear wheel drive</td>\n",
       "      <td>28</td>\n",
       "      <td>19</td>\n",
       "      <td>31500</td>\n",
       "    </tr>\n",
       "    <tr>\n",
       "      <th>18</th>\n",
       "      <td>Audi</td>\n",
       "      <td>100</td>\n",
       "      <td>1992</td>\n",
       "      <td>172.0</td>\n",
       "      <td>6.0</td>\n",
       "      <td>MANUAL</td>\n",
       "      <td>front wheel drive</td>\n",
       "      <td>24</td>\n",
       "      <td>17</td>\n",
       "      <td>2000</td>\n",
       "    </tr>\n",
       "    <tr>\n",
       "      <th>20</th>\n",
       "      <td>Audi</td>\n",
       "      <td>100</td>\n",
       "      <td>1992</td>\n",
       "      <td>172.0</td>\n",
       "      <td>6.0</td>\n",
       "      <td>MANUAL</td>\n",
       "      <td>front wheel drive</td>\n",
       "      <td>24</td>\n",
       "      <td>17</td>\n",
       "      <td>2000</td>\n",
       "    </tr>\n",
       "    <tr>\n",
       "      <th>24</th>\n",
       "      <td>Audi</td>\n",
       "      <td>100</td>\n",
       "      <td>1993</td>\n",
       "      <td>172.0</td>\n",
       "      <td>6.0</td>\n",
       "      <td>MANUAL</td>\n",
       "      <td>front wheel drive</td>\n",
       "      <td>24</td>\n",
       "      <td>17</td>\n",
       "      <td>2000</td>\n",
       "    </tr>\n",
       "    <tr>\n",
       "      <th>25</th>\n",
       "      <td>Audi</td>\n",
       "      <td>100</td>\n",
       "      <td>1993</td>\n",
       "      <td>172.0</td>\n",
       "      <td>6.0</td>\n",
       "      <td>MANUAL</td>\n",
       "      <td>front wheel drive</td>\n",
       "      <td>24</td>\n",
       "      <td>17</td>\n",
       "      <td>2000</td>\n",
       "    </tr>\n",
       "    <tr>\n",
       "      <th>...</th>\n",
       "      <td>...</td>\n",
       "      <td>...</td>\n",
       "      <td>...</td>\n",
       "      <td>...</td>\n",
       "      <td>...</td>\n",
       "      <td>...</td>\n",
       "      <td>...</td>\n",
       "      <td>...</td>\n",
       "      <td>...</td>\n",
       "      <td>...</td>\n",
       "    </tr>\n",
       "    <tr>\n",
       "      <th>11481</th>\n",
       "      <td>Suzuki</td>\n",
       "      <td>X-90</td>\n",
       "      <td>1998</td>\n",
       "      <td>95.0</td>\n",
       "      <td>4.0</td>\n",
       "      <td>MANUAL</td>\n",
       "      <td>four wheel drive</td>\n",
       "      <td>26</td>\n",
       "      <td>22</td>\n",
       "      <td>2000</td>\n",
       "    </tr>\n",
       "    <tr>\n",
       "      <th>11603</th>\n",
       "      <td>Volvo</td>\n",
       "      <td>XC60</td>\n",
       "      <td>2017</td>\n",
       "      <td>302.0</td>\n",
       "      <td>4.0</td>\n",
       "      <td>AUTOMATIC</td>\n",
       "      <td>all wheel drive</td>\n",
       "      <td>29</td>\n",
       "      <td>20</td>\n",
       "      <td>46350</td>\n",
       "    </tr>\n",
       "    <tr>\n",
       "      <th>11604</th>\n",
       "      <td>Volvo</td>\n",
       "      <td>XC60</td>\n",
       "      <td>2017</td>\n",
       "      <td>240.0</td>\n",
       "      <td>4.0</td>\n",
       "      <td>AUTOMATIC</td>\n",
       "      <td>front wheel drive</td>\n",
       "      <td>30</td>\n",
       "      <td>23</td>\n",
       "      <td>40950</td>\n",
       "    </tr>\n",
       "    <tr>\n",
       "      <th>11708</th>\n",
       "      <td>Suzuki</td>\n",
       "      <td>XL7</td>\n",
       "      <td>2008</td>\n",
       "      <td>252.0</td>\n",
       "      <td>6.0</td>\n",
       "      <td>AUTOMATIC</td>\n",
       "      <td>all wheel drive</td>\n",
       "      <td>22</td>\n",
       "      <td>15</td>\n",
       "      <td>29149</td>\n",
       "    </tr>\n",
       "    <tr>\n",
       "      <th>11717</th>\n",
       "      <td>Suzuki</td>\n",
       "      <td>XL7</td>\n",
       "      <td>2008</td>\n",
       "      <td>252.0</td>\n",
       "      <td>6.0</td>\n",
       "      <td>AUTOMATIC</td>\n",
       "      <td>front wheel drive</td>\n",
       "      <td>22</td>\n",
       "      <td>16</td>\n",
       "      <td>27499</td>\n",
       "    </tr>\n",
       "  </tbody>\n",
       "</table>\n",
       "<p>989 rows × 10 columns</p>\n",
       "</div>"
      ],
      "text/plain": [
       "         Make     Model  Year     HP  Cylinders Transmission  \\\n",
       "14        BMW  1 Series  2013  230.0        6.0       MANUAL   \n",
       "18       Audi       100  1992  172.0        6.0       MANUAL   \n",
       "20       Audi       100  1992  172.0        6.0       MANUAL   \n",
       "24       Audi       100  1993  172.0        6.0       MANUAL   \n",
       "25       Audi       100  1993  172.0        6.0       MANUAL   \n",
       "...       ...       ...   ...    ...        ...          ...   \n",
       "11481  Suzuki      X-90  1998   95.0        4.0       MANUAL   \n",
       "11603   Volvo      XC60  2017  302.0        4.0    AUTOMATIC   \n",
       "11604   Volvo      XC60  2017  240.0        4.0    AUTOMATIC   \n",
       "11708  Suzuki       XL7  2008  252.0        6.0    AUTOMATIC   \n",
       "11717  Suzuki       XL7  2008  252.0        6.0    AUTOMATIC   \n",
       "\n",
       "              Drive Mode  MPG-H  MPG-C  Price  \n",
       "14      rear wheel drive     28     19  31500  \n",
       "18     front wheel drive     24     17   2000  \n",
       "20     front wheel drive     24     17   2000  \n",
       "24     front wheel drive     24     17   2000  \n",
       "25     front wheel drive     24     17   2000  \n",
       "...                  ...    ...    ...    ...  \n",
       "11481   four wheel drive     26     22   2000  \n",
       "11603    all wheel drive     29     20  46350  \n",
       "11604  front wheel drive     30     23  40950  \n",
       "11708    all wheel drive     22     15  29149  \n",
       "11717  front wheel drive     22     16  27499  \n",
       "\n",
       "[989 rows x 10 columns]"
      ]
     },
     "execution_count": 115,
     "metadata": {},
     "output_type": "execute_result"
    }
   ],
   "source": [
    "df[df.duplicated()]"
   ]
  },
  {
   "cell_type": "code",
   "execution_count": 116,
   "id": "170e2e92",
   "metadata": {},
   "outputs": [
    {
     "data": {
      "text/html": [
       "<div>\n",
       "<style scoped>\n",
       "    .dataframe tbody tr th:only-of-type {\n",
       "        vertical-align: middle;\n",
       "    }\n",
       "\n",
       "    .dataframe tbody tr th {\n",
       "        vertical-align: top;\n",
       "    }\n",
       "\n",
       "    .dataframe thead th {\n",
       "        text-align: right;\n",
       "    }\n",
       "</style>\n",
       "<table border=\"1\" class=\"dataframe\">\n",
       "  <thead>\n",
       "    <tr style=\"text-align: right;\">\n",
       "      <th></th>\n",
       "      <th>Make</th>\n",
       "      <th>Model</th>\n",
       "      <th>Year</th>\n",
       "      <th>HP</th>\n",
       "      <th>Cylinders</th>\n",
       "      <th>Transmission</th>\n",
       "      <th>Drive Mode</th>\n",
       "      <th>MPG-H</th>\n",
       "      <th>MPG-C</th>\n",
       "      <th>Price</th>\n",
       "    </tr>\n",
       "  </thead>\n",
       "  <tbody>\n",
       "    <tr>\n",
       "      <th>0</th>\n",
       "      <td>BMW</td>\n",
       "      <td>1 Series M</td>\n",
       "      <td>2011</td>\n",
       "      <td>335.0</td>\n",
       "      <td>6.0</td>\n",
       "      <td>MANUAL</td>\n",
       "      <td>rear wheel drive</td>\n",
       "      <td>26</td>\n",
       "      <td>19</td>\n",
       "      <td>46135</td>\n",
       "    </tr>\n",
       "    <tr>\n",
       "      <th>1</th>\n",
       "      <td>BMW</td>\n",
       "      <td>1 Series</td>\n",
       "      <td>2011</td>\n",
       "      <td>300.0</td>\n",
       "      <td>6.0</td>\n",
       "      <td>MANUAL</td>\n",
       "      <td>rear wheel drive</td>\n",
       "      <td>28</td>\n",
       "      <td>19</td>\n",
       "      <td>40650</td>\n",
       "    </tr>\n",
       "    <tr>\n",
       "      <th>2</th>\n",
       "      <td>BMW</td>\n",
       "      <td>1 Series</td>\n",
       "      <td>2011</td>\n",
       "      <td>300.0</td>\n",
       "      <td>6.0</td>\n",
       "      <td>MANUAL</td>\n",
       "      <td>rear wheel drive</td>\n",
       "      <td>28</td>\n",
       "      <td>20</td>\n",
       "      <td>36350</td>\n",
       "    </tr>\n",
       "    <tr>\n",
       "      <th>3</th>\n",
       "      <td>BMW</td>\n",
       "      <td>1 Series</td>\n",
       "      <td>2011</td>\n",
       "      <td>230.0</td>\n",
       "      <td>6.0</td>\n",
       "      <td>MANUAL</td>\n",
       "      <td>rear wheel drive</td>\n",
       "      <td>28</td>\n",
       "      <td>18</td>\n",
       "      <td>29450</td>\n",
       "    </tr>\n",
       "    <tr>\n",
       "      <th>4</th>\n",
       "      <td>BMW</td>\n",
       "      <td>1 Series</td>\n",
       "      <td>2011</td>\n",
       "      <td>230.0</td>\n",
       "      <td>6.0</td>\n",
       "      <td>MANUAL</td>\n",
       "      <td>rear wheel drive</td>\n",
       "      <td>28</td>\n",
       "      <td>18</td>\n",
       "      <td>34500</td>\n",
       "    </tr>\n",
       "    <tr>\n",
       "      <th>...</th>\n",
       "      <td>...</td>\n",
       "      <td>...</td>\n",
       "      <td>...</td>\n",
       "      <td>...</td>\n",
       "      <td>...</td>\n",
       "      <td>...</td>\n",
       "      <td>...</td>\n",
       "      <td>...</td>\n",
       "      <td>...</td>\n",
       "      <td>...</td>\n",
       "    </tr>\n",
       "    <tr>\n",
       "      <th>11909</th>\n",
       "      <td>Acura</td>\n",
       "      <td>ZDX</td>\n",
       "      <td>2012</td>\n",
       "      <td>300.0</td>\n",
       "      <td>6.0</td>\n",
       "      <td>AUTOMATIC</td>\n",
       "      <td>all wheel drive</td>\n",
       "      <td>23</td>\n",
       "      <td>16</td>\n",
       "      <td>46120</td>\n",
       "    </tr>\n",
       "    <tr>\n",
       "      <th>11910</th>\n",
       "      <td>Acura</td>\n",
       "      <td>ZDX</td>\n",
       "      <td>2012</td>\n",
       "      <td>300.0</td>\n",
       "      <td>6.0</td>\n",
       "      <td>AUTOMATIC</td>\n",
       "      <td>all wheel drive</td>\n",
       "      <td>23</td>\n",
       "      <td>16</td>\n",
       "      <td>56670</td>\n",
       "    </tr>\n",
       "    <tr>\n",
       "      <th>11911</th>\n",
       "      <td>Acura</td>\n",
       "      <td>ZDX</td>\n",
       "      <td>2012</td>\n",
       "      <td>300.0</td>\n",
       "      <td>6.0</td>\n",
       "      <td>AUTOMATIC</td>\n",
       "      <td>all wheel drive</td>\n",
       "      <td>23</td>\n",
       "      <td>16</td>\n",
       "      <td>50620</td>\n",
       "    </tr>\n",
       "    <tr>\n",
       "      <th>11912</th>\n",
       "      <td>Acura</td>\n",
       "      <td>ZDX</td>\n",
       "      <td>2013</td>\n",
       "      <td>300.0</td>\n",
       "      <td>6.0</td>\n",
       "      <td>AUTOMATIC</td>\n",
       "      <td>all wheel drive</td>\n",
       "      <td>23</td>\n",
       "      <td>16</td>\n",
       "      <td>50920</td>\n",
       "    </tr>\n",
       "    <tr>\n",
       "      <th>11913</th>\n",
       "      <td>Lincoln</td>\n",
       "      <td>Zephyr</td>\n",
       "      <td>2006</td>\n",
       "      <td>221.0</td>\n",
       "      <td>6.0</td>\n",
       "      <td>AUTOMATIC</td>\n",
       "      <td>front wheel drive</td>\n",
       "      <td>26</td>\n",
       "      <td>17</td>\n",
       "      <td>28995</td>\n",
       "    </tr>\n",
       "  </tbody>\n",
       "</table>\n",
       "<p>10925 rows × 10 columns</p>\n",
       "</div>"
      ],
      "text/plain": [
       "          Make       Model  Year     HP  Cylinders Transmission  \\\n",
       "0          BMW  1 Series M  2011  335.0        6.0       MANUAL   \n",
       "1          BMW    1 Series  2011  300.0        6.0       MANUAL   \n",
       "2          BMW    1 Series  2011  300.0        6.0       MANUAL   \n",
       "3          BMW    1 Series  2011  230.0        6.0       MANUAL   \n",
       "4          BMW    1 Series  2011  230.0        6.0       MANUAL   \n",
       "...        ...         ...   ...    ...        ...          ...   \n",
       "11909    Acura         ZDX  2012  300.0        6.0    AUTOMATIC   \n",
       "11910    Acura         ZDX  2012  300.0        6.0    AUTOMATIC   \n",
       "11911    Acura         ZDX  2012  300.0        6.0    AUTOMATIC   \n",
       "11912    Acura         ZDX  2013  300.0        6.0    AUTOMATIC   \n",
       "11913  Lincoln      Zephyr  2006  221.0        6.0    AUTOMATIC   \n",
       "\n",
       "              Drive Mode  MPG-H  MPG-C  Price  \n",
       "0       rear wheel drive     26     19  46135  \n",
       "1       rear wheel drive     28     19  40650  \n",
       "2       rear wheel drive     28     20  36350  \n",
       "3       rear wheel drive     28     18  29450  \n",
       "4       rear wheel drive     28     18  34500  \n",
       "...                  ...    ...    ...    ...  \n",
       "11909    all wheel drive     23     16  46120  \n",
       "11910    all wheel drive     23     16  56670  \n",
       "11911    all wheel drive     23     16  50620  \n",
       "11912    all wheel drive     23     16  50920  \n",
       "11913  front wheel drive     26     17  28995  \n",
       "\n",
       "[10925 rows x 10 columns]"
      ]
     },
     "execution_count": 116,
     "metadata": {},
     "output_type": "execute_result"
    }
   ],
   "source": [
    "df.drop_duplicates()"
   ]
  },
  {
   "cell_type": "code",
   "execution_count": 117,
   "id": "85ca30f4",
   "metadata": {
    "scrolled": true
   },
   "outputs": [
    {
     "data": {
      "text/plain": [
       "Make             0\n",
       "Model            0\n",
       "Year             0\n",
       "HP              69\n",
       "Cylinders       30\n",
       "Transmission     0\n",
       "Drive Mode       0\n",
       "MPG-H            0\n",
       "MPG-C            0\n",
       "Price            0\n",
       "dtype: int64"
      ]
     },
     "execution_count": 117,
     "metadata": {},
     "output_type": "execute_result"
    }
   ],
   "source": [
    "df.isnull().sum()"
   ]
  },
  {
   "cell_type": "code",
   "execution_count": 118,
   "id": "35980759",
   "metadata": {},
   "outputs": [
    {
     "data": {
      "text/plain": [
       "Make             object\n",
       "Model            object\n",
       "Year              int64\n",
       "HP              float64\n",
       "Cylinders       float64\n",
       "Transmission     object\n",
       "Drive Mode       object\n",
       "MPG-H             int64\n",
       "MPG-C             int64\n",
       "Price             int64\n",
       "dtype: object"
      ]
     },
     "execution_count": 118,
     "metadata": {},
     "output_type": "execute_result"
    }
   ],
   "source": [
    "df.dtypes"
   ]
  },
  {
   "cell_type": "code",
   "execution_count": 119,
   "id": "401d8401",
   "metadata": {},
   "outputs": [],
   "source": [
    "from sklearn.impute import SimpleImputer\n",
    "imp=SimpleImputer(missing_values=np.NaN,strategy='mean')"
   ]
  },
  {
   "cell_type": "code",
   "execution_count": 120,
   "id": "1d91b837",
   "metadata": {},
   "outputs": [
    {
     "data": {
      "text/plain": [
       "Make            0\n",
       "Model           0\n",
       "Year            0\n",
       "HP              0\n",
       "Cylinders       0\n",
       "Transmission    0\n",
       "Drive Mode      0\n",
       "MPG-H           0\n",
       "MPG-C           0\n",
       "Price           0\n",
       "dtype: int64"
      ]
     },
     "execution_count": 120,
     "metadata": {},
     "output_type": "execute_result"
    }
   ],
   "source": [
    "df['HP']=imp.fit_transform(df[['HP']])\n",
    "df['Cylinders']=imp.fit_transform(df[['Cylinders']])\n",
    "df.isnull().sum()"
   ]
  },
  {
   "cell_type": "code",
   "execution_count": 121,
   "id": "04769403",
   "metadata": {},
   "outputs": [
    {
     "name": "stderr",
     "output_type": "stream",
     "text": [
      "/Users/zeelmehta/opt/anaconda3/lib/python3.9/site-packages/seaborn/_decorators.py:36: FutureWarning: Pass the following variable as a keyword arg: x. From version 0.12, the only valid positional argument will be `data`, and passing other arguments without an explicit keyword will result in an error or misinterpretation.\n",
      "  warnings.warn(\n"
     ]
    },
    {
     "data": {
      "text/plain": [
       "<AxesSubplot:xlabel='HP'>"
      ]
     },
     "execution_count": 121,
     "metadata": {},
     "output_type": "execute_result"
    },
    {
     "data": {
      "image/png": "[encoded data removed]",
      "text/plain": [
       "<Figure size 432x288 with 1 Axes>"
      ]
     },
     "metadata": {
      "needs_background": "light"
     },
     "output_type": "display_data"
    }
   ],
   "source": [
    "sns.boxplot(df['HP'])"
   ]
  },
  {
   "cell_type": "code",
   "execution_count": 122,
   "id": "138e978f",
   "metadata": {
    "scrolled": true
   },
   "outputs": [
    {
     "data": {
      "text/plain": [
       "front wheel drive    4787\n",
       "rear wheel drive     3371\n",
       "all wheel drive      2353\n",
       "four wheel drive     1403\n",
       "Name: Drive Mode, dtype: int64"
      ]
     },
     "execution_count": 122,
     "metadata": {},
     "output_type": "execute_result"
    }
   ],
   "source": [
    "x=df['Drive Mode'].value_counts()\n",
    "x"
   ]
  },
  {
   "cell_type": "code",
   "execution_count": 123,
   "id": "83499679",
   "metadata": {
    "scrolled": true
   },
   "outputs": [
    {
     "data": {
      "text/plain": [
       "Chevrolet        1123\n",
       "Ford              881\n",
       "Volkswagen        809\n",
       "Toyota            746\n",
       "Dodge             626\n",
       "Nissan            558\n",
       "GMC               515\n",
       "Honda             449\n",
       "Mazda             423\n",
       "Cadillac          397\n",
       "Mercedes-Benz     353\n",
       "Suzuki            351\n",
       "BMW               334\n",
       "Infiniti          330\n",
       "Audi              328\n",
       "Hyundai           303\n",
       "Volvo             281\n",
       "Subaru            256\n",
       "Acura             252\n",
       "Kia               231\n",
       "Mitsubishi        213\n",
       "Lexus             202\n",
       "Buick             196\n",
       "Chrysler          187\n",
       "Pontiac           186\n",
       "Lincoln           164\n",
       "Oldsmobile        150\n",
       "Land Rover        143\n",
       "Porsche           136\n",
       "Saab              111\n",
       "Aston Martin       93\n",
       "Plymouth           82\n",
       "Bentley            74\n",
       "Ferrari            69\n",
       "FIAT               62\n",
       "Scion              60\n",
       "Maserati           58\n",
       "Lamborghini        52\n",
       "Rolls-Royce        31\n",
       "Lotus              29\n",
       "Tesla              18\n",
       "HUMMER             17\n",
       "Maybach            16\n",
       "Alfa Romeo          5\n",
       "McLaren             5\n",
       "Spyker              3\n",
       "Genesis             3\n",
       "Bugatti             3\n",
       "Name: Make, dtype: int64"
      ]
     },
     "execution_count": 123,
     "metadata": {},
     "output_type": "execute_result"
    }
   ],
   "source": [
    "y=df['Make'].value_counts()\n",
    "y"
   ]
  },
  {
   "cell_type": "code",
   "execution_count": 124,
   "id": "ca3fe91d",
   "metadata": {},
   "outputs": [],
   "source": [
    "grp=df.groupby(['Drive Mode','Make']).size().reset_index(name='Count')"
   ]
  },
  {
   "cell_type": "code",
   "execution_count": 125,
   "id": "14b9c6bb",
   "metadata": {},
   "outputs": [
    {
     "data": {
      "text/html": [
       "<div>\n",
       "<style scoped>\n",
       "    .dataframe tbody tr th:only-of-type {\n",
       "        vertical-align: middle;\n",
       "    }\n",
       "\n",
       "    .dataframe tbody tr th {\n",
       "        vertical-align: top;\n",
       "    }\n",
       "\n",
       "    .dataframe thead th {\n",
       "        text-align: right;\n",
       "    }\n",
       "</style>\n",
       "<table border=\"1\" class=\"dataframe\">\n",
       "  <thead>\n",
       "    <tr style=\"text-align: right;\">\n",
       "      <th>Drive Mode</th>\n",
       "      <th>all wheel drive</th>\n",
       "      <th>four wheel drive</th>\n",
       "      <th>front wheel drive</th>\n",
       "      <th>rear wheel drive</th>\n",
       "    </tr>\n",
       "    <tr>\n",
       "      <th>Make</th>\n",
       "      <th></th>\n",
       "      <th></th>\n",
       "      <th></th>\n",
       "      <th></th>\n",
       "    </tr>\n",
       "  </thead>\n",
       "  <tbody>\n",
       "    <tr>\n",
       "      <th>Acura</th>\n",
       "      <td>69.0</td>\n",
       "      <td>4.0</td>\n",
       "      <td>175.0</td>\n",
       "      <td>4.0</td>\n",
       "    </tr>\n",
       "    <tr>\n",
       "      <th>Alfa Romeo</th>\n",
       "      <td>0.0</td>\n",
       "      <td>0.0</td>\n",
       "      <td>0.0</td>\n",
       "      <td>5.0</td>\n",
       "    </tr>\n",
       "    <tr>\n",
       "      <th>Aston Martin</th>\n",
       "      <td>0.0</td>\n",
       "      <td>0.0</td>\n",
       "      <td>0.0</td>\n",
       "      <td>93.0</td>\n",
       "    </tr>\n",
       "    <tr>\n",
       "      <th>Audi</th>\n",
       "      <td>254.0</td>\n",
       "      <td>0.0</td>\n",
       "      <td>74.0</td>\n",
       "      <td>0.0</td>\n",
       "    </tr>\n",
       "    <tr>\n",
       "      <th>BMW</th>\n",
       "      <td>144.0</td>\n",
       "      <td>0.0</td>\n",
       "      <td>1.0</td>\n",
       "      <td>189.0</td>\n",
       "    </tr>\n",
       "  </tbody>\n",
       "</table>\n",
       "</div>"
      ],
      "text/plain": [
       "Drive Mode    all wheel drive  four wheel drive  front wheel drive  \\\n",
       "Make                                                                 \n",
       "Acura                    69.0               4.0              175.0   \n",
       "Alfa Romeo                0.0               0.0                0.0   \n",
       "Aston Martin              0.0               0.0                0.0   \n",
       "Audi                    254.0               0.0               74.0   \n",
       "BMW                     144.0               0.0                1.0   \n",
       "\n",
       "Drive Mode    rear wheel drive  \n",
       "Make                            \n",
       "Acura                      4.0  \n",
       "Alfa Romeo                 5.0  \n",
       "Aston Martin              93.0  \n",
       "Audi                       0.0  \n",
       "BMW                      189.0  "
      ]
     },
     "execution_count": 125,
     "metadata": {},
     "output_type": "execute_result"
    }
   ],
   "source": [
    "piv=grp.pivot(index='Make',columns='Drive Mode',values='Count').fillna(0)\n",
    "piv.head()"
   ]
  },
  {
   "cell_type": "code",
   "execution_count": 126,
   "id": "b0860374",
   "metadata": {},
   "outputs": [
    {
     "data": {
      "text/plain": [
       "<AxesSubplot:xlabel='Make'>"
      ]
     },
     "execution_count": 126,
     "metadata": {},
     "output_type": "execute_result"
    },
    {
     "data": {
      "image/png": "[encoded data removed]",
      "text/plain": [
       "<Figure size 432x288 with 1 Axes>"
      ]
     },
     "metadata": {
      "needs_background": "light"
     },
     "output_type": "display_data"
    }
   ],
   "source": [
    "piv.plot(kind='bar')"
   ]
  },
  {
   "cell_type": "code",
   "execution_count": 127,
   "id": "7d46e8fa",
   "metadata": {},
   "outputs": [
    {
     "name": "stdout",
     "output_type": "stream",
     "text": [
      "<class 'pandas.core.frame.DataFrame'>\n",
      "RangeIndex: 11914 entries, 0 to 11913\n",
      "Data columns (total 10 columns):\n",
      " #   Column        Non-Null Count  Dtype  \n",
      "---  ------        --------------  -----  \n",
      " 0   Make          11914 non-null  object \n",
      " 1   Model         11914 non-null  object \n",
      " 2   Year          11914 non-null  int64  \n",
      " 3   HP            11914 non-null  float64\n",
      " 4   Cylinders     11914 non-null  float64\n",
      " 5   Transmission  11914 non-null  object \n",
      " 6   Drive Mode    11914 non-null  object \n",
      " 7   MPG-H         11914 non-null  int64  \n",
      " 8   MPG-C         11914 non-null  int64  \n",
      " 9   Price         11914 non-null  int64  \n",
      "dtypes: float64(2), int64(4), object(4)\n",
      "memory usage: 930.9+ KB\n"
     ]
    }
   ],
   "source": [
    "df.info()"
   ]
  },
  {
   "cell_type": "code",
   "execution_count": 130,
   "id": "7ee1d5cb",
   "metadata": {},
   "outputs": [
    {
     "data": {
      "text/html": [
       "<div>\n",
       "<style scoped>\n",
       "    .dataframe tbody tr th:only-of-type {\n",
       "        vertical-align: middle;\n",
       "    }\n",
       "\n",
       "    .dataframe tbody tr th {\n",
       "        vertical-align: top;\n",
       "    }\n",
       "\n",
       "    .dataframe thead th {\n",
       "        text-align: right;\n",
       "    }\n",
       "</style>\n",
       "<table border=\"1\" class=\"dataframe\">\n",
       "  <thead>\n",
       "    <tr style=\"text-align: right;\">\n",
       "      <th></th>\n",
       "      <th>Make</th>\n",
       "      <th>Model</th>\n",
       "      <th>Year</th>\n",
       "      <th>HP</th>\n",
       "      <th>Cylinders</th>\n",
       "      <th>Transmission</th>\n",
       "      <th>Drive Mode</th>\n",
       "      <th>MPG-H</th>\n",
       "      <th>MPG-C</th>\n",
       "      <th>Price</th>\n",
       "    </tr>\n",
       "  </thead>\n",
       "  <tbody>\n",
       "    <tr>\n",
       "      <th>0</th>\n",
       "      <td>BMW</td>\n",
       "      <td>1 Series M</td>\n",
       "      <td>2011</td>\n",
       "      <td>335.0</td>\n",
       "      <td>6.0</td>\n",
       "      <td>MANUAL</td>\n",
       "      <td>rear wheel drive</td>\n",
       "      <td>26</td>\n",
       "      <td>19</td>\n",
       "      <td>46135</td>\n",
       "    </tr>\n",
       "    <tr>\n",
       "      <th>1</th>\n",
       "      <td>BMW</td>\n",
       "      <td>1 Series</td>\n",
       "      <td>2011</td>\n",
       "      <td>300.0</td>\n",
       "      <td>6.0</td>\n",
       "      <td>MANUAL</td>\n",
       "      <td>rear wheel drive</td>\n",
       "      <td>28</td>\n",
       "      <td>19</td>\n",
       "      <td>40650</td>\n",
       "    </tr>\n",
       "    <tr>\n",
       "      <th>2</th>\n",
       "      <td>BMW</td>\n",
       "      <td>1 Series</td>\n",
       "      <td>2011</td>\n",
       "      <td>300.0</td>\n",
       "      <td>6.0</td>\n",
       "      <td>MANUAL</td>\n",
       "      <td>rear wheel drive</td>\n",
       "      <td>28</td>\n",
       "      <td>20</td>\n",
       "      <td>36350</td>\n",
       "    </tr>\n",
       "    <tr>\n",
       "      <th>3</th>\n",
       "      <td>BMW</td>\n",
       "      <td>1 Series</td>\n",
       "      <td>2011</td>\n",
       "      <td>230.0</td>\n",
       "      <td>6.0</td>\n",
       "      <td>MANUAL</td>\n",
       "      <td>rear wheel drive</td>\n",
       "      <td>28</td>\n",
       "      <td>18</td>\n",
       "      <td>29450</td>\n",
       "    </tr>\n",
       "    <tr>\n",
       "      <th>4</th>\n",
       "      <td>BMW</td>\n",
       "      <td>1 Series</td>\n",
       "      <td>2011</td>\n",
       "      <td>230.0</td>\n",
       "      <td>6.0</td>\n",
       "      <td>MANUAL</td>\n",
       "      <td>rear wheel drive</td>\n",
       "      <td>28</td>\n",
       "      <td>18</td>\n",
       "      <td>34500</td>\n",
       "    </tr>\n",
       "  </tbody>\n",
       "</table>\n",
       "</div>"
      ],
      "text/plain": [
       "  Make       Model  Year     HP  Cylinders Transmission        Drive Mode  \\\n",
       "0  BMW  1 Series M  2011  335.0        6.0       MANUAL  rear wheel drive   \n",
       "1  BMW    1 Series  2011  300.0        6.0       MANUAL  rear wheel drive   \n",
       "2  BMW    1 Series  2011  300.0        6.0       MANUAL  rear wheel drive   \n",
       "3  BMW    1 Series  2011  230.0        6.0       MANUAL  rear wheel drive   \n",
       "4  BMW    1 Series  2011  230.0        6.0       MANUAL  rear wheel drive   \n",
       "\n",
       "   MPG-H  MPG-C  Price  \n",
       "0     26     19  46135  \n",
       "1     28     19  40650  \n",
       "2     28     20  36350  \n",
       "3     28     18  29450  \n",
       "4     28     18  34500  "
      ]
     },
     "execution_count": 130,
     "metadata": {},
     "output_type": "execute_result"
    }
   ],
   "source": [
    "df.head()"
   ]
  },
  {
   "cell_type": "code",
   "execution_count": 135,
   "id": "36fe399a",
   "metadata": {
    "scrolled": false
   },
   "outputs": [
    {
     "data": {
      "text/plain": [
       "Make             object\n",
       "Model            object\n",
       "Year              int64\n",
       "HP              float64\n",
       "Cylinders       float64\n",
       "Transmission     object\n",
       "Drive Mode       object\n",
       "MPG-H             int64\n",
       "MPG-C             int64\n",
       "Price             int64\n",
       "dtype: object"
      ]
     },
     "execution_count": 135,
     "metadata": {},
     "output_type": "execute_result"
    }
   ],
   "source": [
    "df.dtypes"
   ]
  },
  {
   "cell_type": "code",
   "execution_count": 143,
   "id": "25a8a3ef",
   "metadata": {},
   "outputs": [
    {
     "data": {
      "text/plain": [
       "9     1123\n",
       "14     881\n",
       "46     809\n",
       "45     746\n",
       "11     626\n",
       "33     558\n",
       "15     515\n",
       "18     449\n",
       "29     423\n",
       "8      397\n",
       "31     353\n",
       "43     351\n",
       "4      334\n",
       "20     330\n",
       "3      328\n",
       "19     303\n",
       "47     281\n",
       "42     256\n",
       "0      252\n",
       "21     231\n",
       "32     213\n",
       "24     202\n",
       "7      196\n",
       "10     187\n",
       "36     186\n",
       "25     164\n",
       "34     150\n",
       "23     143\n",
       "37     136\n",
       "39     111\n",
       "2       93\n",
       "35      82\n",
       "5       74\n",
       "13      69\n",
       "12      62\n",
       "40      60\n",
       "27      58\n",
       "22      52\n",
       "38      31\n",
       "26      29\n",
       "44      18\n",
       "17      17\n",
       "28      16\n",
       "1        5\n",
       "30       5\n",
       "41       3\n",
       "16       3\n",
       "6        3\n",
       "Name: Make, dtype: int64"
      ]
     },
     "execution_count": 143,
     "metadata": {},
     "output_type": "execute_result"
    }
   ],
   "source": [
    "from sklearn.preprocessing import LabelEncoder\n",
    "def encode(df):\n",
    "    col=df['Make']\n",
    "    le=LabelEncoder()\n",
    "    for feature in col:\n",
    "        try:\n",
    "            df['Make']=le.fit_transform(df['Make'])\n",
    "        except:\n",
    "            print('error'+feature)\n",
    "    return(df)\n",
    "\n",
    "encode(df)\n",
    "df['Make'].value_counts()"
   ]
  },
  {
   "cell_type": "code",
   "execution_count": 144,
   "id": "cf19efb7",
   "metadata": {
    "scrolled": true
   },
   "outputs": [
    {
     "data": {
      "text/plain": [
       "756    156\n",
       "830    140\n",
       "337    126\n",
       "747     90\n",
       "141     89\n",
       "      ... \n",
       "523      1\n",
       "511      1\n",
       "470      1\n",
       "436      1\n",
       "902      1\n",
       "Name: Model, Length: 915, dtype: int64"
      ]
     },
     "execution_count": 144,
     "metadata": {},
     "output_type": "execute_result"
    }
   ],
   "source": [
    "def encode(df):\n",
    "    col=df['Model']\n",
    "    le=LabelEncoder()\n",
    "    for feature in col:\n",
    "        try:\n",
    "            df['Model']=le.fit_transform(df['Model'])\n",
    "        except:\n",
    "            print('error'+feature)\n",
    "    return(df)\n",
    "\n",
    "encode(df)\n",
    "df['Model'].value_counts()"
   ]
  },
  {
   "cell_type": "code",
   "execution_count": 145,
   "id": "6a8c69a8",
   "metadata": {},
   "outputs": [
    {
     "data": {
      "text/plain": [
       "1    8266\n",
       "3    2935\n",
       "0     626\n",
       "2      68\n",
       "4      19\n",
       "Name: Transmission, dtype: int64"
      ]
     },
     "execution_count": 145,
     "metadata": {},
     "output_type": "execute_result"
    }
   ],
   "source": [
    "def encode(df):\n",
    "    col=df['Transmission']\n",
    "    le=LabelEncoder()\n",
    "    for feature in col:\n",
    "        try:\n",
    "            df['Transmission']=le.fit_transform(df['Transmission'])\n",
    "        except:\n",
    "            print('error'+feature)\n",
    "    return(df)\n",
    "\n",
    "encode(df)\n",
    "df['Transmission'].value_counts()"
   ]
  },
  {
   "cell_type": "code",
   "execution_count": 146,
   "id": "02e69616",
   "metadata": {},
   "outputs": [
    {
     "data": {
      "text/plain": [
       "2    4787\n",
       "3    3371\n",
       "0    2353\n",
       "1    1403\n",
       "Name: Drive Mode, dtype: int64"
      ]
     },
     "execution_count": 146,
     "metadata": {},
     "output_type": "execute_result"
    }
   ],
   "source": [
    "def encode(df):\n",
    "    col=df['Drive Mode']\n",
    "    le=LabelEncoder()\n",
    "    for feature in col:\n",
    "        try:\n",
    "            df['Drive Mode']=le.fit_transform(df['Drive Mode'])\n",
    "        except:\n",
    "            print('error'+feature)\n",
    "    return(df)\n",
    "\n",
    "encode(df)\n",
    "df['Drive Mode'].value_counts()"
   ]
  },
  {
   "cell_type": "code",
   "execution_count": 147,
   "id": "fe619cb0",
   "metadata": {
    "scrolled": true
   },
   "outputs": [
    {
     "data": {
      "text/html": [
       "<div>\n",
       "<style scoped>\n",
       "    .dataframe tbody tr th:only-of-type {\n",
       "        vertical-align: middle;\n",
       "    }\n",
       "\n",
       "    .dataframe tbody tr th {\n",
       "        vertical-align: top;\n",
       "    }\n",
       "\n",
       "    .dataframe thead th {\n",
       "        text-align: right;\n",
       "    }\n",
       "</style>\n",
       "<table border=\"1\" class=\"dataframe\">\n",
       "  <thead>\n",
       "    <tr style=\"text-align: right;\">\n",
       "      <th></th>\n",
       "      <th>Make</th>\n",
       "      <th>Model</th>\n",
       "      <th>Year</th>\n",
       "      <th>HP</th>\n",
       "      <th>Cylinders</th>\n",
       "      <th>Transmission</th>\n",
       "      <th>Drive Mode</th>\n",
       "      <th>MPG-H</th>\n",
       "      <th>MPG-C</th>\n",
       "    </tr>\n",
       "  </thead>\n",
       "  <tbody>\n",
       "    <tr>\n",
       "      <th>0</th>\n",
       "      <td>4</td>\n",
       "      <td>1</td>\n",
       "      <td>2011</td>\n",
       "      <td>335.0</td>\n",
       "      <td>6.0</td>\n",
       "      <td>3</td>\n",
       "      <td>3</td>\n",
       "      <td>26</td>\n",
       "      <td>19</td>\n",
       "    </tr>\n",
       "    <tr>\n",
       "      <th>1</th>\n",
       "      <td>4</td>\n",
       "      <td>0</td>\n",
       "      <td>2011</td>\n",
       "      <td>300.0</td>\n",
       "      <td>6.0</td>\n",
       "      <td>3</td>\n",
       "      <td>3</td>\n",
       "      <td>28</td>\n",
       "      <td>19</td>\n",
       "    </tr>\n",
       "    <tr>\n",
       "      <th>2</th>\n",
       "      <td>4</td>\n",
       "      <td>0</td>\n",
       "      <td>2011</td>\n",
       "      <td>300.0</td>\n",
       "      <td>6.0</td>\n",
       "      <td>3</td>\n",
       "      <td>3</td>\n",
       "      <td>28</td>\n",
       "      <td>20</td>\n",
       "    </tr>\n",
       "    <tr>\n",
       "      <th>3</th>\n",
       "      <td>4</td>\n",
       "      <td>0</td>\n",
       "      <td>2011</td>\n",
       "      <td>230.0</td>\n",
       "      <td>6.0</td>\n",
       "      <td>3</td>\n",
       "      <td>3</td>\n",
       "      <td>28</td>\n",
       "      <td>18</td>\n",
       "    </tr>\n",
       "    <tr>\n",
       "      <th>4</th>\n",
       "      <td>4</td>\n",
       "      <td>0</td>\n",
       "      <td>2011</td>\n",
       "      <td>230.0</td>\n",
       "      <td>6.0</td>\n",
       "      <td>3</td>\n",
       "      <td>3</td>\n",
       "      <td>28</td>\n",
       "      <td>18</td>\n",
       "    </tr>\n",
       "    <tr>\n",
       "      <th>...</th>\n",
       "      <td>...</td>\n",
       "      <td>...</td>\n",
       "      <td>...</td>\n",
       "      <td>...</td>\n",
       "      <td>...</td>\n",
       "      <td>...</td>\n",
       "      <td>...</td>\n",
       "      <td>...</td>\n",
       "      <td>...</td>\n",
       "    </tr>\n",
       "    <tr>\n",
       "      <th>11909</th>\n",
       "      <td>0</td>\n",
       "      <td>901</td>\n",
       "      <td>2012</td>\n",
       "      <td>300.0</td>\n",
       "      <td>6.0</td>\n",
       "      <td>1</td>\n",
       "      <td>0</td>\n",
       "      <td>23</td>\n",
       "      <td>16</td>\n",
       "    </tr>\n",
       "    <tr>\n",
       "      <th>11910</th>\n",
       "      <td>0</td>\n",
       "      <td>901</td>\n",
       "      <td>2012</td>\n",
       "      <td>300.0</td>\n",
       "      <td>6.0</td>\n",
       "      <td>1</td>\n",
       "      <td>0</td>\n",
       "      <td>23</td>\n",
       "      <td>16</td>\n",
       "    </tr>\n",
       "    <tr>\n",
       "      <th>11911</th>\n",
       "      <td>0</td>\n",
       "      <td>901</td>\n",
       "      <td>2012</td>\n",
       "      <td>300.0</td>\n",
       "      <td>6.0</td>\n",
       "      <td>1</td>\n",
       "      <td>0</td>\n",
       "      <td>23</td>\n",
       "      <td>16</td>\n",
       "    </tr>\n",
       "    <tr>\n",
       "      <th>11912</th>\n",
       "      <td>0</td>\n",
       "      <td>901</td>\n",
       "      <td>2013</td>\n",
       "      <td>300.0</td>\n",
       "      <td>6.0</td>\n",
       "      <td>1</td>\n",
       "      <td>0</td>\n",
       "      <td>23</td>\n",
       "      <td>16</td>\n",
       "    </tr>\n",
       "    <tr>\n",
       "      <th>11913</th>\n",
       "      <td>25</td>\n",
       "      <td>902</td>\n",
       "      <td>2006</td>\n",
       "      <td>221.0</td>\n",
       "      <td>6.0</td>\n",
       "      <td>1</td>\n",
       "      <td>2</td>\n",
       "      <td>26</td>\n",
       "      <td>17</td>\n",
       "    </tr>\n",
       "  </tbody>\n",
       "</table>\n",
       "<p>11914 rows × 9 columns</p>\n",
       "</div>"
      ],
      "text/plain": [
       "       Make  Model  Year     HP  Cylinders  Transmission  Drive Mode  MPG-H  \\\n",
       "0         4      1  2011  335.0        6.0             3           3     26   \n",
       "1         4      0  2011  300.0        6.0             3           3     28   \n",
       "2         4      0  2011  300.0        6.0             3           3     28   \n",
       "3         4      0  2011  230.0        6.0             3           3     28   \n",
       "4         4      0  2011  230.0        6.0             3           3     28   \n",
       "...     ...    ...   ...    ...        ...           ...         ...    ...   \n",
       "11909     0    901  2012  300.0        6.0             1           0     23   \n",
       "11910     0    901  2012  300.0        6.0             1           0     23   \n",
       "11911     0    901  2012  300.0        6.0             1           0     23   \n",
       "11912     0    901  2013  300.0        6.0             1           0     23   \n",
       "11913    25    902  2006  221.0        6.0             1           2     26   \n",
       "\n",
       "       MPG-C  \n",
       "0         19  \n",
       "1         19  \n",
       "2         20  \n",
       "3         18  \n",
       "4         18  \n",
       "...      ...  \n",
       "11909     16  \n",
       "11910     16  \n",
       "11911     16  \n",
       "11912     16  \n",
       "11913     17  \n",
       "\n",
       "[11914 rows x 9 columns]"
      ]
     },
     "execution_count": 147,
     "metadata": {},
     "output_type": "execute_result"
    }
   ],
   "source": [
    "x=df.iloc[:,:-1]\n",
    "x"
   ]
  },
  {
   "cell_type": "code",
   "execution_count": 148,
   "id": "508f433f",
   "metadata": {
    "scrolled": true
   },
   "outputs": [
    {
     "data": {
      "text/plain": [
       "0        46135\n",
       "1        40650\n",
       "2        36350\n",
       "3        29450\n",
       "4        34500\n",
       "         ...  \n",
       "11909    46120\n",
       "11910    56670\n",
       "11911    50620\n",
       "11912    50920\n",
       "11913    28995\n",
       "Name: Price, Length: 11914, dtype: int64"
      ]
     },
     "execution_count": 148,
     "metadata": {},
     "output_type": "execute_result"
    }
   ],
   "source": [
    "y=df['Price']\n",
    "y"
   ]
  },
  {
   "cell_type": "code",
   "execution_count": 149,
   "id": "719746ed",
   "metadata": {},
   "outputs": [],
   "source": [
    "from sklearn.linear_model import LinearRegression"
   ]
  },
  {
   "cell_type": "code",
   "execution_count": 150,
   "id": "3ffde7e5",
   "metadata": {},
   "outputs": [],
   "source": [
    "lm=LinearRegression()"
   ]
  },
  {
   "cell_type": "code",
   "execution_count": 151,
   "id": "6bc51522",
   "metadata": {},
   "outputs": [],
   "source": [
    "from sklearn.model_selection import train_test_split\n",
    "x_train,x_test,y_train,y_test=train_test_split(x,y,test_size=0.3,random_state=42)"
   ]
  },
  {
   "cell_type": "code",
   "execution_count": 152,
   "id": "08d129b5",
   "metadata": {},
   "outputs": [
    {
     "data": {
      "text/plain": [
       "LinearRegression()"
      ]
     },
     "execution_count": 152,
     "metadata": {},
     "output_type": "execute_result"
    }
   ],
   "source": [
    "lm.fit(x_train,y_train)"
   ]
  },
  {
   "cell_type": "code",
   "execution_count": 153,
   "id": "8f622c0a",
   "metadata": {},
   "outputs": [],
   "source": [
    "pred=lm.predict(x_test)"
   ]
  },
  {
   "cell_type": "code",
   "execution_count": 161,
   "id": "3247b9b4",
   "metadata": {},
   "outputs": [],
   "source": [
    "from sklearn.metrics import mean_absolute_error,mean_squared_error,accuracy_score,classification_report,confusion_matrix"
   ]
  },
  {
   "cell_type": "code",
   "execution_count": 162,
   "id": "9e80128a",
   "metadata": {},
   "outputs": [
    {
     "data": {
      "text/plain": [
       "20465.603367627875"
      ]
     },
     "execution_count": 162,
     "metadata": {},
     "output_type": "execute_result"
    }
   ],
   "source": [
    "mean_absolute_error(y_test,pred)"
   ]
  },
  {
   "cell_type": "code",
   "execution_count": 163,
   "id": "0b4ffb1f",
   "metadata": {},
   "outputs": [
    {
     "data": {
      "text/plain": [
       "1869411443.381338"
      ]
     },
     "execution_count": 163,
     "metadata": {},
     "output_type": "execute_result"
    }
   ],
   "source": [
    "mean_squared_error(y_test,pred)"
   ]
  },
  {
   "cell_type": "code",
   "execution_count": 164,
   "id": "4bd90347",
   "metadata": {},
   "outputs": [],
   "source": [
    "from sklearn.linear_model import LogisticRegression\n",
    "lr=LogisticRegression()"
   ]
  },
  {
   "cell_type": "code",
   "execution_count": 165,
   "id": "7e77a4d2",
   "metadata": {},
   "outputs": [
    {
     "name": "stderr",
     "output_type": "stream",
     "text": [
      "/Users/zeelmehta/opt/anaconda3/lib/python3.9/site-packages/sklearn/linear_model/_logistic.py:814: ConvergenceWarning: lbfgs failed to converge (status=1):\n",
      "STOP: TOTAL NO. of ITERATIONS REACHED LIMIT.\n",
      "\n",
      "Increase the number of iterations (max_iter) or scale the data as shown in:\n",
      "    https://scikit-learn.org/stable/modules/preprocessing.html\n",
      "Please also refer to the documentation for alternative solver options:\n",
      "    https://scikit-learn.org/stable/modules/linear_model.html#logistic-regression\n",
      "  n_iter_i = _check_optimize_result(\n"
     ]
    },
    {
     "data": {
      "text/plain": [
       "LogisticRegression()"
      ]
     },
     "execution_count": 165,
     "metadata": {},
     "output_type": "execute_result"
    }
   ],
   "source": [
    "lr.fit(x_train,y_train)"
   ]
  },
  {
   "cell_type": "code",
   "execution_count": 166,
   "id": "24ad78f4",
   "metadata": {},
   "outputs": [],
   "source": [
    "predl=lr.predict(x_test)"
   ]
  },
  {
   "cell_type": "code",
   "execution_count": 168,
   "id": "c9d62317",
   "metadata": {},
   "outputs": [
    {
     "data": {
      "text/plain": [
       "array([[290,   0,   0, ...,   0,   0,   0],\n",
       "       [  1,   0,   0, ...,   0,   0,   0],\n",
       "       [  1,   0,   0, ...,   0,   0,   0],\n",
       "       ...,\n",
       "       [  0,   0,   0, ...,   0,   0,   0],\n",
       "       [  0,   0,   0, ...,   0,   0,   0],\n",
       "       [  0,   0,   0, ...,   0,   1,   0]])"
      ]
     },
     "execution_count": 168,
     "metadata": {},
     "output_type": "execute_result"
    }
   ],
   "source": [
    "confusion_matrix(y_test,predl)"
   ]
  },
  {
   "cell_type": "code",
   "execution_count": 170,
   "id": "ac50e690",
   "metadata": {},
   "outputs": [
    {
     "data": {
      "text/plain": [
       "0.08391608391608392"
      ]
     },
     "execution_count": 170,
     "metadata": {},
     "output_type": "execute_result"
    }
   ],
   "source": [
    "accuracy_score(y_test,predl)"
   ]
  },
  {
   "cell_type": "code",
   "execution_count": 171,
   "id": "bd2020e2",
   "metadata": {},
   "outputs": [
    {
     "name": "stderr",
     "output_type": "stream",
     "text": [
      "/Users/zeelmehta/opt/anaconda3/lib/python3.9/site-packages/sklearn/metrics/_classification.py:1318: UndefinedMetricWarning: Precision and F-score are ill-defined and being set to 0.0 in labels with no predicted samples. Use `zero_division` parameter to control this behavior.\n",
      "  _warn_prf(average, modifier, msg_start, len(result))\n",
      "/Users/zeelmehta/opt/anaconda3/lib/python3.9/site-packages/sklearn/metrics/_classification.py:1318: UndefinedMetricWarning: Recall and F-score are ill-defined and being set to 0.0 in labels with no true samples. Use `zero_division` parameter to control this behavior.\n",
      "  _warn_prf(average, modifier, msg_start, len(result))\n",
      "/Users/zeelmehta/opt/anaconda3/lib/python3.9/site-packages/sklearn/metrics/_classification.py:1318: UndefinedMetricWarning: Precision and F-score are ill-defined and being set to 0.0 in labels with no predicted samples. Use `zero_division` parameter to control this behavior.\n",
      "  _warn_prf(average, modifier, msg_start, len(result))\n",
      "/Users/zeelmehta/opt/anaconda3/lib/python3.9/site-packages/sklearn/metrics/_classification.py:1318: UndefinedMetricWarning: Recall and F-score are ill-defined and being set to 0.0 in labels with no true samples. Use `zero_division` parameter to control this behavior.\n",
      "  _warn_prf(average, modifier, msg_start, len(result))\n",
      "/Users/zeelmehta/opt/anaconda3/lib/python3.9/site-packages/sklearn/metrics/_classification.py:1318: UndefinedMetricWarning: Precision and F-score are ill-defined and being set to 0.0 in labels with no predicted samples. Use `zero_division` parameter to control this behavior.\n",
      "  _warn_prf(average, modifier, msg_start, len(result))\n",
      "/Users/zeelmehta/opt/anaconda3/lib/python3.9/site-packages/sklearn/metrics/_classification.py:1318: UndefinedMetricWarning: Recall and F-score are ill-defined and being set to 0.0 in labels with no true samples. Use `zero_division` parameter to control this behavior.\n",
      "  _warn_prf(average, modifier, msg_start, len(result))\n"
     ]
    },
    {
     "data": {
      "text/plain": [
       "'              precision    recall  f1-score   support\\n\\n        2000       0.24      0.94      0.38       307\\n        2002       0.00      0.00      0.00         1\\n        2019       0.00      0.00      0.00         1\\n        2033       0.00      0.00      0.00         1\\n        2041       0.00      0.00      0.00         1\\n        2044       0.00      0.00      0.00         1\\n        2048       0.00      0.00      0.00         1\\n        2052       0.00      0.00      0.00         1\\n        2064       0.00      0.00      0.00         1\\n        2065       0.00      0.00      0.00         1\\n        2066       0.00      0.00      0.00         2\\n        2073       0.00      0.00      0.00         1\\n        2074       0.00      0.00      0.00         1\\n        2078       0.00      0.00      0.00         2\\n        2080       0.00      0.00      0.00         1\\n        2081       0.00      0.00      0.00         1\\n        2084       0.00      0.00      0.00         1\\n        2088       0.00      0.00      0.00         1\\n        2091       0.00      0.00      0.00         1\\n        2104       0.00      0.00      0.00         1\\n        2107       0.00      0.00      0.00         1\\n        2115       0.00      0.00      0.00         1\\n        2123       0.00      0.00      0.00         1\\n        2130       0.00      0.00      0.00         2\\n        2144       0.00      0.00      0.00         1\\n        2148       0.00      0.00      0.00         1\\n        2169       0.00      0.00      0.00         1\\n        2172       0.00      0.00      0.00         1\\n        2178       0.00      0.00      0.00         1\\n        2179       0.00      0.00      0.00         2\\n        2199       0.00      0.00      0.00         1\\n        2209       0.00      0.00      0.00         1\\n        2210       0.00      0.00      0.00         1\\n        2234       0.00      0.00      0.00         1\\n        2239       0.00      0.00      0.00         1\\n        2241       0.00      0.00      0.00         1\\n        2242       0.00      0.00      0.00         1\\n        2248       0.00      0.00      0.00         1\\n        2265       0.00      0.00      0.00         1\\n        2267       0.00      0.00      0.00         1\\n        2268       0.00      0.00      0.00         2\\n        2278       0.00      0.00      0.00         1\\n        2281       0.00      0.00      0.00         1\\n        2283       0.00      0.00      0.00         1\\n        2286       0.00      0.00      0.00         1\\n        2288       0.00      0.00      0.00         1\\n        2290       0.00      0.00      0.00         1\\n        2293       0.00      0.00      0.00         1\\n        2304       0.00      0.00      0.00         2\\n        2311       0.00      0.00      0.00         1\\n        2316       0.00      0.00      0.00         1\\n        2317       0.00      0.00      0.00         1\\n        2331       0.00      0.00      0.00         1\\n        2348       0.00      0.00      0.00         1\\n        2350       0.00      0.00      0.00         1\\n        2356       0.00      0.00      0.00         1\\n        2358       0.00      0.00      0.00         1\\n        2366       0.00      0.00      0.00         1\\n        2377       0.00      0.00      0.00         1\\n        2379       0.00      0.00      0.00         1\\n        2384       0.00      0.00      0.00         1\\n        2397       0.00      0.00      0.00         1\\n        2410       0.00      0.00      0.00         1\\n        2413       0.00      0.00      0.00         1\\n        2427       0.00      0.00      0.00         1\\n        2430       0.00      0.00      0.00         2\\n        2432       0.00      0.00      0.00         1\\n        2462       0.00      0.00      0.00         1\\n        2468       0.00      0.00      0.00         1\\n        2473       0.00      0.00      0.00         1\\n        2474       0.00      0.00      0.00         1\\n        2486       0.00      0.00      0.00         1\\n        2497       0.00      0.00      0.00         1\\n        2498       0.00      0.00      0.00         1\\n        2506       0.00      0.00      0.00         2\\n        2529       0.00      0.00      0.00         1\\n        2539       0.00      0.00      0.00         1\\n        2541       0.00      0.00      0.00         1\\n        2544       0.00      0.00      0.00         1\\n        2550       0.00      0.00      0.00         2\\n        2553       0.00      0.00      0.00         1\\n        2554       0.00      0.00      0.00         1\\n        2577       0.00      0.00      0.00         1\\n        2578       0.00      0.00      0.00         1\\n        2580       0.00      0.00      0.00         2\\n        2583       0.00      0.00      0.00         1\\n        2585       0.00      0.00      0.00         1\\n        2590       0.00      0.00      0.00         1\\n        2608       0.00      0.00      0.00         1\\n        2620       0.00      0.00      0.00         1\\n        2631       0.00      0.00      0.00         1\\n        2637       0.00      0.00      0.00         1\\n        2647       0.00      0.00      0.00         1\\n        2650       0.00      0.00      0.00         1\\n        2653       0.00      0.00      0.00         1\\n        2655       0.00      0.00      0.00         1\\n        2668       0.00      0.00      0.00         3\\n        2676       0.00      0.00      0.00         1\\n        2691       0.00      0.00      0.00         1\\n        2699       0.00      0.00      0.00         1\\n        2702       0.00      0.00      0.00         1\\n        2713       0.00      0.00      0.00         1\\n        2749       0.00      0.00      0.00         1\\n        2762       0.00      0.00      0.00         1\\n        2787       0.00      0.00      0.00         1\\n        2806       0.00      0.00      0.00         1\\n        2816       0.00      0.00      0.00         1\\n        2836       0.00      0.00      0.00         1\\n        2837       0.00      0.00      0.00         1\\n        2847       0.00      0.00      0.00         1\\n        2853       0.00      0.00      0.00         1\\n        2862       0.00      0.00      0.00         1\\n        2870       0.00      0.00      0.00         1\\n        2883       0.00      0.00      0.00         1\\n        2885       0.00      0.00      0.00         1\\n        2912       0.00      0.00      0.00         1\\n        2923       0.00      0.00      0.00         1\\n        2925       0.00      0.00      0.00         1\\n        2930       0.00      0.00      0.00         1\\n        2934       0.00      0.00      0.00         1\\n        2949       0.00      0.00      0.00         1\\n        3032       0.00      0.00      0.00         1\\n        3046       0.00      0.00      0.00         1\\n        3090       0.00      0.00      0.00         1\\n        3096       0.00      0.00      0.00         1\\n        3107       0.00      0.00      0.00         1\\n        3120       0.00      0.00      0.00         1\\n        3130       0.00      0.00      0.00         1\\n        3143       0.00      0.00      0.00         1\\n        3156       0.00      0.00      0.00         1\\n        3176       0.00      0.00      0.00         1\\n        3190       0.00      0.00      0.00         1\\n        3206       0.00      0.00      0.00         1\\n        3211       0.00      0.00      0.00         1\\n        3214       0.00      0.00      0.00         2\\n        3221       0.00      0.00      0.00         1\\n        3222       0.00      0.00      0.00         1\\n        3241       0.00      0.00      0.00         1\\n        3245       0.00      0.00      0.00         1\\n        3248       0.00      0.00      0.00         1\\n        3257       0.00      0.00      0.00         1\\n        3269       0.00      0.00      0.00         2\\n        3323       0.00      0.00      0.00         1\\n        3342       0.00      0.00      0.00         1\\n        3355       0.00      0.00      0.00         1\\n        3372       0.00      0.00      0.00         1\\n        3394       0.00      0.00      0.00         2\\n        3419       0.00      0.00      0.00         1\\n        3465       0.00      0.00      0.00         1\\n        3487       0.00      0.00      0.00         1\\n        3510       0.00      0.00      0.00         1\\n        3542       0.00      0.00      0.00         1\\n        3550       0.00      0.00      0.00         1\\n        3555       0.00      0.00      0.00         1\\n        3560       0.00      0.00      0.00         1\\n        3572       0.00      0.00      0.00         1\\n        3579       0.00      0.00      0.00         1\\n        3667       0.00      0.00      0.00         1\\n        3713       0.00      0.00      0.00         1\\n        3741       0.00      0.00      0.00         1\\n        3752       0.00      0.00      0.00         1\\n        3814       0.00      0.00      0.00         1\\n        3878       0.00      0.00      0.00         1\\n        3965       0.00      0.00      0.00         1\\n        3996       0.00      0.00      0.00         1\\n        4031       0.00      0.00      0.00         1\\n        4107       0.00      0.00      0.00         1\\n        4174       0.00      0.00      0.00         1\\n        4182       0.00      0.00      0.00         1\\n        4191       0.00      0.00      0.00         1\\n        4299       0.00      0.00      0.00         1\\n        4330       0.00      0.00      0.00         1\\n        4472       0.00      0.00      0.00         1\\n        4508       0.00      0.00      0.00         1\\n        4697       0.00      0.00      0.00         1\\n        4878       0.00      0.00      0.00         1\\n        5035       0.00      0.00      0.00         1\\n        5306       0.00      0.00      0.00         1\\n        5650       0.00      0.00      0.00         1\\n        5680       0.00      0.00      0.00         1\\n        6693       0.00      0.00      0.00         1\\n        6890       0.00      0.00      0.00         1\\n        7419       0.00      0.00      0.00         1\\n        7624       0.00      0.00      0.00         1\\n        8488       0.00      0.00      0.00         1\\n        8839       0.00      0.00      0.00         1\\n        9567       0.00      0.00      0.00         1\\n        9949       0.00      0.00      0.00         1\\n       10135       0.00      0.00      0.00         1\\n       10895       0.00      0.00      0.00         1\\n       10949       0.00      0.00      0.00         1\\n       11045       0.00      0.00      0.00         1\\n       11990       0.00      0.00      0.00         1\\n       12340       0.00      0.00      0.00         1\\n       12480       0.00      0.00      0.00         1\\n       12515       0.00      0.00      0.00         1\\n       12660       0.00      0.00      0.00         1\\n       12765       0.00      0.00      0.00         1\\n       12815       0.00      0.00      0.00         1\\n       12840       0.00      0.00      0.00         1\\n       12895       0.00      0.00      0.00         1\\n       13075       0.00      0.00      0.00         1\\n       13420       0.00      0.00      0.00         1\\n       13449       0.00      0.00      0.00         1\\n       13540       0.00      0.00      0.00         1\\n       13580       0.00      0.00      0.00         1\\n       13680       0.00      0.00      0.00         1\\n       13799       0.00      0.00      0.00         1\\n       13839       0.00      0.00      0.00         1\\n       13930       0.00      0.00      0.00         1\\n       13990       0.00      0.00      0.00         2\\n       13999       0.00      0.00      0.00         1\\n       14030       0.00      0.00      0.00         1\\n       14100       0.00      0.00      0.00         1\\n       14130       0.00      0.00      0.00         2\\n       14165       0.00      0.00      0.00         1\\n       14195       0.00      0.00      0.00         1\\n       14199       0.00      0.00      0.00         1\\n       14235       0.00      0.00      0.00         1\\n       14250       0.00      0.00      0.00         1\\n       14335       0.00      0.00      0.00         1\\n       14339       0.00      0.00      0.00         1\\n       14345       0.00      0.00      0.00         1\\n       14489       0.00      0.00      0.00         1\\n       14580       0.00      0.00      0.00         1\\n       14599       0.00      0.00      0.00         1\\n       14645       0.00      0.00      0.00         1\\n       14695       0.00      0.00      0.00         1\\n       14720       0.00      0.00      0.00         2\\n       14770       0.00      0.00      0.00         1\\n       14775       0.00      0.00      0.00         1\\n       14799       0.00      0.00      0.00         1\\n       14810       0.00      0.00      0.00         1\\n       14845       0.00      0.00      0.00         1\\n       14855       0.00      0.00      0.00         1\\n       14880       0.00      0.00      0.00         1\\n       14895       0.00      0.00      0.00         1\\n       14930       0.00      0.00      0.00         1\\n       14961       0.00      0.00      0.00         1\\n       14975       0.00      0.00      0.00         1\\n       14980       0.00      0.00      0.00         1\\n       14989       0.00      0.00      0.00         1\\n       14990       0.00      0.00      0.00         2\\n       14995       0.00      0.00      0.00         2\\n       14999       0.00      0.00      0.00         1\\n       15125       0.00      0.00      0.00         1\\n       15360       0.00      0.00      0.00         1\\n       15365       0.00      0.00      0.00         1\\n       15395       0.00      0.00      0.00         1\\n       15406       0.00      0.00      0.00         1\\n       15480       0.00      0.00      0.00         1\\n       15495       0.00      0.00      0.00         4\\n       15499       0.00      0.00      0.00         2\\n       15535       0.00      0.00      0.00         2\\n       15580       0.00      0.00      0.00         1\\n       15600       0.00      0.00      0.00         1\\n       15685       0.00      0.00      0.00         1\\n       15745       0.00      0.00      0.00         1\\n       15799       0.00      0.00      0.00         1\\n       15840       0.00      0.00      0.00         1\\n       15849       0.00      0.00      0.00         1\\n       15890       0.00      0.00      0.00         2\\n       15900       0.00      0.00      0.00         1\\n       15995       0.00      0.00      0.00         2\\n       15999       0.00      0.00      0.00         1\\n       16049       0.00      0.00      0.00         2\\n       16060       0.00      0.00      0.00         1\\n       16085       0.00      0.00      0.00         1\\n       16089       0.00      0.00      0.00         1\\n       16095       0.00      0.00      0.00         1\\n       16099       0.00      0.00      0.00         1\\n       16100       0.00      0.00      0.00         1\\n       16105       0.00      0.00      0.00         1\\n       16115       0.00      0.00      0.00         1\\n       16120       0.00      0.00      0.00         1\\n       16170       0.00      0.00      0.00         1\\n       16199       0.00      0.00      0.00         1\\n       16215       0.00      0.00      0.00         1\\n       16220       0.00      0.00      0.00         2\\n       16349       0.00      0.00      0.00         1\\n       16375       0.00      0.00      0.00         1\\n       16430       0.00      0.00      0.00         1\\n       16460       0.00      0.00      0.00         1\\n       16470       0.00      0.00      0.00         2\\n       16479       0.00      0.00      0.00         1\\n       16490       0.00      0.00      0.00         1\\n       16499       0.00      0.00      0.00         1\\n       16545       0.00      0.00      0.00         1\\n       16549       0.00      0.00      0.00         1\\n       16570       0.00      0.00      0.00         1\\n       16599       0.00      0.00      0.00         1\\n       16620       0.00      0.00      0.00         1\\n       16675       0.00      0.00      0.00         1\\n       16695       0.00      0.00      0.00         2\\n       16699       0.00      0.00      0.00         1\\n       16775       0.00      0.00      0.00         1\\n       16780       0.00      0.00      0.00         1\\n       16790       0.00      0.00      0.00         1\\n       16799       0.00      0.00      0.00         1\\n       16870       0.00      0.00      0.00         1\\n       16880       0.00      0.00      0.00         1\\n       16890       0.00      0.00      0.00         1\\n       16895       0.00      0.00      0.00         1\\n       16905       0.00      0.00      0.00         1\\n       16910       0.00      0.00      0.00         1\\n       16945       0.00      0.00      0.00         1\\n       16950       0.00      0.00      0.00         1\\n       16970       0.00      0.00      0.00         1\\n       16995       0.00      0.00      0.00         2\\n       16999       0.00      0.00      0.00         0\\n       17050       0.00      0.00      0.00         1\\n       17070       0.00      0.00      0.00         1\\n       17093       0.00      0.00      0.00         1\\n       17099       0.00      0.00      0.00         1\\n       17170       0.00      0.00      0.00         1\\n       17195       0.00      0.00      0.00         2\\n       17200       0.00      0.00      0.00         1\\n       17225       0.00      0.00      0.00         1\\n       17270       0.00      0.00      0.00         1\\n       17285       0.00      0.00      0.00         1\\n       17330       0.00      0.00      0.00         1\\n       17400       0.00      0.00      0.00         1\\n       17445       0.00      0.00      0.00         1\\n       17490       0.00      0.00      0.00         2\\n       17495       0.00      0.00      0.00         2\\n       17545       0.00      0.00      0.00         1\\n       17549       0.00      0.00      0.00         1\\n       17560       0.00      0.00      0.00         1\\n       17580       0.00      0.00      0.00         2\\n       17590       0.00      0.00      0.00         1\\n       17640       0.00      0.00      0.00         1\\n       17670       0.00      0.00      0.00         2\\n       17689       0.00      0.00      0.00         1\\n       17710       0.00      0.00      0.00         1\\n       17780       0.00      0.00      0.00         1\\n       17795       0.00      0.00      0.00         2\\n       17799       0.00      0.00      0.00         1\\n       17805       0.00      0.00      0.00         1\\n       17845       0.00      0.00      0.00         2\\n       17850       0.00      0.00      0.00         1\\n       17899       0.00      0.00      0.00         1\\n       17900       0.00      0.00      0.00         2\\n       17905       0.00      0.00      0.00         1\\n       17935       0.00      0.00      0.00         1\\n       17960       0.00      0.00      0.00         1\\n       17990       0.00      0.00      0.00         2\\n       17995       0.00      0.00      0.00         1\\n       17999       0.00      0.00      0.00         2\\n       18000       0.00      0.00      0.00         0\\n       18050       0.00      0.00      0.00         1\\n       18060       0.00      0.00      0.00         1\\n       18090       0.00      0.00      0.00         3\\n       18120       0.00      0.00      0.00         1\\n       18150       0.00      0.00      0.00         1\\n       18155       0.00      0.00      0.00         1\\n       18170       0.00      0.00      0.00         1\\n       18175       0.00      0.00      0.00         1\\n       18199       0.00      0.00      0.00         0\\n       18250       0.00      0.00      0.00         1\\n       18255       0.00      0.00      0.00         1\\n       18299       0.00      0.00      0.00         1\\n       18360       0.00      0.00      0.00         1\\n       18430       0.00      0.00      0.00         1\\n       18460       0.00      0.00      0.00         1\\n       18470       0.00      0.00      0.00         1\\n       18485       0.00      0.00      0.00         1\\n       18495       0.00      0.00      0.00         1\\n       18500       0.00      0.00      0.00         1\\n       18545       0.00      0.00      0.00         1\\n       18550       0.00      0.00      0.00         1\\n       18565       0.00      0.00      0.00         1\\n       18590       0.00      0.00      0.00         1\\n       18595       0.00      0.00      0.00         1\\n       18600       0.00      0.00      0.00         3\\n       18650       0.00      0.00      0.00         1\\n       18660       0.00      0.00      0.00         1\\n       18680       0.00      0.00      0.00         1\\n       18690       0.00      0.00      0.00         1\\n       18695       0.00      0.00      0.00         1\\n       18700       0.00      0.00      0.00         2\\n       18720       0.00      0.00      0.00         2\\n       18725       0.00      0.00      0.00         1\\n       18735       0.00      0.00      0.00         1\\n       18740       0.00      0.00      0.00         1\\n       18750       0.00      0.00      0.00         1\\n       18780       0.00      0.00      0.00         1\\n       18785       0.00      0.00      0.00         1\\n       18800       0.00      0.00      0.00         1\\n       18855       0.00      0.00      0.00         1\\n       18860       0.00      0.00      0.00         1\\n       18870       0.00      0.00      0.00         1\\n       18895       0.00      0.00      0.00         2\\n       18935       0.00      0.00      0.00         1\\n       18944       0.00      0.00      0.00         1\\n       18945       0.00      0.00      0.00         1\\n       18960       0.00      0.00      0.00         1\\n       18995       0.00      0.00      0.00         3\\n       18999       0.00      0.00      0.00         1\\n       19030       0.00      0.00      0.00         1\\n       19165       0.00      0.00      0.00         1\\n       19200       0.00      0.00      0.00         1\\n       19210       0.00      0.00      0.00         3\\n       19215       0.00      0.00      0.00         1\\n       19270       0.00      0.00      0.00         1\\n       19275       0.00      0.00      0.00         1\\n       19295       0.00      0.00      0.00         2\\n       19299       0.00      0.00      0.00         2\\n       19340       0.00      0.00      0.00         2\\n       19349       0.00      0.00      0.00         1\\n       19365       0.00      0.00      0.00         1\\n       19385       0.00      0.00      0.00         1\\n       19390       0.00      0.00      0.00         3\\n       19395       0.00      0.00      0.00         2\\n       19420       0.00      0.00      0.00         1\\n       19495       0.00      0.00      0.00         1\\n       19540       0.00      0.00      0.00         1\\n       19565       0.00      0.00      0.00         2\\n       19580       0.00      0.00      0.00         1\\n       19595       0.00      0.00      0.00         1\\n       19600       0.00      0.00      0.00         1\\n       19605       0.00      0.00      0.00         1\\n       19620       0.00      0.00      0.00         1\\n       19675       0.00      0.00      0.00         1\\n       19680       0.00      0.00      0.00         1\\n       19685       0.00      0.00      0.00         2\\n       19700       0.00      0.00      0.00         2\\n       19720       0.00      0.00      0.00         2\\n       19785       0.00      0.00      0.00         1\\n       19795       0.00      0.00      0.00         1\\n       19800       0.00      0.00      0.00         1\\n       19835       0.00      0.00      0.00         1\\n       19850       0.00      0.00      0.00         2\\n       19855       0.00      0.00      0.00         2\\n       19865       0.00      0.00      0.00         1\\n       19890       0.00      0.00      0.00         1\\n       19895       0.00      0.00      0.00         1\\n       19940       0.00      0.00      0.00         1\\n       19949       0.00      0.00      0.00         1\\n       19950       0.00      0.00      0.00         1\\n       19970       0.00      0.00      0.00         1\\n       19980       0.00      0.00      0.00         1\\n       19990       0.00      0.00      0.00         1\\n       19995       0.00      0.00      0.00         3\\n       20025       0.00      0.00      0.00         1\\n       20095       0.00      0.00      0.00         1\\n       20120       0.00      0.00      0.00         2\\n       20130       0.00      0.00      0.00         1\\n       20145       0.00      0.00      0.00         1\\n       20170       0.00      0.00      0.00         1\\n       20195       0.00      0.00      0.00         5\\n       20200       0.00      0.00      0.00         1\\n       20210       0.00      0.00      0.00         1\\n       20240       0.00      0.00      0.00         1\\n       20250       0.00      0.00      0.00         1\\n       20255       0.00      0.00      0.00         1\\n       20265       0.00      0.00      0.00         1\\n       20275       0.00      0.00      0.00         1\\n       20295       0.00      0.00      0.00         1\\n       20299       0.00      0.00      0.00         1\\n       20300       0.00      0.00      0.00         2\\n       20325       0.00      0.00      0.00         1\\n       20345       0.00      0.00      0.00         1\\n       20360       0.00      0.00      0.00         1\\n       20390       0.00      0.00      0.00         1\\n       20445       0.00      0.00      0.00         2\\n       20449       0.00      0.00      0.00         1\\n       20450       0.00      0.00      0.00         1\\n       20470       0.00      0.00      0.00         1\\n       20490       0.00      0.00      0.00         1\\n       20525       0.00      0.00      0.00         1\\n       20555       0.00      0.00      0.00         2\\n       20575       0.00      0.00      0.00         1\\n       20595       0.00      0.00      0.00         3\\n       20596       0.00      0.00      0.00         1\\n       20690       0.00      0.00      0.00         1\\n       20695       0.00      0.00      0.00         2\\n       20720       0.00      0.00      0.00         1\\n       20755       0.00      0.00      0.00         1\\n       20793       0.00      0.00      0.00         1\\n       20795       0.00      0.00      0.00         3\\n       20810       0.00      0.00      0.00         1\\n       20820       0.00      0.00      0.00         1\\n       20825       0.00      0.00      0.00         1\\n       20840       0.00      0.00      0.00         1\\n       20850       0.00      0.00      0.00         1\\n       20865       0.00      0.00      0.00         1\\n       20870       0.00      0.00      0.00         2\\n       20875       0.00      0.00      0.00         1\\n       20885       0.00      0.00      0.00         1\\n       20895       0.00      0.00      0.00         2\\n       20940       0.00      0.00      0.00         1\\n       20960       0.00      0.00      0.00         1\\n       20980       0.00      0.00      0.00         1\\n       20990       0.00      0.00      0.00         1\\n       20995       0.00      0.00      0.00         6\\n       21000       0.00      0.00      0.00         1\\n       21010       0.00      0.00      0.00         1\\n       21025       0.00      0.00      0.00         1\\n       21030       0.00      0.00      0.00         1\\n       21035       0.00      0.00      0.00         1\\n       21040       0.00      0.00      0.00         1\\n       21055       0.00      0.00      0.00         1\\n       21065       0.00      0.00      0.00         2\\n       21095       0.00      0.00      0.00         2\\n       21099       0.00      0.00      0.00         1\\n       21165       0.00      0.00      0.00         1\\n       21190       0.00      0.00      0.00         1\\n       21195       0.00      0.00      0.00         1\\n       21200       0.00      0.00      0.00         1\\n       21225       0.00      0.00      0.00         1\\n       21240       0.00      0.00      0.00         1\\n       21265       0.00      0.00      0.00         1\\n       21270       0.00      0.00      0.00         1\\n       21295       0.00      0.00      0.00         3\\n       21315       0.00      0.00      0.00         1\\n       21340       0.00      0.00      0.00         1\\n       21345       0.00      0.00      0.00         3\\n       21350       0.00      0.00      0.00         1\\n       21395       0.00      0.00      0.00         4\\n       21400       0.00      0.00      0.00         1\\n       21415       0.00      0.00      0.00         1\\n       21430       0.00      0.00      0.00         1\\n       21455       0.00      0.00      0.00         1\\n       21460       0.00      0.00      0.00         1\\n       21465       0.00      0.00      0.00         2\\n       21474       0.00      0.00      0.00         1\\n       21475       0.00      0.00      0.00         2\\n       21490       0.00      0.00      0.00         1\\n       21495       0.00      0.00      0.00         3\\n       21500       0.00      0.00      0.00         1\\n       21520       0.00      0.00      0.00         1\\n       21585       0.00      0.00      0.00         1\\n       21590       0.00      0.00      0.00         2\\n       21595       0.00      0.00      0.00         2\\n       21599       0.00      0.00      0.00         1\\n       21600       0.00      0.00      0.00         2\\n       21610       0.00      0.00      0.00         1\\n       21615       0.00      0.00      0.00         1\\n       21620       0.00      0.00      0.00         1\\n       21625       0.00      0.00      0.00         1\\n       21640       0.00      0.00      0.00         1\\n       21650       0.00      0.00      0.00         1\\n       21665       0.00      0.00      0.00         1\\n       21675       0.00      0.00      0.00         1\\n       21690       0.00      0.00      0.00         2\\n       21695       0.00      0.00      0.00         2\\n       21699       0.00      0.00      0.00         1\\n       21700       0.00      0.00      0.00         1\\n       21715       0.00      0.00      0.00         2\\n       21735       0.00      0.00      0.00         1\\n       21750       0.00      0.00      0.00         1\\n       21795       0.00      0.00      0.00         4\\n       21800       0.00      0.00      0.00         1\\n       21815       0.00      0.00      0.00         1\\n       21820       0.00      0.00      0.00         1\\n       21825       0.00      0.00      0.00         1\\n       21830       0.00      0.00      0.00         1\\n       21850       0.00      0.00      0.00         1\\n       21890       0.00      0.00      0.00         2\\n       21900       0.00      0.00      0.00         2\\n       21950       0.00      0.00      0.00         1\\n       21955       0.00      0.00      0.00         1\\n       21970       0.00      0.00      0.00         1\\n       21990       0.00      0.00      0.00         1\\n       21995       0.00      0.00      0.00         5\\n       22030       0.00      0.00      0.00         1\\n       22040       0.00      0.00      0.00         1\\n       22045       0.00      0.00      0.00         2\\n       22075       0.00      0.00      0.00         1\\n       22085       0.00      0.00      0.00         1\\n       22095       0.00      0.00      0.00         2\\n       22100       0.00      0.00      0.00         1\\n       22115       0.00      0.00      0.00         1\\n       22145       0.00      0.00      0.00         1\\n       22150       0.00      0.00      0.00         1\\n       22155       0.00      0.00      0.00         1\\n       22170       0.00      0.00      0.00         1\\n       22190       0.00      0.00      0.00         2\\n       22195       0.00      0.00      0.00         1\\n       22200       0.00      0.00      0.00         1\\n       22240       0.00      0.00      0.00         1\\n       22245       0.00      0.00      0.00         1\\n       22249       0.00      0.00      0.00         1\\n       22250       0.00      0.00      0.00         1\\n       22260       0.00      0.00      0.00         1\\n       22295       0.00      0.00      0.00         2\\n       22300       0.00      0.00      0.00         4\\n       22305       0.00      0.00      0.00         2\\n       22315       0.00      0.00      0.00         2\\n       22345       0.00      0.00      0.00         1\\n       22349       0.00      0.00      0.00         1\\n       22350       0.00      0.00      0.00         1\\n       22375       0.00      0.00      0.00         1\\n       22385       0.00      0.00      0.00         1\\n       22395       0.00      0.00      0.00         1\\n       22400       0.00      0.00      0.00         1\\n       22435       0.00      0.00      0.00         1\\n       22440       0.00      0.00      0.00         2\\n       22455       0.00      0.00      0.00         1\\n       22479       0.00      0.00      0.00         1\\n       22495       0.00      0.00      0.00         3\\n       22500       0.00      0.00      0.00         1\\n       22525       0.00      0.00      0.00         1\\n       22550       0.00      0.00      0.00         1\\n       22560       0.00      0.00      0.00         2\\n       22565       0.00      0.00      0.00         1\\n       22595       0.00      0.00      0.00         2\\n       22600       0.00      0.00      0.00         2\\n       22635       0.00      0.00      0.00         1\\n       22640       0.00      0.00      0.00         1\\n       22645       0.00      0.00      0.00         1\\n       22680       0.00      0.00      0.00         1\\n       22695       0.00      0.00      0.00         5\\n       22700       0.00      0.00      0.00         2\\n       22715       0.00      0.00      0.00         1\\n       22725       0.00      0.00      0.00         1\\n       22750       0.00      0.00      0.00         1\\n       22770       0.00      0.00      0.00         1\\n       22785       0.00      0.00      0.00         1\\n       22800       0.00      0.00      0.00         1\\n       22860       0.00      0.00      0.00         1\\n       22885       0.00      0.00      0.00         1\\n       22900       0.00      0.00      0.00         1\\n       22930       0.00      0.00      0.00         1\\n       22935       0.00      0.00      0.00         1\\n       22955       0.00      0.00      0.00         1\\n       22985       0.00      0.00      0.00         1\\n       22990       0.00      0.00      0.00         1\\n       22995       0.00      0.00      0.00         5\\n       22999       0.00      0.00      0.00         1\\n       23030       0.00      0.00      0.00         1\\n       23040       0.00      0.00      0.00         2\\n       23049       0.00      0.00      0.00         1\\n       23055       0.00      0.00      0.00         1\\n       23070       0.00      0.00      0.00         1\\n       23085       0.00      0.00      0.00         1\\n       23095       0.00      0.00      0.00         1\\n       23100       0.00      0.00      0.00         2\\n       23120       0.00      0.00      0.00         2\\n       23145       0.00      0.00      0.00         1\\n       23155       0.00      0.00      0.00         1\\n       23170       0.00      0.00      0.00         1\\n       23175       0.00      0.00      0.00         1\\n       23195       0.00      0.00      0.00         2\\n       23199       0.00      0.00      0.00         1\\n       23200       0.00      0.00      0.00         1\\n       23230       0.00      0.00      0.00         1\\n       23240       0.00      0.00      0.00         1\\n       23245       0.00      0.00      0.00         0\\n       23250       0.00      0.00      0.00         1\\n       23295       0.00      0.00      0.00         3\\n       23300       0.00      0.00      0.00         2\\n       23330       0.00      0.00      0.00         1\\n       23335       0.00      0.00      0.00         3\\n       23355       0.00      0.00      0.00         1\\n       23360       0.00      0.00      0.00         2\\n       23390       0.00      0.00      0.00         1\\n       23395       0.00      0.00      0.00         2\\n       23399       0.00      0.00      0.00         1\\n       23400       0.00      0.00      0.00         0\\n       23405       0.00      0.00      0.00         1\\n       23445       0.00      0.00      0.00         1\\n       23449       0.00      0.00      0.00         1\\n       23465       0.00      0.00      0.00         1\\n       23475       0.00      0.00      0.00         1\\n       23480       0.00      0.00      0.00         1\\n       23490       0.00      0.00      0.00         2\\n       23495       0.00      0.00      0.00         3\\n       23499       0.00      0.00      0.00         1\\n       23515       0.00      0.00      0.00         3\\n       23520       0.00      0.00      0.00         1\\n       23525       0.00      0.00      0.00         1\\n       23530       0.00      0.00      0.00         1\\n       23585       0.00      0.00      0.00         1\\n       23590       0.00      0.00      0.00         1\\n       23595       0.00      0.00      0.00         1\\n       23600       0.00      0.00      0.00         2\\n       23605       0.00      0.00      0.00         1\\n       23610       0.00      0.00      0.00         2\\n       23630       0.00      0.00      0.00         1\\n       23640       0.00      0.00      0.00         1\\n       23650       0.00      0.00      0.00         2\\n       23660       0.00      0.00      0.00         2\\n       23670       0.00      0.00      0.00         1\\n       23675       0.00      0.00      0.00         1\\n       23690       0.00      0.00      0.00         1\\n       23700       0.00      0.00      0.00         1\\n       23725       0.00      0.00      0.00         1\\n       23740       0.00      0.00      0.00         1\\n       23749       0.00      0.00      0.00         1\\n       23790       0.00      0.00      0.00         1\\n       23795       0.00      0.00      0.00         3\\n       23799       0.00      0.00      0.00         1\\n       23800       0.00      0.00      0.00         1\\n       23820       0.00      0.00      0.00         1\\n       23830       0.00      0.00      0.00         1\\n       23840       0.00      0.00      0.00         1\\n       23855       0.00      0.00      0.00         1\\n       23875       0.00      0.00      0.00         1\\n       23895       0.00      0.00      0.00         1\\n       23900       0.00      0.00      0.00         1\\n       23905       0.00      0.00      0.00         1\\n       23915       0.00      0.00      0.00         1\\n       23945       0.00      0.00      0.00         2\\n       23949       0.00      0.00      0.00         1\\n       23970       0.00      0.00      0.00         1\\n       23985       0.00      0.00      0.00         1\\n       23995       0.00      0.00      0.00         4\\n       23999       0.00      0.00      0.00         1\\n       24000       0.00      0.00      0.00         1\\n       24005       0.00      0.00      0.00         1\\n       24035       0.00      0.00      0.00         2\\n       24040       0.00      0.00      0.00         1\\n       24045       0.00      0.00      0.00         1\\n       24050       0.00      0.00      0.00         1\\n       24055       0.00      0.00      0.00         1\\n       24063       0.00      0.00      0.00         1\\n       24065       0.00      0.00      0.00         1\\n       24070       0.00      0.00      0.00         2\\n       24075       0.00      0.00      0.00         1\\n       24085       0.00      0.00      0.00         1\\n       24100       0.00      0.00      0.00         2\\n       24140       0.00      0.00      0.00         3\\n       24145       0.00      0.00      0.00         1\\n       24150       0.00      0.00      0.00         2\\n       24155       0.00      0.00      0.00         1\\n       24165       0.00      0.00      0.00         1\\n       24195       0.00      0.00      0.00         2\\n       24200       0.00      0.00      0.00         3\\n       24230       0.00      0.00      0.00         1\\n       24235       0.00      0.00      0.00         1\\n       24265       0.00      0.00      0.00         1\\n       24275       0.00      0.00      0.00         1\\n       24295       0.00      0.00      0.00         1\\n       24300       0.00      0.00      0.00         1\\n       24330       0.00      0.00      0.00         1\\n       24340       0.00      0.00      0.00         1\\n       24345       0.00      0.00      0.00         1\\n       24350       0.00      0.00      0.00         2\\n       24375       0.00      0.00      0.00         1\\n       24395       0.00      0.00      0.00         1\\n       24415       0.00      0.00      0.00         1\\n       24430       0.00      0.00      0.00         1\\n       24440       0.00      0.00      0.00         2\\n       24450       0.00      0.00      0.00         2\\n       24462       0.00      0.00      0.00         1\\n       24470       0.00      0.00      0.00         2\\n       24490       0.00      0.00      0.00         3\\n       24492       0.00      0.00      0.00         1\\n       24530       0.00      0.00      0.00         1\\n       24535       0.00      0.00      0.00         2\\n       24580       0.00      0.00      0.00         1\\n       24590       0.00      0.00      0.00         1\\n       24595       0.00      0.00      0.00         1\\n       24599       0.00      0.00      0.00         1\\n       24610       0.00      0.00      0.00         2\\n       24615       0.00      0.00      0.00         1\\n       24630       0.00      0.00      0.00         1\\n       24665       0.00      0.00      0.00         1\\n       24670       0.00      0.00      0.00         1\\n       24685       0.00      0.00      0.00         1\\n       24695       0.00      0.00      0.00         1\\n       24699       0.00      0.00      0.00         3\\n       24700       0.00      0.00      0.00         1\\n       24710       0.00      0.00      0.00         2\\n       24750       0.00      0.00      0.00         1\\n       24770       0.00      0.00      0.00         2\\n       24775       0.00      0.00      0.00         1\\n       24795       0.00      0.00      0.00         2\\n       24799       0.00      0.00      0.00         1\\n       24800       0.00      0.00      0.00         1\\n       24805       0.00      0.00      0.00         1\\n       24815       0.00      0.00      0.00         1\\n       24845       0.00      0.00      0.00         1\\n       24850       0.00      0.00      0.00         1\\n       24875       0.00      0.00      0.00         1\\n       24885       0.00      0.00      0.00         2\\n       24895       0.00      0.00      0.00         2\\n       24900       0.00      0.00      0.00         1\\n       24910       0.00      0.00      0.00         1\\n       24915       0.00      0.00      0.00         1\\n       24930       0.00      0.00      0.00         1\\n       24950       0.00      0.00      0.00         2\\n       24990       0.00      0.00      0.00         1\\n       24995       0.00      0.00      0.00         4\\n       24999       0.00      0.00      0.00         1\\n       25045       0.00      0.00      0.00         1\\n       25049       0.00      0.00      0.00         1\\n       25060       0.00      0.00      0.00         1\\n       25065       0.00      0.00      0.00         1\\n       25095       0.00      0.00      0.00         5\\n       25099       0.00      0.00      0.00         1\\n       25125       0.00      0.00      0.00         1\\n       25135       0.00      0.00      0.00         0\\n       25145       0.00      0.00      0.00         1\\n       25155       0.00      0.00      0.00         1\\n       25160       0.00      0.00      0.00         1\\n       25170       0.00      0.00      0.00         2\\n       25185       0.00      0.00      0.00         1\\n       25190       0.00      0.00      0.00         1\\n       25195       0.00      0.00      0.00         2\\n       25200       0.00      0.00      0.00         3\\n       25215       0.00      0.00      0.00         1\\n       25220       0.00      0.00      0.00         1\\n       25230       0.00      0.00      0.00         1\\n       25235       0.00      0.00      0.00         1\\n       25245       0.00      0.00      0.00         1\\n       25279       0.00      0.00      0.00         1\\n       25285       0.00      0.00      0.00         1\\n       25295       0.00      0.00      0.00         2\\n       25300       0.00      0.00      0.00         3\\n       25305       0.00      0.00      0.00         1\\n       25325       0.00      0.00      0.00         1\\n       25350       0.00      0.00      0.00         1\\n       25365       0.00      0.00      0.00         1\\n       25380       0.00      0.00      0.00         2\\n       25385       0.00      0.00      0.00         1\\n       25399       0.00      0.00      0.00         1\\n       25400       0.00      0.00      0.00         2\\n       25415       0.00      0.00      0.00         1\\n       25445       0.00      0.00      0.00         1\\n       25450       0.00      0.00      0.00         0\\n       25460       0.00      0.00      0.00         2\\n       25470       0.00      0.00      0.00         1\\n       25475       0.00      0.00      0.00         1\\n       25480       0.00      0.00      0.00         1\\n       25485       0.00      0.00      0.00         1\\n       25495       0.00      0.00      0.00         2\\n       25499       0.00      0.00      0.00         1\\n       25550       0.00      0.00      0.00         2\\n       25555       0.00      0.00      0.00         1\\n       25560       0.00      0.00      0.00         1\\n       25565       0.00      0.00      0.00         1\\n       25575       0.00      0.00      0.00         1\\n       25580       0.00      0.00      0.00         1\\n       25585       0.00      0.00      0.00         1\\n       25590       0.00      0.00      0.00         1\\n       25595       0.00      0.00      0.00         3\\n       25599       0.00      0.00      0.00         1\\n       25645       0.00      0.00      0.00         2\\n       25650       0.00      0.00      0.00         1\\n       25670       0.00      0.00      0.00         1\\n       25675       0.00      0.00      0.00         2\\n       25690       0.00      0.00      0.00         2\\n       25695       0.00      0.00      0.00         1\\n       25700       0.00      0.00      0.00         1\\n       25710       0.00      0.00      0.00         1\\n       25730       0.00      0.00      0.00         1\\n       25790       0.00      0.00      0.00         1\\n       25795       0.00      0.00      0.00         3\\n       25799       0.00      0.00      0.00         2\\n       25805       0.00      0.00      0.00         1\\n       25830       0.00      0.00      0.00         1\\n       25845       0.00      0.00      0.00         2\\n       25850       0.00      0.00      0.00         1\\n       25860       0.00      0.00      0.00         1\\n       25865       0.00      0.00      0.00         1\\n       25870       0.00      0.00      0.00         1\\n       25885       0.00      0.00      0.00         3\\n       25895       0.00      0.00      0.00         1\\n       25900       0.00      0.00      0.00         1\\n       25905       0.00      0.00      0.00         1\\n       25915       0.00      0.00      0.00         1\\n       25949       0.00      0.00      0.00         2\\n       25960       0.00      0.00      0.00         2\\n       25965       0.00      0.00      0.00         1\\n       25975       0.00      0.00      0.00         2\\n       25980       0.00      0.00      0.00         1\\n       25990       0.00      0.00      0.00         2\\n       25995       0.01      0.86      0.01         7\\n       26000       0.00      0.00      0.00         1\\n       26005       0.00      0.00      0.00         1\\n       26030       0.00      0.00      0.00         1\\n       26040       0.00      0.00      0.00         1\\n       26070       0.00      0.00      0.00         1\\n       26099       0.00      0.00      0.00         1\\n       26100       0.00      0.00      0.00         1\\n       26105       0.00      0.00      0.00         1\\n       26115       0.00      0.00      0.00         1\\n       26140       0.00      0.00      0.00         2\\n       26145       0.00      0.00      0.00         1\\n       26150       0.00      0.00      0.00         1\\n       26155       0.00      0.00      0.00         1\\n       26160       0.00      0.00      0.00         2\\n       26195       0.00      0.00      0.00         9\\n       26199       0.00      0.00      0.00         1\\n       26200       0.00      0.00      0.00         1\\n       26210       0.00      0.00      0.00         1\\n       26215       0.00      0.00      0.00         1\\n       26220       0.00      0.00      0.00         1\\n       26230       0.00      0.00      0.00         1\\n       26240       0.00      0.00      0.00         1\\n       26245       0.00      0.00      0.00         1\\n       26250       0.00      0.00      0.00         1\\n       26270       0.00      0.00      0.00         1\\n       26275       0.00      0.00      0.00         1\\n       26280       0.00      0.00      0.00         2\\n       26295       0.00      0.00      0.00         2\\n       26310       0.00      0.00      0.00         1\\n       26315       0.00      0.00      0.00         1\\n       26325       0.00      0.00      0.00         2\\n       26395       0.00      0.00      0.00         1\\n       26405       0.00      0.00      0.00         2\\n       26430       0.00      0.00      0.00         1\\n       26435       0.00      0.00      0.00         1\\n       26450       0.00      0.00      0.00         1\\n       26455       0.00      0.00      0.00         1\\n       26460       0.00      0.00      0.00         1\\n       26470       0.00      0.00      0.00         1\\n       26480       0.00      0.00      0.00         1\\n       26490       0.00      0.00      0.00         1\\n       26495       0.00      0.00      0.00         1\\n       26510       0.00      0.00      0.00         1\\n       26515       0.00      0.00      0.00         2\\n       26530       0.00      0.00      0.00         1\\n       26540       0.00      0.00      0.00         2\\n       26575       0.00      0.00      0.00         1\\n       26595       0.00      0.00      0.00         2\\n       26600       0.00      0.00      0.00         2\\n       26610       0.00      0.00      0.00         1\\n       26615       0.00      0.00      0.00         1\\n       26630       0.00      0.00      0.00         2\\n       26640       0.00      0.00      0.00         3\\n       26645       0.00      0.00      0.00         1\\n       26650       0.00      0.00      0.00         1\\n       26665       0.00      0.00      0.00         1\\n       26670       0.00      0.00      0.00         1\\n       26685       0.00      0.00      0.00         1\\n       26695       0.00      0.00      0.00         2\\n       26699       0.00      0.00      0.00         1\\n       26700       0.00      0.00      0.00         2\\n       26749       0.00      0.00      0.00         1\\n       26750       0.00      0.00      0.00         2\\n       26755       0.00      0.00      0.00         1\\n       26760       0.00      0.00      0.00         1\\n       26780       0.00      0.00      0.00         1\\n       26795       0.00      0.00      0.00         4\\n       26800       0.00      0.00      0.00         1\\n       26810       0.00      0.00      0.00         1\\n       26825       0.00      0.00      0.00         2\\n       26835       0.00      0.00      0.00         1\\n       26840       0.00      0.00      0.00         2\\n       26845       0.00      0.00      0.00         1\\n       26850       0.00      0.00      0.00         1\\n       26865       0.00      0.00      0.00         1\\n       26880       0.00      0.00      0.00         1\\n       26895       0.00      0.00      0.00         1\\n       26910       0.00      0.00      0.00         1\\n       26920       0.00      0.00      0.00         2\\n       26935       0.00      0.00      0.00         1\\n       26940       0.00      0.00      0.00         2\\n       26960       0.00      0.00      0.00         1\\n       26975       0.00      0.00      0.00         1\\n       26985       0.00      0.00      0.00         1\\n       26990       0.00      0.00      0.00         2\\n       26995       0.00      0.00      0.00         2\\n       27005       0.00      0.00      0.00         1\\n       27010       0.00      0.00      0.00         2\\n       27035       0.00      0.00      0.00         1\\n       27050       0.00      0.00      0.00         1\\n       27060       0.00      0.00      0.00         2\\n       27095       0.00      0.00      0.00         2\\n       27100       0.00      0.00      0.00         2\\n       27110       0.00      0.00      0.00         1\\n       27135       0.00      0.00      0.00         1\\n       27150       0.00      0.00      0.00         1\\n       27155       0.00      0.00      0.00         1\\n       27170       0.00      0.00      0.00         1\\n       27225       0.00      0.00      0.00         1\\n       27230       0.00      0.00      0.00         2\\n       27235       0.00      0.00      0.00         1\\n       27245       0.00      0.00      0.00         1\\n       27250       0.00      0.00      0.00         2\\n       27295       0.00      0.00      0.00         4\\n       27300       0.00      0.00      0.00         2\\n       27305       0.00      0.00      0.00         1\\n       27335       0.00      0.00      0.00         1\\n       27340       0.00      0.00      0.00         1\\n       27350       0.00      0.00      0.00         1\\n       27375       0.00      0.00      0.00         1\\n       27390       0.00      0.00      0.00         1\\n       27395       0.00      0.00      0.00         1\\n       27455       0.00      0.00      0.00         1\\n       27460       0.00      0.00      0.00         1\\n       27495       0.00      0.00      0.00         1\\n       27499       0.00      0.00      0.00         2\\n       27500       0.00      0.00      0.00         1\\n       27505       0.00      0.00      0.00         2\\n       27549       0.00      0.00      0.00         1\\n       27580       0.00      0.00      0.00         1\\n       27619       0.00      0.00      0.00         1\\n       27625       0.00      0.00      0.00         2\\n       27635       0.00      0.00      0.00         1\\n       27645       0.00      0.00      0.00         2\\n       27665       0.00      0.00      0.00         1\\n       27670       0.00      0.00      0.00         1\\n       27695       0.00      0.00      0.00         2\\n       27700       0.00      0.00      0.00         1\\n       27710       0.00      0.00      0.00         1\\n       27750       0.00      0.00      0.00         1\\n       27780       0.00      0.00      0.00         1\\n       27785       0.00      0.00      0.00         1\\n       27825       0.00      0.00      0.00         1\\n       27840       0.00      0.00      0.00         1\\n       27855       0.00      0.00      0.00         1\\n       27870       0.00      0.00      0.00         1\\n       27880       0.00      0.00      0.00         1\\n       27920       0.00      0.00      0.00         1\\n       27925       0.00      0.00      0.00         1\\n       27935       0.00      0.00      0.00         1\\n       27950       0.00      0.00      0.00         1\\n       27960       0.00      0.00      0.00         1\\n       27970       0.00      0.00      0.00         1\\n       27975       0.00      0.00      0.00         1\\n       27990       0.00      0.00      0.00         1\\n       27995       0.00      0.00      0.00         4\\n       27999       0.00      0.00      0.00         2\\n       28000       0.00      0.00      0.00         1\\n       28020       0.00      0.00      0.00         1\\n       28025       0.00      0.00      0.00         2\\n       28030       0.00      0.00      0.00         1\\n       28050       0.00      0.00      0.00         1\\n       28060       0.00      0.00      0.00         1\\n       28070       0.00      0.00      0.00         1\\n       28089       0.00      0.00      0.00         1\\n       28100       0.00      0.00      0.00         1\\n       28110       0.00      0.00      0.00         1\\n       28115       0.00      0.00      0.00         1\\n       28170       0.00      0.00      0.00         1\\n       28195       0.00      0.00      0.00         2\\n       28205       0.00      0.00      0.00         1\\n       28210       0.00      0.00      0.00         2\\n       28220       0.00      0.00      0.00         1\\n       28280       0.00      0.00      0.00         1\\n       28295       0.00      0.00      0.00         3\\n       28310       0.00      0.00      0.00         1\\n       28349       0.00      0.00      0.00         1\\n       28355       0.00      0.00      0.00         1\\n       28365       0.00      0.00      0.00         1\\n       28380       0.00      0.00      0.00         1\\n       28395       0.00      0.00      0.00         2\\n       28410       0.00      0.00      0.00         3\\n       28425       0.00      0.00      0.00         1\\n       28445       0.00      0.00      0.00         1\\n       28447       0.00      0.00      0.00         1\\n       28485       0.00      0.00      0.00         1\\n       28495       0.00      0.00      0.00         1\\n       28500       0.00      0.00      0.00         3\\n       28520       0.00      0.00      0.00         1\\n       28535       0.00      0.00      0.00         1\\n       28545       0.00      0.00      0.00         1\\n       28555       0.00      0.00      0.00         1\\n       28575       0.00      0.00      0.00         1\\n       28580       0.00      0.00      0.00         2\\n       28595       0.00      0.00      0.00         3\\n       28615       0.00      0.00      0.00         1\\n       28620       0.00      0.00      0.00         1\\n       28625       0.00      0.00      0.00         1\\n       28650       0.00      0.00      0.00         2\\n       28665       0.00      0.00      0.00         1\\n       28675       0.00      0.00      0.00         1\\n       28700       0.02      0.50      0.04         2\\n       28725       0.00      0.00      0.00         1\\n       28730       0.00      0.00      0.00         1\\n       28745       0.00      0.00      0.00         1\\n       28760       0.00      0.00      0.00         1\\n       28795       0.00      0.00      0.00         1\\n       28800       0.00      0.00      0.00         1\\n       28850       0.00      0.00      0.00         1\\n       28875       0.00      0.00      0.00         1\\n       28890       0.00      0.00      0.00         1\\n       28895       0.00      0.00      0.00         1\\n       28900       0.00      0.00      0.00         1\\n       28915       0.00      0.00      0.00         1\\n       28925       0.00      0.00      0.00         1\\n       28950       0.00      0.00      0.00         1\\n       28960       0.00      0.00      0.00         1\\n       28980       0.00      0.00      0.00         1\\n       28995       0.00      0.00      0.00         4\\n       29000       0.00      0.00      0.00         1\\n       29015       0.00      0.00      0.00         1\\n       29030       0.00      0.00      0.00         2\\n       29065       0.00      0.00      0.00         1\\n       29070       0.00      0.00      0.00         1\\n       29089       0.00      0.00      0.00         1\\n       29095       0.00      0.00      0.00         2\\n       29099       0.00      0.00      0.00         1\\n       29100       0.00      0.00      0.00         3\\n       29120       0.00      0.00      0.00         2\\n       29125       0.00      0.00      0.00         1\\n       29145       0.00      0.00      0.00         2\\n       29149       0.00      0.00      0.00         2\\n       29150       0.00      0.00      0.00         1\\n       29155       0.00      0.00      0.00         1\\n       29170       0.00      0.00      0.00         2\\n       29195       0.00      0.00      0.00         1\\n       29200       0.00      0.00      0.00         1\\n       29240       0.00      0.00      0.00         1\\n       29275       0.00      0.00      0.00         1\\n       29280       0.00      0.00      0.00         3\\n       29285       0.00      0.00      0.00         1\\n       29295       0.00      0.00      0.00         1\\n       29330       0.00      0.00      0.00         1\\n       29350       0.00      0.00      0.00         1\\n       29355       0.00      0.00      0.00         1\\n       29360       0.00      0.00      0.00         1\\n       29395       0.00      0.00      0.00         0\\n       29420       0.00      0.00      0.00         1\\n       29430       0.00      0.00      0.00         1\\n       29435       0.00      0.00      0.00         1\\n       29440       0.00      0.00      0.00         1\\n       29450       0.00      0.00      0.00         1\\n       29460       0.00      0.00      0.00         1\\n       29465       0.00      0.00      0.00         1\\n       29485       0.00      0.00      0.00         1\\n       29490       0.00      0.00      0.00         1\\n       29495       0.00      0.00      0.00         2\\n       29510       0.00      0.00      0.00         2\\n       29535       0.00      0.00      0.00         1\\n       29540       0.00      0.00      0.00         1\\n       29550       0.00      0.00      0.00         1\\n       29575       0.00      0.00      0.00         1\\n       29605       0.00      0.00      0.00         1\\n       29610       0.00      0.00      0.00         1\\n       29615       0.00      0.00      0.00         1\\n       29630       0.00      0.00      0.00         1\\n       29640       0.00      0.00      0.00         1\\n       29645       0.00      0.00      0.00         1\\n       29670       0.00      0.00      0.00         1\\n       29675       0.00      0.00      0.00         1\\n       29695       0.00      0.00      0.00         5\\n       29700       0.00      0.00      0.00         1\\n       29715       0.00      0.00      0.00         1\\n       29725       0.00      0.00      0.00         1\\n       29730       0.00      0.00      0.00         1\\n       29735       0.00      0.00      0.00         2\\n       29740       0.00      0.00      0.00         1\\n       29745       0.00      0.00      0.00         1\\n       29750       0.00      0.00      0.00         1\\n       29765       0.00      0.00      0.00         1\\n       29770       0.00      0.00      0.00         2\\n       29775       0.00      0.00      0.00         1\\n       29780       0.00      0.00      0.00         3\\n       29785       0.00      0.00      0.00         1\\n       29795       0.00      0.00      0.00         2\\n       29800       0.00      0.00      0.00         1\\n       29810       0.00      0.00      0.00         1\\n       29820       0.00      0.00      0.00         1\\n       29830       0.00      0.00      0.00         1\\n       29850       0.00      0.00      0.00         1\\n       29860       0.00      0.00      0.00         1\\n       29870       0.00      0.00      0.00         1\\n       29880       0.00      0.00      0.00         2\\n       29895       0.00      0.00      0.00         2\\n       29900       0.00      0.00      0.00         4\\n       29905       0.00      0.00      0.00         1\\n       29925       0.00      0.00      0.00         1\\n       29930       0.00      0.00      0.00         1\\n       29955       0.00      0.00      0.00         1\\n       29985       0.00      0.00      0.00         2\\n       29990       0.00      0.00      0.00         2\\n       29995       0.00      0.00      0.00         7\\n       30010       0.00      0.00      0.00         1\\n       30015       0.00      0.00      0.00         1\\n       30045       0.00      0.00      0.00         2\\n       30090       0.00      0.00      0.00         1\\n       30095       0.00      0.00      0.00         1\\n       30100       0.00      0.00      0.00         2\\n       30140       0.00      0.00      0.00         1\\n       30145       0.00      0.00      0.00         1\\n       30160       0.00      0.00      0.00         1\\n       30190       0.00      0.00      0.00         1\\n       30195       0.00      0.00      0.00         4\\n       30210       0.00      0.00      0.00         2\\n       30215       0.00      0.00      0.00         1\\n       30230       0.00      0.00      0.00         2\\n       30235       0.00      0.00      0.00         1\\n       30240       0.00      0.00      0.00         1\\n       30245       0.00      0.00      0.00         2\\n       30250       0.00      0.00      0.00         1\\n       30270       0.00      0.00      0.00         2\\n       30295       0.00      0.00      0.00         2\\n       30340       0.00      0.00      0.00         1\\n       30380       0.00      0.00      0.00         1\\n       30395       0.00      0.00      0.00         1\\n       30425       0.00      0.00      0.00         1\\n       30440       0.00      0.00      0.00         1\\n       30465       0.00      0.00      0.00         1\\n       30495       0.00      0.00      0.00         3\\n       30500       0.00      0.00      0.00         2\\n       30510       0.00      0.00      0.00         2\\n       30525       0.00      0.00      0.00         2\\n       30530       0.00      0.00      0.00         1\\n       30535       0.00      0.00      0.00         1\\n       30550       0.00      0.00      0.00         2\\n       30575       0.00      0.00      0.00         1\\n       30595       0.00      0.00      0.00         2\\n       30610       0.00      0.00      0.00         2\\n       30620       0.00      0.00      0.00         1\\n       30635       0.00      0.00      0.00         1\\n       30695       0.00      0.00      0.00         4\\n       30710       0.00      0.00      0.00         1\\n       30720       0.00      0.00      0.00         1\\n       30745       0.00      0.00      0.00         1\\n       30750       0.00      0.00      0.00         1\\n       30755       0.00      0.00      0.00         2\\n       30770       0.00      0.00      0.00         1\\n       30775       0.00      0.00      0.00         1\\n       30790       0.00      0.00      0.00         1\\n       30795       0.00      0.00      0.00         1\\n       30840       0.00      0.00      0.00         1\\n       30850       0.00      0.00      0.00         1\\n       30890       0.00      0.00      0.00         2\\n       30895       0.00      0.00      0.00         1\\n       30900       0.00      0.00      0.00         1\\n       30920       0.00      0.00      0.00         1\\n       30925       0.00      0.00      0.00         1\\n       30935       0.00      0.00      0.00         2\\n       30975       0.00      0.00      0.00         1\\n       30990       0.00      0.00      0.00         1\\n       30995       0.00      0.00      0.00         4\\n       31010       0.00      0.00      0.00         1\\n       31020       0.00      0.00      0.00         1\\n       31025       0.00      0.00      0.00         1\\n       31035       0.00      0.00      0.00         1\\n       31065       0.00      0.00      0.00         1\\n       31095       0.00      0.00      0.00         1\\n       31115       0.00      0.00      0.00         2\\n       31120       0.00      0.00      0.00         2\\n       31125       0.00      0.00      0.00         3\\n       31145       0.00      0.00      0.00         1\\n       31160       0.00      0.00      0.00         1\\n       31175       0.00      0.00      0.00         1\\n       31180       0.00      0.00      0.00         1\\n       31195       0.00      0.00      0.00         1\\n       31200       0.00      0.00      0.00         1\\n       31205       0.00      0.00      0.00         1\\n       31245       0.00      0.00      0.00         1\\n       31250       0.00      0.00      0.00         2\\n       31270       0.00      0.00      0.00         1\\n       31275       0.00      0.00      0.00         1\\n       31290       0.00      0.00      0.00         4\\n       31300       0.00      0.00      0.00         2\\n       31320       0.00      0.00      0.00         1\\n       31335       0.00      0.00      0.00         1\\n       31340       0.00      0.00      0.00         1\\n       31360       0.00      0.00      0.00         2\\n       31370       0.00      0.00      0.00         2\\n       31375       0.00      0.00      0.00         1\\n       31415       0.00      0.00      0.00         2\\n       31420       0.00      0.00      0.00         2\\n       31430       0.00      0.00      0.00         2\\n       31445       0.00      0.00      0.00         1\\n       31450       0.00      0.00      0.00         1\\n       31465       0.00      0.00      0.00         1\\n       31485       0.00      0.00      0.00         1\\n       31490       0.00      0.00      0.00         1\\n       31495       0.00      0.00      0.00         2\\n       31500       0.00      0.00      0.00         3\\n       31505       0.00      0.00      0.00         1\\n       31510       0.00      0.00      0.00         1\\n       31520       0.00      0.00      0.00         1\\n       31525       0.00      0.00      0.00         1\\n       31550       0.00      0.00      0.00         1\\n       31555       0.00      0.00      0.00         1\\n       31570       0.00      0.00      0.00         3\\n       31575       0.00      0.00      0.00         2\\n       31615       0.00      0.00      0.00         1\\n       31625       0.00      0.00      0.00         4\\n       31640       0.00      0.00      0.00         1\\n       31655       0.00      0.00      0.00         1\\n       31670       0.00      0.00      0.00         1\\n       31680       0.00      0.00      0.00         1\\n       31695       0.00      0.00      0.00         2\\n       31700       0.00      0.00      0.00         1\\n       31725       0.00      0.00      0.00         2\\n       31730       0.00      0.00      0.00         1\\n       31745       0.00      0.00      0.00         1\\n       31750       0.00      0.00      0.00         2\\n       31780       0.00      0.00      0.00         1\\n       31785       0.00      0.00      0.00         1\\n       31790       0.00      0.00      0.00         2\\n       31795       0.00      0.00      0.00         1\\n       31800       0.00      0.00      0.00         0\\n       31830       0.00      0.00      0.00         1\\n       31865       0.00      0.00      0.00         1\\n       31900       0.00      0.00      0.00         2\\n       31905       0.00      0.00      0.00         3\\n       31925       0.00      0.00      0.00         1\\n       31950       0.00      0.00      0.00         1\\n       31955       0.00      0.00      0.00         1\\n       31965       0.00      0.00      0.00         1\\n       31990       0.00      0.00      0.00         1\\n       31995       0.00      0.00      0.00         2\\n       32000       0.00      0.00      0.00         2\\n       32025       0.00      0.00      0.00         1\\n       32055       0.00      0.00      0.00         1\\n       32065       0.00      0.00      0.00         1\\n       32070       0.00      0.00      0.00         1\\n       32085       0.00      0.00      0.00         1\\n       32095       0.00      0.00      0.00         3\\n       32099       0.00      0.00      0.00         1\\n       32100       0.00      0.00      0.00         2\\n       32125       0.00      0.00      0.00         1\\n       32175       0.00      0.00      0.00         1\\n       32185       0.00      0.00      0.00         1\\n       32210       0.00      0.00      0.00         1\\n       32215       0.00      0.00      0.00         1\\n       32240       0.00      0.00      0.00         1\\n       32260       0.00      0.00      0.00         1\\n       32270       0.00      0.00      0.00         1\\n       32300       0.00      0.00      0.00         1\\n       32320       0.00      0.00      0.00         1\\n       32330       0.00      0.00      0.00         2\\n       32360       0.00      0.00      0.00         2\\n       32370       0.00      0.00      0.00         1\\n       32385       0.00      0.00      0.00         1\\n       32395       0.00      0.00      0.00         6\\n       32420       0.00      0.00      0.00         1\\n       32460       0.00      0.00      0.00         2\\n       32495       0.00      0.00      0.00         1\\n       32545       0.00      0.00      0.00         1\\n       32550       0.00      0.00      0.00         4\\n       32599       0.00      0.00      0.00         1\\n       32600       0.00      0.00      0.00         2\\n       32620       0.00      0.00      0.00         1\\n       32640       0.00      0.00      0.00         1\\n       32645       0.00      0.00      0.00         1\\n       32670       0.00      0.00      0.00         3\\n       32690       0.00      0.00      0.00         2\\n       32700       0.00      0.00      0.00         4\\n       32730       0.00      0.00      0.00         1\\n       32745       0.00      0.00      0.00         1\\n       32760       0.00      0.00      0.00         1\\n       32785       0.00      0.00      0.00         1\\n       32850       0.00      0.00      0.00         2\\n       32887       0.00      0.00      0.00         1\\n       32890       0.00      0.00      0.00         2\\n       32895       0.00      0.00      0.00         1\\n       32900       0.00      0.00      0.00         1\\n       32960       0.00      0.00      0.00         1\\n       32980       0.00      0.00      0.00         1\\n       32990       0.00      0.00      0.00         1\\n       32995       0.00      0.00      0.00         3\\n       33000       0.00      0.00      0.00         3\\n       33015       0.00      0.00      0.00         1\\n       33030       0.00      0.00      0.00         1\\n       33050       0.00      0.00      0.00         3\\n       33060       0.00      0.00      0.00         1\\n       33065       0.00      0.00      0.00         1\\n       33070       0.00      0.00      0.00         1\\n       33075       0.00      0.00      0.00         2\\n       33080       0.00      0.00      0.00         1\\n       33100       0.00      0.00      0.00         4\\n       33130       0.00      0.00      0.00         1\\n       33140       0.00      0.00      0.00         1\\n       33165       0.00      0.00      0.00         1\\n       33170       0.00      0.00      0.00         1\\n       33175       0.00      0.00      0.00         1\\n       33230       0.00      0.00      0.00         1\\n       33250       0.00      0.00      0.00         1\\n       33260       0.00      0.00      0.00         1\\n       33265       0.00      0.00      0.00         1\\n       33270       0.00      0.00      0.00         1\\n       33295       0.00      0.00      0.00         1\\n       33300       0.00      0.00      0.00         3\\n       33315       0.00      0.00      0.00         2\\n       33320       0.00      0.00      0.00         1\\n       33340       0.00      0.00      0.00         1\\n       33380       0.00      0.00      0.00         1\\n       33390       0.00      0.00      0.00         1\\n       33420       0.00      0.00      0.00         1\\n       33425       0.00      0.00      0.00         1\\n       33430       0.00      0.00      0.00         1\\n       33450       0.00      0.00      0.00         2\\n       33480       0.00      0.00      0.00         1\\n       33495       0.00      0.00      0.00         1\\n       33500       0.00      0.00      0.00         1\\n       33515       0.00      0.00      0.00         1\\n       33525       0.00      0.00      0.00         1\\n       33570       0.00      0.00      0.00         0\\n       33590       0.00      0.00      0.00         1\\n       33595       0.00      0.00      0.00         1\\n       33600       0.00      0.00      0.00         2\\n       33610       0.00      0.00      0.00         2\\n       33630       0.00      0.00      0.00         1\\n       33635       0.00      0.00      0.00         1\\n       33670       0.00      0.00      0.00         2\\n       33690       0.00      0.00      0.00         1\\n       33695       0.00      0.00      0.00         2\\n       33700       0.00      0.00      0.00         1\\n       33735       0.00      0.00      0.00         1\\n       33760       0.00      0.00      0.00         1\\n       33770       0.00      0.00      0.00         1\\n       33790       0.00      0.00      0.00         2\\n       33795       0.00      0.00      0.00         2\\n       33800       0.00      0.00      0.00         1\\n       33840       0.00      0.00      0.00         2\\n       33855       0.00      0.00      0.00         2\\n       33865       0.00      0.00      0.00         1\\n       33890       0.00      0.00      0.00         1\\n       33895       0.00      0.00      0.00         1\\n       33915       0.00      0.00      0.00         1\\n       33925       0.00      0.00      0.00         1\\n       33930       0.00      0.00      0.00         1\\n       33945       0.00      0.00      0.00         1\\n       33950       0.00      0.00      0.00         1\\n       33975       0.00      0.00      0.00         1\\n       33980       0.00      0.00      0.00         1\\n       33985       0.00      0.00      0.00         1\\n       33990       0.00      0.00      0.00         1\\n       33995       0.00      0.00      0.00         2\\n       34000       0.00      0.00      0.00         1\\n       34015       0.00      0.00      0.00         1\\n       34020       0.00      0.00      0.00         1\\n       34030       0.00      0.00      0.00         1\\n       34050       0.00      0.00      0.00         2\\n       34070       0.00      0.00      0.00         1\\n       34075       0.00      0.00      0.00         1\\n       34090       0.00      0.00      0.00         1\\n       34120       0.00      0.00      0.00         1\\n       34140       0.00      0.00      0.00         1\\n       34150       0.00      0.00      0.00         1\\n       34160       0.00      0.00      0.00         1\\n       34175       0.00      0.00      0.00         2\\n       34180       0.00      0.00      0.00         1\\n       34195       0.00      0.00      0.00         1\\n       34200       0.00      0.00      0.00         1\\n       34220       0.00      0.00      0.00         1\\n       34225       0.00      0.00      0.00         1\\n       34250       0.00      0.00      0.00         3\\n       34290       0.00      0.00      0.00         1\\n       34295       0.00      0.00      0.00         2\\n       34325       0.00      0.00      0.00         1\\n       34330       0.00      0.00      0.00         1\\n       34340       0.00      0.00      0.00         2\\n       34350       0.00      0.00      0.00         1\\n       34360       0.00      0.00      0.00         1\\n       34365       0.00      0.00      0.00         1\\n       34380       0.00      0.00      0.00         1\\n       34450       0.00      0.00      0.00         4\\n       34465       0.00      0.00      0.00         1\\n       34470       0.00      0.00      0.00         1\\n       34475       0.00      0.00      0.00         1\\n       34485       0.00      0.00      0.00         1\\n       34495       0.00      0.00      0.00         1\\n       34500       0.00      0.00      0.00         2\\n       34525       0.00      0.00      0.00         1\\n       34580       0.00      0.00      0.00         1\\n       34600       0.00      0.00      0.00         2\\n       34640       0.00      0.00      0.00         2\\n       34655       0.00      0.00      0.00         1\\n       34670       0.00      0.00      0.00         1\\n       34675       0.00      0.00      0.00         1\\n       34680       0.00      0.00      0.00         1\\n       34700       0.00      0.00      0.00         1\\n       34705       0.00      0.00      0.00         1\\n       34710       0.00      0.00      0.00         1\\n       34725       0.00      0.00      0.00         1\\n       34735       0.00      0.00      0.00         1\\n       34750       0.00      0.00      0.00         2\\n       34760       0.00      0.00      0.00         1\\n       34770       0.00      0.00      0.00         1\\n       34790       0.00      0.00      0.00         1\\n       34794       0.00      0.00      0.00         1\\n       34800       0.00      0.00      0.00         2\\n       34815       0.00      0.00      0.00         1\\n       34830       0.00      0.00      0.00         4\\n       34840       0.00      0.00      0.00         1\\n       34870       0.00      0.00      0.00         0\\n       34890       0.00      0.00      0.00         1\\n       34895       0.00      0.00      0.00         1\\n       34900       0.00      0.00      0.00         1\\n       34950       0.00      0.00      0.00         1\\n       34995       0.00      0.00      0.00         1\\n       35000       0.00      0.00      0.00         1\\n       35020       0.00      0.00      0.00         1\\n       35030       0.00      0.00      0.00         1\\n       35035       0.00      0.00      0.00         1\\n       35040       0.00      0.00      0.00         1\\n       35080       0.00      0.00      0.00         2\\n       35085       0.00      0.00      0.00         2\\n       35090       0.00      0.00      0.00         1\\n       35095       0.00      0.00      0.00         1\\n       35105       0.00      0.00      0.00         1\\n       35120       0.00      0.00      0.00         1\\n       35140       0.00      0.00      0.00         1\\n       35150       0.00      0.00      0.00         1\\n       35160       0.00      0.00      0.00         1\\n       35200       0.00      0.00      0.00         2\\n       35210       0.00      0.00      0.00         1\\n       35245       0.00      0.00      0.00         0\\n       35250       0.00      0.00      0.00         1\\n       35315       0.00      0.00      0.00         1\\n       35330       0.00      0.00      0.00         1\\n       35345       0.00      0.00      0.00         1\\n       35370       0.00      0.00      0.00         1\\n       35375       0.00      0.00      0.00         1\\n       35390       0.00      0.00      0.00         1\\n       35400       0.00      0.00      0.00         1\\n       35410       0.00      0.00      0.00         1\\n       35440       0.00      0.00      0.00         1\\n       35445       0.00      0.00      0.00         1\\n       35450       0.00      0.00      0.00         1\\n       35500       0.00      0.00      0.00         2\\n       35520       0.00      0.00      0.00         1\\n       35530       0.00      0.00      0.00         1\\n       35550       0.00      0.00      0.00         2\\n       35555       0.00      0.00      0.00         1\\n       35565       0.00      0.00      0.00         1\\n       35595       0.00      0.00      0.00         2\\n       35600       0.00      0.00      0.00         1\\n       35610       0.00      0.00      0.00         1\\n       35650       0.00      0.00      0.00         2\\n       35660       0.00      0.00      0.00         1\\n       35680       0.00      0.00      0.00         1\\n       35695       0.00      0.00      0.00         1\\n       35705       0.00      0.00      0.00         1\\n       35725       0.00      0.00      0.00         2\\n       35740       0.00      0.00      0.00         1\\n       35755       0.00      0.00      0.00         1\\n       35770       0.00      0.00      0.00         1\\n       35775       0.00      0.00      0.00         1\\n       35810       0.00      0.00      0.00         1\\n       35850       0.00      0.00      0.00         1\\n       35855       0.00      0.00      0.00         1\\n       35860       0.00      0.00      0.00         1\\n       35870       0.00      0.00      0.00         3\\n       35895       0.00      0.00      0.00         1\\n       35900       0.00      0.00      0.00         3\\n       35905       0.00      0.00      0.00         1\\n       35930       0.00      0.00      0.00         1\\n       35950       0.00      0.00      0.00         2\\n       35955       0.00      0.00      0.00         1\\n       35960       0.00      0.00      0.00         1\\n       35970       0.00      0.00      0.00         1\\n       35975       0.00      0.00      0.00         1\\n       35990       0.00      0.00      0.00         1\\n       35995       0.00      0.00      0.00         2\\n       36000       0.00      0.00      0.00         1\\n       36015       0.00      0.00      0.00         1\\n       36020       0.00      0.00      0.00         1\\n       36025       0.00      0.00      0.00         1\\n       36030       0.00      0.00      0.00         1\\n       36050       0.00      0.00      0.00         3\\n       36060       0.00      0.00      0.00         1\\n       36065       0.00      0.00      0.00         2\\n       36090       0.00      0.00      0.00         1\\n       36095       0.00      0.00      0.00         1\\n       36100       0.00      0.00      0.00         2\\n       36140       0.00      0.00      0.00         1\\n       36145       0.00      0.00      0.00         1\\n       36150       0.00      0.00      0.00         2\\n       36159       0.00      0.00      0.00         1\\n       36170       0.00      0.00      0.00         1\\n       36195       0.00      0.00      0.00         1\\n       36200       0.00      0.00      0.00         1\\n       36220       0.00      0.00      0.00         1\\n       36250       0.00      0.00      0.00         1\\n       36300       0.00      0.00      0.00         3\\n       36310       0.00      0.00      0.00         2\\n       36330       0.00      0.00      0.00         1\\n       36350       0.00      0.00      0.00         1\\n       36355       0.00      0.00      0.00         2\\n       36365       0.00      0.00      0.00         1\\n       36400       0.00      0.00      0.00         1\\n       36450       0.00      0.00      0.00         1\\n       36480       0.00      0.00      0.00         1\\n       36495       0.00      0.00      0.00         1\\n       36515       0.00      0.00      0.00         1\\n       36525       0.00      0.00      0.00         1\\n       36540       0.00      0.00      0.00         1\\n       36545       0.00      0.00      0.00         1\\n       36565       0.00      0.00      0.00         1\\n       36595       0.00      0.00      0.00         1\\n       36600       0.00      0.00      0.00         5\\n       36620       0.00      0.00      0.00         1\\n       36625       0.00      0.00      0.00         3\\n       36635       0.00      0.00      0.00         1\\n       36680       0.00      0.00      0.00         1\\n       36690       0.00      0.00      0.00         1\\n       36700       0.00      0.00      0.00         4\\n       36740       0.00      0.00      0.00         1\\n       36755       0.00      0.00      0.00         1\\n       36795       0.00      0.00      0.00         1\\n       36800       0.00      0.00      0.00         2\\n       36815       0.00      0.00      0.00         1\\n       36850       0.00      0.00      0.00         1\\n       36870       0.00      0.00      0.00         1\\n       36880       0.00      0.00      0.00         1\\n       36900       0.00      0.00      0.00         2\\n       36940       0.00      0.00      0.00         1\\n       36950       0.00      0.00      0.00         1\\n       36970       0.00      0.00      0.00         1\\n       36975       0.00      0.00      0.00         2\\n       36990       0.00      0.00      0.00         2\\n       37000       0.00      0.00      0.00         1\\n       37020       0.00      0.00      0.00         2\\n       37030       0.00      0.00      0.00         1\\n       37055       0.00      0.00      0.00         2\\n       37065       0.00      0.00      0.00         1\\n       37070       0.00      0.00      0.00         4\\n       37080       0.00      0.00      0.00         2\\n       37090       0.00      0.00      0.00         1\\n       37100       0.00      0.00      0.00         1\\n       37115       0.00      0.00      0.00         0\\n       37120       0.00      0.00      0.00         1\\n       37130       0.00      0.00      0.00         1\\n       37150       0.00      0.00      0.00         1\\n       37170       0.00      0.00      0.00         1\\n       37200       0.00      0.00      0.00         3\\n       37240       0.00      0.00      0.00         1\\n       37250       0.00      0.00      0.00         1\\n       37295       0.00      0.00      0.00         2\\n       37320       0.00      0.00      0.00         1\\n       37345       0.00      0.00      0.00         2\\n       37370       0.00      0.00      0.00         1\\n       37380       0.00      0.00      0.00         1\\n       37405       0.00      0.00      0.00         1\\n       37420       0.00      0.00      0.00         1\\n       37425       0.00      0.00      0.00         2\\n       37500       0.00      0.00      0.00         3\\n       37505       0.00      0.00      0.00         1\\n       37530       0.00      0.00      0.00         1\\n       37550       0.00      0.00      0.00         1\\n       37580       0.00      0.00      0.00         2\\n       37590       0.00      0.00      0.00         1\\n       37605       0.00      0.00      0.00         1\\n       37645       0.00      0.00      0.00         1\\n       37650       0.00      0.00      0.00         3\\n       37665       0.00      0.00      0.00         1\\n       37670       0.00      0.00      0.00         1\\n       37680       0.00      0.00      0.00         1\\n       37700       0.00      0.00      0.00         1\\n       37720       0.00      0.00      0.00         1\\n       37730       0.00      0.00      0.00         1\\n       37770       0.00      0.00      0.00         1\\n       37775       0.00      0.00      0.00         1\\n       37820       0.00      0.00      0.00         5\\n       37825       0.00      0.00      0.00         2\\n       37835       0.00      0.00      0.00         1\\n       37845       0.00      0.00      0.00         1\\n       37850       0.00      0.00      0.00         1\\n       37855       0.00      0.00      0.00         1\\n       37870       0.00      0.00      0.00         1\\n       37895       0.00      0.00      0.00         1\\n       37900       0.00      0.00      0.00         1\\n       37970       0.00      0.00      0.00         1\\n       37995       0.01      0.33      0.02         3\\n       38000       0.00      0.00      0.00         2\\n       38015       0.00      0.00      0.00         1\\n       38050       0.00      0.00      0.00         1\\n       38055       0.00      0.00      0.00         1\\n       38085       0.00      0.00      0.00         1\\n       38100       0.00      0.00      0.00         2\\n       38150       0.00      0.00      0.00         1\\n       38165       0.00      0.00      0.00         1\\n       38170       0.00      0.00      0.00         1\\n       38180       0.00      0.00      0.00         1\\n       38185       0.00      0.00      0.00         1\\n       38200       0.00      0.00      0.00         1\\n       38255       0.00      0.00      0.00         1\\n       38285       0.00      0.00      0.00         1\\n       38295       0.00      0.00      0.00         1\\n       38325       0.00      0.00      0.00         1\\n       38335       0.00      0.00      0.00         1\\n       38350       0.00      0.00      0.00         3\\n       38355       0.00      0.00      0.00         1\\n       38365       0.00      0.00      0.00         1\\n       38370       0.00      0.00      0.00         2\\n       38380       0.00      0.00      0.00         1\\n       38400       0.00      0.00      0.00         1\\n       38500       0.00      0.00      0.00         1\\n       38510       0.00      0.00      0.00         1\\n       38525       0.00      0.00      0.00         1\\n       38550       0.00      0.00      0.00         1\\n       38585       0.00      0.00      0.00         1\\n       38590       0.00      0.00      0.00         1\\n       38600       0.00      0.00      0.00         2\\n       38615       0.00      0.00      0.00         1\\n       38620       0.00      0.00      0.00         1\\n       38625       0.00      0.00      0.00         1\\n       38645       0.00      0.00      0.00         1\\n       38650       0.00      0.00      0.00         2\\n       38665       0.00      0.00      0.00         1\\n       38670       0.00      0.00      0.00         1\\n       38685       0.00      0.00      0.00         1\\n       38700       0.00      0.00      0.00         1\\n       38725       0.00      0.00      0.00         1\\n       38730       0.00      0.00      0.00         2\\n       38750       0.00      0.00      0.00         1\\n       38790       0.00      0.00      0.00         1\\n       38795       0.00      0.00      0.00         2\\n       38800       0.00      0.00      0.00         1\\n       38850       0.00      0.00      0.00         2\\n       38855       0.00      0.00      0.00         2\\n       38890       0.00      0.00      0.00         1\\n       38900       0.00      0.00      0.00         2\\n       38905       0.00      0.00      0.00         1\\n       38950       0.00      0.00      0.00         3\\n       38980       0.00      0.00      0.00         1\\n       38995       0.00      0.00      0.00         1\\n       39000       0.00      0.00      0.00         1\\n       39020       0.00      0.00      0.00         1\\n       39030       0.00      0.00      0.00         1\\n       39050       0.00      0.00      0.00         1\\n       39070       0.00      0.00      0.00         1\\n       39090       0.00      0.00      0.00         1\\n       39095       0.00      0.00      0.00         1\\n       39100       0.00      0.00      0.00         3\\n       39130       0.00      0.00      0.00         1\\n       39150       0.00      0.00      0.00         1\\n       39160       0.00      0.00      0.00         1\\n       39180       0.00      0.00      0.00         1\\n       39185       0.00      0.00      0.00         1\\n       39205       0.00      0.00      0.00         1\\n       39220       0.00      0.00      0.00         1\\n       39240       0.00      0.00      0.00         1\\n       39250       0.00      0.00      0.00         2\\n       39255       0.00      0.00      0.00         2\\n       39280       0.00      0.00      0.00         2\\n       39290       0.00      0.00      0.00         1\\n       39300       0.00      0.00      0.00         2\\n       39330       0.00      0.00      0.00         1\\n       39350       0.00      0.00      0.00         1\\n       39380       0.00      0.00      0.00         1\\n       39400       0.00      0.00      0.00         2\\n       39495       0.00      0.00      0.00         1\\n       39505       0.00      0.00      0.00         1\\n       39510       0.00      0.00      0.00         2\\n       39540       0.00      0.00      0.00         1\\n       39545       0.00      0.00      0.00         1\\n       39580       0.00      0.00      0.00         1\\n       39585       0.00      0.00      0.00         1\\n       39600       0.00      0.00      0.00         1\\n       39610       0.00      0.00      0.00         1\\n       39635       0.00      0.00      0.00         1\\n       39640       0.00      0.00      0.00         1\\n       39720       0.00      0.00      0.00         1\\n       39760       0.00      0.00      0.00         1\\n       39775       0.00      0.00      0.00         1\\n       39780       0.00      0.00      0.00         2\\n       39870       0.00      0.00      0.00         1\\n       39890       0.00      0.00      0.00         3\\n       39950       0.00      0.00      0.00         2\\n       39965       0.00      0.00      0.00         1\\n       39970       0.00      0.00      0.00         1\\n       39980       0.00      0.00      0.00         1\\n       39990       0.00      0.00      0.00         1\\n       39995       0.00      0.00      0.00         2\\n       40000       0.00      0.00      0.00         1\\n       40025       0.00      0.00      0.00         1\\n       40050       0.00      0.00      0.00         1\\n       40065       0.00      0.00      0.00         1\\n       40100       0.00      0.00      0.00         2\\n       40140       0.00      0.00      0.00         1\\n       40180       0.00      0.00      0.00         1\\n       40190       0.00      0.00      0.00         1\\n       40195       0.00      0.00      0.00         1\\n       40200       0.00      0.00      0.00         2\\n       40205       0.00      0.00      0.00         1\\n       40220       0.00      0.00      0.00         1\\n       40235       0.00      0.00      0.00         1\\n       40250       0.00      0.00      0.00         2\\n       40270       0.00      0.00      0.00         1\\n       40365       0.00      0.00      0.00         1\\n       40375       0.00      0.00      0.00         1\\n       40400       0.00      0.00      0.00         2\\n       40425       0.00      0.00      0.00         1\\n       40436       0.00      0.00      0.00         1\\n       40440       0.00      0.00      0.00         1\\n       40445       0.00      0.00      0.00         2\\n       40450       0.00      0.00      0.00         2\\n       40495       0.00      0.00      0.00         1\\n       40570       0.00      0.00      0.00         2\\n       40615       0.00      0.00      0.00         1\\n       40620       0.00      0.00      0.00         1\\n       40635       0.00      0.00      0.00         1\\n       40650       0.00      0.00      0.00         2\\n       40660       0.00      0.00      0.00         1\\n       40750       0.00      0.00      0.00         0\\n       40755       0.00      0.00      0.00         1\\n       40770       0.00      0.00      0.00         2\\n       40775       0.00      0.00      0.00         1\\n       40815       0.00      0.00      0.00         1\\n       40830       0.00      0.00      0.00         1\\n       40840       0.00      0.00      0.00         1\\n       40850       0.00      0.00      0.00         1\\n       40900       0.00      0.00      0.00         1\\n       40905       0.00      0.00      0.00         1\\n       40950       0.00      0.00      0.00         5\\n       40970       0.00      0.00      0.00         1\\n       40995       0.00      0.00      0.00         1\\n       41020       0.00      0.00      0.00         1\\n       41030       0.00      0.00      0.00         1\\n       41050       0.00      0.00      0.00         1\\n       41055       0.00      0.00      0.00         1\\n       41065       0.00      0.00      0.00         1\\n       41100       0.00      0.00      0.00         2\\n       41105       0.00      0.00      0.00         1\\n       41150       0.00      0.00      0.00         2\\n       41160       0.00      0.00      0.00         1\\n       41190       0.00      0.00      0.00         1\\n       41250       0.00      0.00      0.00         2\\n       41300       0.00      0.00      0.00         1\\n       41310       0.00      0.00      0.00         2\\n       41340       0.00      0.00      0.00         1\\n       41350       0.00      0.00      0.00         1\\n       41385       0.00      0.00      0.00         1\\n       41400       0.00      0.00      0.00         2\\n       41420       0.00      0.00      0.00         1\\n       41450       0.00      0.00      0.00         1\\n       41495       0.00      0.00      0.00         1\\n       41500       0.00      0.00      0.00         2\\n       41525       0.00      0.00      0.00         1\\n       41550       0.00      0.00      0.00         4\\n       41560       0.00      0.00      0.00         1\\n       41570       0.00      0.00      0.00         1\\n       41575       0.00      0.00      0.00         1\\n       41600       0.00      0.00      0.00         1\\n       41650       0.00      0.00      0.00         1\\n       41670       0.00      0.00      0.00         2\\n       41675       0.00      0.00      0.00         2\\n       41700       0.00      0.00      0.00         2\\n       41715       0.00      0.00      0.00         1\\n       41750       0.00      0.00      0.00         3\\n       41800       0.00      0.00      0.00         2\\n       41850       0.00      0.00      0.00         5\\n       41870       0.00      0.00      0.00         1\\n       41890       0.00      0.00      0.00         1\\n       41895       0.00      0.00      0.00         1\\n       41900       0.00      0.00      0.00         1\\n       41950       0.00      0.00      0.00         2\\n       41990       0.00      0.00      0.00         2\\n       42015       0.00      0.00      0.00         1\\n       42050       0.00      0.00      0.00         2\\n       42070       0.00      0.00      0.00         1\\n       42075       0.00      0.00      0.00         1\\n       42080       0.00      0.00      0.00         2\\n       42095       0.00      0.00      0.00         1\\n       42130       0.00      0.00      0.00         1\\n       42145       0.00      0.00      0.00         1\\n       42150       0.00      0.00      0.00         2\\n       42200       0.00      0.00      0.00         2\\n       42295       0.00      0.00      0.00         1\\n       42300       0.00      0.00      0.00         2\\n       42325       0.00      0.00      0.00         1\\n       42370       0.00      0.00      0.00         1\\n       42375       0.00      0.00      0.00         1\\n       42380       0.00      0.00      0.00         1\\n       42400       0.20      0.50      0.29         2\\n       42425       0.00      0.00      0.00         0\\n       42455       0.00      0.00      0.00         1\\n       42550       0.00      0.00      0.00         1\\n       42570       0.00      0.00      0.00         1\\n       42595       0.00      0.00      0.00         1\\n       42600       0.00      0.00      0.00         3\\n       42610       0.00      0.00      0.00         1\\n       42635       0.00      0.00      0.00         1\\n       42650       0.00      0.00      0.00         3\\n       42680       0.00      0.00      0.00         1\\n       42690       0.00      0.00      0.00         1\\n       42700       0.00      0.00      0.00         0\\n       42745       0.00      0.00      0.00         1\\n       42750       0.00      0.00      0.00         2\\n       42755       0.00      0.00      0.00         1\\n       42770       0.00      0.00      0.00         1\\n       42790       0.00      0.00      0.00         1\\n       42795       0.00      0.00      0.00         2\\n       42800       0.00      0.00      0.00         2\\n       42860       0.00      0.00      0.00         1\\n       42870       0.00      0.00      0.00         1\\n       42880       0.00      0.00      0.00         1\\n       42900       0.00      0.00      0.00         2\\n       42905       0.00      0.00      0.00         1\\n       42935       0.00      0.00      0.00         1\\n       42945       0.00      0.00      0.00         1\\n       43000       0.00      0.00      0.00         1\\n       43010       0.00      0.00      0.00         1\\n       43040       0.00      0.00      0.00         1\\n       43100       0.00      0.00      0.00         1\\n       43185       0.00      0.00      0.00         1\\n       43200       0.00      0.00      0.00         1\\n       43230       0.00      0.00      0.00         1\\n       43260       0.00      0.00      0.00         1\\n       43290       0.00      0.00      0.00         2\\n       43300       0.00      0.00      0.00         4\\n       43360       0.00      0.00      0.00         1\\n       43395       0.00      0.00      0.00         2\\n       43435       0.00      0.00      0.00         1\\n       43450       0.00      0.00      0.00         2\\n       43470       0.00      0.00      0.00         1\\n       43480       0.00      0.00      0.00         1\\n       43490       0.00      0.00      0.00         1\\n       43500       0.00      0.00      0.00         1\\n       43520       0.00      0.00      0.00         2\\n       43525       0.00      0.00      0.00         1\\n       43530       0.00      0.00      0.00         2\\n       43550       0.00      0.00      0.00         2\\n       43585       0.00      0.00      0.00         1\\n       43595       0.00      0.00      0.00         1\\n       43640       0.00      0.00      0.00         1\\n       43650       0.00      0.00      0.00         1\\n       43675       0.00      0.00      0.00         1\\n       43700       0.00      0.00      0.00         1\\n       43785       0.00      0.00      0.00         1\\n       43895       0.00      0.00      0.00         1\\n       43900       0.00      0.00      0.00         2\\n       43950       0.00      0.00      0.00         2\\n       43995       0.00      0.00      0.00         2\\n       44045       0.00      0.00      0.00         2\\n       44050       0.00      0.00      0.00         1\\n       44055       0.00      0.00      0.00         1\\n       44090       0.00      0.00      0.00         1\\n       44095       0.00      0.00      0.00         1\\n       44100       0.00      0.00      0.00         1\\n       44150       0.00      0.00      0.00         2\\n       44190       0.00      0.00      0.00         1\\n       44195       0.00      0.00      0.00         2\\n       44350       0.00      0.00      0.00         1\\n       44400       0.00      0.00      0.00         1\\n       44410       0.00      0.00      0.00         1\\n       44520       0.00      0.00      0.00         1\\n       44540       0.00      0.00      0.00         1\\n       44580       0.00      0.00      0.00         1\\n       44650       0.00      0.00      0.00         1\\n       44660       0.00      0.00      0.00         2\\n       44710       0.00      0.00      0.00         1\\n       44800       0.00      0.00      0.00         1\\n       44850       0.00      0.00      0.00         1\\n       44895       0.00      0.00      0.00         1\\n       44910       0.00      0.00      0.00         1\\n       44925       0.00      0.00      0.00         1\\n       44950       0.00      0.00      0.00         1\\n       44990       0.00      0.00      0.00         1\\n       45120       0.00      0.00      0.00         2\\n       45125       0.00      0.00      0.00         1\\n       45150       0.00      0.00      0.00         2\\n       45155       0.00      0.00      0.00         1\\n       45170       0.00      0.00      0.00         1\\n       45255       0.00      0.00      0.00         1\\n       45270       0.00      0.00      0.00         3\\n       45315       0.00      0.00      0.00         1\\n       45325       0.00      0.00      0.00         1\\n       45365       0.00      0.00      0.00         1\\n       45375       0.00      0.00      0.00         1\\n       45390       0.00      0.00      0.00         1\\n       45445       0.00      0.00      0.00         1\\n       45475       0.00      0.00      0.00         1\\n       45490       0.00      0.00      0.00         0\\n       45550       0.00      0.00      0.00         1\\n       45555       0.00      0.00      0.00         1\\n       45560       0.00      0.00      0.00         1\\n       45570       0.00      0.00      0.00         1\\n       45605       0.00      0.00      0.00         1\\n       45615       0.00      0.00      0.00         1\\n       45675       0.00      0.00      0.00         2\\n       45695       0.00      0.00      0.00         1\\n       45745       0.00      0.00      0.00         1\\n       45750       0.00      0.00      0.00         1\\n       45800       0.00      0.00      0.00         3\\n       45810       0.00      0.00      0.00         1\\n       45850       0.00      0.00      0.00         1\\n       45900       0.00      0.00      0.00         1\\n       45950       0.00      0.00      0.00         1\\n       45955       0.00      0.00      0.00         1\\n       45990       0.00      0.00      0.00         1\\n       45995       0.00      0.00      0.00         2\\n       46000       0.00      0.00      0.00         1\\n       46020       0.00      0.00      0.00         1\\n       46030       0.00      0.00      0.00         2\\n       46050       0.00      0.00      0.00         0\\n       46060       0.00      0.00      0.00         1\\n       46090       0.00      0.00      0.00         1\\n       46135       0.00      0.00      0.00         1\\n       46170       0.00      0.00      0.00         1\\n       46195       0.00      0.00      0.00         1\\n       46200       0.00      0.00      0.00         1\\n       46250       0.00      0.00      0.00         1\\n       46280       0.00      0.00      0.00         1\\n       46350       0.00      0.00      0.00         1\\n       46380       0.00      0.00      0.00         1\\n       46430       0.00      0.00      0.00         1\\n       46450       0.00      0.00      0.00         1\\n       46500       0.00      0.00      0.00         1\\n       46530       0.00      0.00      0.00         1\\n       46560       0.00      0.00      0.00         1\\n       46570       0.00      0.00      0.00         1\\n       46575       0.00      0.00      0.00         1\\n       46660       0.00      0.00      0.00         1\\n       46675       0.00      0.00      0.00         2\\n       46715       0.00      0.00      0.00         1\\n       46750       0.00      0.00      0.00         1\\n       46790       0.00      0.00      0.00         2\\n       46845       0.00      0.00      0.00         1\\n       46895       0.00      0.00      0.00         1\\n       46950       0.00      0.00      0.00         3\\n       46980       0.00      0.00      0.00         2\\n       47000       0.00      0.00      0.00         1\\n       47050       0.00      0.00      0.00         1\\n       47070       0.00      0.00      0.00         1\\n       47140       0.00      0.00      0.00         1\\n       47175       0.00      0.00      0.00         1\\n       47200       0.00      0.00      0.00         1\\n       47250       0.00      0.00      0.00         1\\n       47280       0.00      0.00      0.00         1\\n       47300       0.00      0.00      0.00         1\\n       47475       0.00      0.00      0.00         1\\n       47515       0.00      0.00      0.00         2\\n       47560       0.00      0.00      0.00         1\\n       47620       0.00      0.00      0.00         2\\n       47625       0.00      0.00      0.00         1\\n       47660       0.00      0.00      0.00         1\\n       47690       0.00      0.00      0.00         1\\n       47700       0.00      0.00      0.00         2\\n       47740       0.00      0.00      0.00         1\\n       47750       0.00      0.00      0.00         2\\n       47800       0.00      0.00      0.00         1\\n       47870       0.00      0.00      0.00         1\\n       47880       0.00      0.00      0.00         1\\n       47890       0.00      0.00      0.00         1\\n       47900       0.00      0.00      0.00         1\\n       47915       0.00      0.00      0.00         1\\n       47950       0.00      0.00      0.00         2\\n       47975       0.00      0.00      0.00         1\\n       47995       0.00      0.00      0.00         1\\n       48055       0.00      0.00      0.00         1\\n       48065       0.00      0.00      0.00         1\\n       48100       0.00      0.00      0.00         1\\n       48145       0.00      0.00      0.00         1\\n       48150       0.00      0.00      0.00         0\\n       48165       0.00      0.00      0.00         1\\n       48175       0.00      0.00      0.00         1\\n       48205       0.00      0.00      0.00         2\\n       48300       0.00      0.00      0.00         3\\n       48315       0.00      0.00      0.00         1\\n       48335       0.00      0.00      0.00         1\\n       48360       0.00      0.00      0.00         1\\n       48400       0.00      0.00      0.00         1\\n       48575       0.00      0.00      0.00         1\\n       48640       0.00      0.00      0.00         1\\n       48650       0.00      0.00      0.00         1\\n       48685       0.00      0.00      0.00         1\\n       48700       0.00      0.00      0.00         1\\n       48710       0.00      0.00      0.00         1\\n       48750       0.00      0.00      0.00         1\\n       48840       0.00      0.00      0.00         4\\n       48900       0.00      0.00      0.00         1\\n       48920       0.00      0.00      0.00         1\\n       48950       0.00      0.00      0.00         2\\n       49020       0.00      0.00      0.00         1\\n       49125       0.00      0.00      0.00         1\\n       49195       0.00      0.00      0.00         1\\n       49200       0.00      0.00      0.00         3\\n       49210       0.00      0.00      0.00         1\\n       49295       0.00      0.00      0.00         1\\n       49300       0.00      0.00      0.00         2\\n       49350       0.00      0.00      0.00         1\\n       49400       0.00      0.00      0.00         0\\n       49460       0.00      0.00      0.00         1\\n       49500       0.00      0.00      0.00         1\\n       49580       0.00      0.00      0.00         0\\n       49650       0.00      0.00      0.00         2\\n       49665       0.00      0.00      0.00         1\\n       49690       0.00      0.00      0.00         1\\n       49700       0.00      0.00      0.00         1\\n       49705       0.00      0.00      0.00         1\\n       49740       0.00      0.00      0.00         1\\n       49750       0.00      0.00      0.00         1\\n       49770       0.00      0.00      0.00         1\\n       49800       0.00      0.00      0.00         5\\n       49900       0.00      0.00      0.00         3\\n       49960       0.00      0.00      0.00         1\\n       49995       0.00      0.00      0.00         1\\n       50000       0.00      0.00      0.00         1\\n       50030       0.00      0.00      0.00         1\\n       50050       0.00      0.00      0.00         1\\n       50150       0.00      0.00      0.00         1\\n       50165       0.00      0.00      0.00         1\\n       50200       0.00      0.00      0.00         1\\n       50215       0.00      0.00      0.00         1\\n       50220       0.00      0.00      0.00         1\\n       50240       0.00      0.00      0.00         1\\n       50245       0.00      0.00      0.00         1\\n       50320       0.00      0.00      0.00         1\\n       50325       0.00      0.00      0.00         1\\n       50350       0.00      0.00      0.00         1\\n       50360       0.00      0.00      0.00         1\\n       50400       0.00      0.00      0.00         1\\n       50450       0.00      0.00      0.00         1\\n       50470       0.00      0.00      0.00         1\\n       50475       0.00      0.00      0.00         1\\n       50485       0.00      0.00      0.00         1\\n       50580       0.00      0.00      0.00         1\\n       50675       0.00      0.00      0.00         1\\n       50695       0.00      0.00      0.00         1\\n       50750       0.00      0.00      0.00         1\\n       50840       0.00      0.00      0.00         1\\n       50850       0.00      0.00      0.00         1\\n       50900       0.00      0.00      0.00         1\\n       50920       0.00      0.00      0.00         1\\n       50995       0.00      0.00      0.00         1\\n       51000       0.00      0.00      0.00         2\\n       51090       0.00      0.00      0.00         1\\n       51100       0.00      0.00      0.00         1\\n       51145       0.00      0.00      0.00         1\\n       51200       0.00      0.00      0.00         1\\n       51270       0.00      0.00      0.00         1\\n       51280       0.00      0.00      0.00         1\\n       51285       0.00      0.00      0.00         1\\n       51300       0.00      0.00      0.00         0\\n       51310       0.00      0.00      0.00         1\\n       51350       0.00      0.00      0.00         1\\n       51400       0.00      0.00      0.00         1\\n       51450       0.00      0.00      0.00         1\\n       51730       0.00      0.00      0.00         1\\n       51861       0.00      0.00      0.00         1\\n       51895       0.00      0.00      0.00         1\\n       51945       0.00      0.00      0.00         1\\n       52000       0.00      0.00      0.00         2\\n       52055       0.00      0.00      0.00         1\\n       52250       0.00      0.00      0.00         1\\n       52300       0.00      0.00      0.00         2\\n       52350       0.00      0.00      0.00         1\\n       52360       0.00      0.00      0.00         1\\n       52500       0.00      0.00      0.00         1\\n       52600       0.00      0.00      0.00         2\\n       52650       0.00      0.00      0.00         2\\n       52670       0.00      0.00      0.00         1\\n       52700       0.00      0.00      0.00         1\\n       52795       0.00      0.00      0.00         1\\n       52815       0.00      0.00      0.00         1\\n       52860       0.00      0.00      0.00         1\\n       53015       0.00      0.00      0.00         1\\n       53035       0.00      0.00      0.00         1\\n       53100       0.00      0.00      0.00         1\\n       53170       0.00      0.00      0.00         1\\n       53200       0.00      0.00      0.00         1\\n       53285       0.00      0.00      0.00         1\\n       53350       0.00      0.00      0.00         1\\n       53400       0.00      0.00      0.00         1\\n       53495       0.00      0.00      0.00         1\\n       53500       0.00      0.00      0.00         1\\n       53695       0.00      0.00      0.00         1\\n       53700       0.00      0.00      0.00         1\\n       53704       0.00      0.00      0.00         1\\n       53800       0.00      0.00      0.00         1\\n       53900       0.00      0.00      0.00         2\\n       54000       0.00      0.00      0.00         1\\n       54100       0.00      0.00      0.00         1\\n       54200       0.00      0.00      0.00         0\\n       54205       0.00      0.00      0.00         1\\n       54230       0.00      0.00      0.00         2\\n       54295       0.00      0.00      0.00         1\\n       54300       0.00      0.00      0.00         1\\n       54390       0.00      0.00      0.00         1\\n       54400       0.00      0.00      0.00         1\\n       54450       0.00      0.00      0.00         1\\n       54625       0.00      0.00      0.00         1\\n       54650       0.00      0.00      0.00         1\\n       54670       0.00      0.00      0.00         1\\n       54750       0.00      0.00      0.00         1\\n       54800       0.00      0.00      0.00         2\\n       54825       0.00      0.00      0.00         1\\n       54900       0.00      0.00      0.00         1\\n       55000       0.00      0.00      0.00         1\\n       55045       0.00      0.00      0.00         1\\n       55100       0.00      0.00      0.00         1\\n       55110       0.00      0.00      0.00         1\\n       55150       0.00      0.00      0.00         2\\n       55280       0.00      0.00      0.00         1\\n       55305       0.00      0.00      0.00         1\\n       55400       0.00      0.00      0.00         3\\n       55600       0.00      0.00      0.00         2\\n       55605       0.00      0.00      0.00         1\\n       55650       0.00      0.00      0.00         1\\n       55705       0.00      0.00      0.00         1\\n       55900       0.00      0.00      0.00         1\\n       55970       0.00      0.00      0.00         1\\n       56100       0.00      0.00      0.00         1\\n       56285       0.00      0.00      0.00         1\\n       56300       0.00      0.00      0.00         1\\n       56380       0.00      0.00      0.00         1\\n       56400       0.00      0.00      0.00         1\\n       56495       0.00      0.00      0.00         1\\n       56525       0.00      0.00      0.00         1\\n       56580       0.00      0.00      0.00         2\\n       56700       0.00      0.00      0.00         1\\n       56955       0.00      0.00      0.00         1\\n       57000       0.00      0.00      0.00         1\\n       57050       0.00      0.00      0.00         1\\n       57205       0.00      0.00      0.00         1\\n       57330       0.00      0.00      0.00         1\\n       57340       0.00      0.00      0.00         2\\n       57400       0.00      0.00      0.00         1\\n       57500       0.00      0.00      0.00         1\\n       57670       0.00      0.00      0.00         1\\n       57700       0.00      0.00      0.00         1\\n       57795       0.00      0.00      0.00         1\\n       57935       0.00      0.00      0.00         1\\n       57950       0.00      0.00      0.00         1\\n       58000       0.00      0.00      0.00         1\\n       58100       0.00      0.00      0.00         1\\n       58295       0.00      0.00      0.00         1\\n       58400       0.00      0.00      0.00         1\\n       58410       0.00      0.00      0.00         1\\n       58800       0.00      0.00      0.00         2\\n       58925       0.00      0.00      0.00         1\\n       59000       0.00      0.00      0.00         1\\n       59200       0.00      0.00      0.00         0\\n       59225       0.00      0.00      0.00         1\\n       59370       0.00      0.00      0.00         1\\n       59375       0.00      0.00      0.00         1\\n       59400       0.00      0.00      0.00         1\\n       59600       0.00      0.00      0.00         2\\n       59650       0.00      0.00      0.00         1\\n       59855       0.00      0.00      0.00         1\\n       59900       0.00      0.00      0.00         1\\n       59940       0.00      0.00      0.00         1\\n       60000       0.00      0.00      0.00         2\\n       60110       0.00      0.00      0.00         1\\n       60285       0.00      0.00      0.00         1\\n       60315       0.00      0.00      0.00         1\\n       60350       0.00      0.00      0.00         1\\n       60400       0.00      0.00      0.00         1\\n       60430       0.00      0.00      0.00         1\\n       60450       0.00      0.00      0.00         1\\n       60600       0.00      0.00      0.00         1\\n       60775       0.00      0.00      0.00         1\\n       60800       0.00      0.00      0.00         1\\n       60900       0.00      0.00      0.00         1\\n       61061       0.00      0.00      0.00         1\\n       61100       0.00      0.00      0.00         1\\n       61115       0.00      0.00      0.00         1\\n       61195       0.00      0.00      0.00         1\\n       61295       0.00      0.00      0.00         1\\n       61300       0.00      0.00      0.00         1\\n       61350       0.00      0.00      0.00         1\\n       61480       0.00      0.00      0.00         1\\n       61500       0.00      0.00      0.00         2\\n       61600       0.00      0.00      0.00         1\\n       61700       0.00      0.00      0.00         1\\n       61960       0.00      0.00      0.00         1\\n       61990       0.00      0.00      0.00         1\\n       62200       0.00      0.00      0.00         1\\n       62295       0.00      0.00      0.00         0\\n       62600       0.00      0.00      0.00         2\\n       62665       0.00      0.00      0.00         1\\n       62735       0.00      0.00      0.00         1\\n       62850       0.00      0.00      0.00         1\\n       62860       0.00      0.00      0.00         1\\n       62915       0.00      0.00      0.00         1\\n       62980       0.00      0.00      0.00         1\\n       63100       0.00      0.00      0.00         1\\n       63200       0.00      0.00      0.00         2\\n       63215       0.00      0.00      0.00         0\\n       63250       0.00      0.00      0.00         1\\n       63300       0.00      0.00      0.00         1\\n       63307       0.00      0.00      0.00         1\\n       63600       0.00      0.00      0.00         3\\n       63645       0.00      0.00      0.00         1\\n       63700       0.00      0.00      0.00         1\\n       63770       0.00      0.00      0.00         2\\n       63785       0.00      0.00      0.00         1\\n       63800       0.00      0.00      0.00         1\\n       63855       0.00      0.00      0.00         1\\n       63900       0.00      0.00      0.00         3\\n       63905       0.00      0.00      0.00         1\\n       64000       0.00      0.00      0.00         0\\n       64085       0.00      0.00      0.00         1\\n       64100       0.00      0.00      0.00         1\\n       64165       0.00      0.00      0.00         1\\n       64245       0.00      0.00      0.00         1\\n       64300       0.00      0.00      0.00         1\\n       64320       0.00      0.00      0.00         1\\n       64395       0.00      0.00      0.00         1\\n       64450       0.00      0.00      0.00         2\\n       64520       0.00      0.00      0.00         1\\n       64550       0.00      0.00      0.00         2\\n       64600       0.00      0.00      0.00         1\\n       64850       0.00      0.00      0.00         1\\n       64905       0.00      0.00      0.00         1\\n       64945       0.00      0.00      0.00         1\\n       65200       0.00      0.00      0.00         1\\n       65215       0.00      0.00      0.00         1\\n       65450       0.00      0.00      0.00         1\\n       65560       0.00      0.00      0.00         1\\n       65600       0.00      0.00      0.00         1\\n       65650       0.00      0.00      0.00         1\\n       65690       0.00      0.00      0.00         1\\n       65700       0.00      0.00      0.00         1\\n       65800       0.00      0.00      0.00         1\\n       65900       0.00      0.00      0.00         1\\n       65945       0.00      0.00      0.00         0\\n       65965       0.00      0.00      0.00         1\\n       66000       0.00      0.00      0.00         1\\n       66347       0.00      0.00      0.00         1\\n       66350       0.00      0.00      0.00         3\\n       66785       0.00      0.00      0.00         1\\n       66795       0.00      0.00      0.00         1\\n       66900       0.00      0.00      0.00         1\\n       66995       0.00      0.00      0.00         1\\n       67350       0.00      0.00      0.00         1\\n       67395       0.00      0.00      0.00         2\\n       67440       0.00      0.00      0.00         1\\n       67520       0.00      0.00      0.00         1\\n       68295       0.00      0.00      0.00         1\\n       68300       0.00      0.00      0.00         2\\n       68325       0.00      0.00      0.00         1\\n       68340       0.00      0.00      0.00         1\\n       68450       0.00      0.00      0.00         1\\n       68665       0.00      0.00      0.00         1\\n       68700       0.00      0.00      0.00         2\\n       68750       0.00      0.00      0.00         1\\n       68855       0.00      0.00      0.00         1\\n       68996       0.00      0.00      0.00         1\\n       69135       0.00      0.00      0.00         1\\n       69145       0.00      0.00      0.00         1\\n       69195       0.00      0.00      0.00         1\\n       69640       0.00      0.00      0.00         1\\n       69650       0.00      0.00      0.00         1\\n       69785       0.00      0.00      0.00         1\\n       69800       0.00      0.00      0.00         1\\n       69955       0.00      0.00      0.00         1\\n       70195       0.00      0.00      0.00         1\\n       70600       0.00      0.00      0.00         1\\n       71025       0.00      0.00      0.00         1\\n       71450       0.00      0.00      0.00         1\\n       71900       0.00      0.00      0.00         1\\n       72000       0.00      0.00      0.00         1\\n       72500       0.00      0.00      0.00         2\\n       72520       0.00      0.00      0.00         1\\n       72900       0.00      0.00      0.00         1\\n       73250       0.00      0.00      0.00         1\\n       73905       0.00      0.00      0.00         1\\n       74100       0.00      0.00      0.00         0\\n       74145       0.00      0.00      0.00         1\\n       74195       0.00      0.00      0.00         1\\n       74200       0.00      0.00      0.00         1\\n       74295       0.00      0.00      0.00         1\\n       74695       0.00      0.00      0.00         1\\n       74850       0.00      0.00      0.00         1\\n       74995       0.00      0.00      0.00         1\\n       75000       0.00      0.00      0.00         1\\n       75195       0.00      0.00      0.00         1\\n       75200       0.00      0.00      0.00         2\\n       75570       0.00      0.00      0.00         2\\n       76685       0.00      0.00      0.00         1\\n       76875       0.00      0.00      0.00         1\\n       76975       0.00      0.00      0.00         1\\n       77100       0.00      0.00      0.00         1\\n       77200       0.00      0.00      0.00         1\\n       77300       0.00      0.00      0.00         1\\n       77900       0.00      0.00      0.00         2\\n       78550       0.00      0.00      0.00         1\\n       78570       0.00      0.00      0.00         1\\n       78750       0.00      0.00      0.00         1\\n       79100       0.00      0.00      0.00         0\\n       79200       0.00      0.00      0.00         1\\n       79450       0.00      0.00      0.00         1\\n       79900       0.00      0.00      0.00         2\\n       79970       0.00      0.00      0.00         1\\n       79995       0.00      0.00      0.00         1\\n       80155       0.00      0.00      0.00         1\\n       81300       0.00      0.00      0.00         1\\n       81395       0.00      0.00      0.00         1\\n       81500       0.00      0.00      0.00         1\\n       82270       0.00      0.00      0.00         1\\n       82305       0.00      0.00      0.00         1\\n       82570       0.00      0.00      0.00         1\\n       82633       0.00      0.00      0.00         1\\n       82700       0.00      0.00      0.00         1\\n       82800       0.00      0.00      0.00         1\\n       83015       0.00      0.00      0.00         1\\n       83195       0.00      0.00      0.00         1\\n       83300       0.00      0.00      0.00         1\\n       83495       0.00      0.00      0.00         1\\n       83600       0.00      0.00      0.00         1\\n       83825       0.00      0.00      0.00         1\\n       83995       0.00      0.00      0.00         1\\n       84300       0.00      0.00      0.00         2\\n       84325       0.00      0.00      0.00         1\\n       84500       0.00      0.00      0.00         1\\n       84545       0.00      0.00      0.00         1\\n       84995       0.00      0.00      0.00         1\\n       85000       0.00      0.00      0.00         1\\n       85050       0.00      0.00      0.00         1\\n       85174       0.00      0.00      0.00         1\\n       85542       0.00      0.00      0.00         1\\n       85650       0.00      0.00      0.00         1\\n       85795       0.00      0.00      0.00         1\\n       85895       0.00      0.00      0.00         1\\n       86420       0.00      0.00      0.00         1\\n       86600       0.00      0.00      0.00         1\\n       87070       0.00      0.00      0.00         1\\n       87145       0.00      0.00      0.00         1\\n       87495       0.00      0.00      0.00         1\\n       87577       0.00      0.00      0.00         1\\n       87650       0.00      0.00      0.00         1\\n       88345       0.00      0.00      0.00         1\\n       88800       0.00      0.00      0.00         1\\n       88850       0.00      0.00      0.00         1\\n       88900       0.00      0.00      0.00         0\\n       89000       0.00      0.00      0.00         2\\n       89350       0.00      0.00      0.00         1\\n       89600       0.00      0.00      0.00         1\\n       89622       0.00      0.00      0.00         1\\n       89825       0.00      0.00      0.00         1\\n       90825       0.00      0.00      0.00         1\\n       91650       0.00      0.00      0.00         1\\n       91900       0.00      0.00      0.00         1\\n       92350       0.00      0.00      0.00         1\\n       92395       0.00      0.00      0.00         1\\n       92400       0.00      0.00      0.00         2\\n       93295       0.00      0.00      0.00         1\\n       93450       0.00      0.00      0.00         1\\n       93600       0.00      0.00      0.00         1\\n       93850       0.00      0.00      0.00         1\\n       94400       0.00      0.00      0.00         1\\n       94795       0.00      0.00      0.00         1\\n       94875       0.00      0.00      0.00         1\\n       95195       0.00      0.00      0.00         2\\n       95650       0.00      0.00      0.00         1\\n       95895       0.00      0.00      0.00         0\\n       96200       0.00      0.00      0.00         0\\n       96300       0.00      0.00      0.00         1\\n       96500       0.00      0.00      0.00         1\\n       97460       0.00      0.00      0.00         1\\n       97600       0.00      0.00      0.00         1\\n       97795       0.00      0.00      0.00         1\\n       97900       0.00      0.00      0.00         1\\n       98200       0.00      0.00      0.00         1\\n       98300       0.00      0.00      0.00         1\\n       98700       0.00      0.00      0.00         1\\n       98800       0.00      0.00      0.00         0\\n       98995       0.00      0.00      0.00         1\\n       99600       0.00      0.00      0.00         1\\n      100100       0.00      0.00      0.00         1\\n      101600       0.00      0.00      0.00         1\\n      101690       0.00      0.00      0.00         1\\n      101700       0.00      0.00      0.00         1\\n      101995       0.00      0.00      0.00         1\\n      102200       0.00      0.00      0.00         1\\n      102930       0.00      0.00      0.00         0\\n      103400       0.00      0.00      0.00         1\\n      104500       0.00      0.00      0.00         1\\n      106500       0.00      0.00      0.00         1\\n      107100       0.00      0.00      0.00         1\\n      107385       0.00      0.00      0.00         1\\n      107900       0.00      0.00      0.00         1\\n      108600       0.00      0.00      0.00         1\\n      109500       0.00      0.00      0.00         1\\n      110475       0.00      0.00      0.00         1\\n      110800       0.00      0.00      0.00         1\\n      111510       0.00      0.00      0.00         1\\n      111900       0.00      0.00      0.00         1\\n      113400       0.00      0.00      0.00         0\\n      113700       0.00      0.00      0.00         1\\n      114700       0.00      0.00      0.00         1\\n      114900       0.00      0.00      0.00         0\\n      115700       0.00      0.00      0.00         1\\n      116600       0.00      0.00      0.00         1\\n      117530       0.00      0.00      0.00         1\\n      118845       0.00      0.00      0.00         1\\n      119450       0.00      0.00      0.00         1\\n      119900       0.00      0.00      0.00         1\\n      120000       0.00      0.00      0.00         1\\n      120440       0.00      0.00      0.00         1\\n      121295       0.00      0.00      0.00         1\\n      121550       0.00      0.00      0.00         1\\n      122600       0.00      0.00      0.00         1\\n      123695       0.00      0.00      0.00         1\\n      125600       0.00      0.00      0.00         1\\n      128000       0.00      0.00      0.00         1\\n      128300       0.00      0.00      0.00         1\\n      128400       0.00      0.00      0.00         1\\n      131200       0.00      0.00      0.00         1\\n      131400       0.00      0.00      0.00         1\\n      132200       0.00      0.00      0.00         1\\n      132800       0.00      0.00      0.00         1\\n      132825       0.00      0.00      0.00         1\\n      132995       0.00      0.00      0.00         1\\n      135000       0.00      0.00      0.00         1\\n      136750       0.00      0.00      0.00         1\\n      137100       0.00      0.00      0.00         1\\n      140500       0.00      0.00      0.00         1\\n      140615       0.00      0.00      0.00         1\\n      141800       0.00      0.00      0.00         1\\n      142995       0.00      0.00      0.00         1\\n      143250       0.00      0.00      0.00         1\\n      144700       0.00      0.00      0.00         1\\n      144995       0.00      0.00      0.00         1\\n      145200       0.00      0.00      0.00         1\\n      145500       0.00      0.00      0.00         1\\n      145740       0.00      0.00      0.00         1\\n      147332       0.00      0.00      0.00         1\\n      149990       0.00      0.00      0.00         1\\n      149995       0.00      0.00      0.00         1\\n      150570       0.00      0.00      0.00         1\\n      151100       0.00      0.00      0.00         1\\n      151500       0.00      0.00      0.00         1\\n      153000       0.00      0.00      0.00         1\\n      153900       0.00      0.00      0.00         1\\n      154090       0.00      0.00      0.00         1\\n      156300       0.00      0.00      0.00         2\\n      157300       0.00      0.00      0.00         1\\n      158700       0.00      0.00      0.00         1\\n      160300       0.00      0.00      0.00         1\\n      161070       0.00      0.00      0.00         1\\n      162000       0.00      0.00      0.00         1\\n      163000       0.00      0.00      0.00         1\\n      166900       0.00      0.00      0.00         1\\n      171500       0.00      0.00      0.00         1\\n      173500       0.00      0.00      0.00         1\\n      173800       0.00      0.00      0.00         1\\n      177500       0.00      0.00      0.00         1\\n      180300       0.00      0.00      0.00         1\\n      180535       0.00      0.00      0.00         2\\n      182009       0.00      0.00      0.00         2\\n      183700       0.00      0.00      0.00         1\\n      184200       0.00      0.00      0.00         0\\n      187124       0.00      0.00      0.00         1\\n      187900       0.00      0.00      0.00         1\\n      188295       0.00      0.00      0.00         1\\n      189350       0.00      0.00      0.00         1\\n      191300       0.00      0.00      0.00         1\\n      191400       0.00      0.00      0.00         1\\n      191900       0.05      1.00      0.09         1\\n      194600       0.00      0.00      0.00         1\\n      195840       0.00      0.00      0.00         1\\n      196100       0.00      0.00      0.00         1\\n      197850       0.00      0.00      0.00         1\\n      198190       0.00      0.00      0.00         1\\n      198250       0.00      0.00      0.00         2\\n      198700       0.00      0.00      0.00         1\\n      200500       0.00      0.00      0.00         2\\n      200800       0.00      0.00      0.00         1\\n      202000       0.00      0.00      0.00         0\\n      203500       0.00      0.00      0.00         1\\n      206000       0.00      0.00      0.00         2\\n      209500       0.00      0.00      0.00         1\\n      209600       0.00      0.00      0.00         0\\n      210700       0.00      0.00      0.00         1\\n      211000       0.00      0.00      0.00         1\\n      212800       0.00      0.00      0.00         0\\n      214500       0.00      0.00      0.00         1\\n      214670       0.00      0.00      0.00         1\\n      215800       0.00      0.00      0.00         1\\n      217310       0.00      0.00      0.00         1\\n      218500       0.00      0.00      0.00         1\\n      219775       0.00      0.00      0.00         1\\n      221990       0.00      0.00      0.00         1\\n      224585       0.00      0.00      0.00         1\\n      224990       0.00      0.00      0.00         1\\n      225400       0.00      0.00      0.00         1\\n      226850       0.00      0.00      0.00         1\\n      228339       0.00      0.00      0.00         1\\n      228625       0.00      0.00      0.00         1\\n      229000       0.00      0.00      0.00         1\\n      230900       0.00      0.00      0.00         1\\n      231800       0.00      0.00      0.00         1\\n      233509       0.00      0.00      0.00         2\\n      234945       0.00      0.00      0.00         1\\n      235307       0.00      0.00      0.00         1\\n      236100       0.00      0.00      0.00         2\\n      238500       0.00      0.00      0.00         1\\n      238700       0.00      0.00      0.00         1\\n      239400       0.00      0.00      0.00         1\\n      241200       0.00      0.00      0.00         1\\n      242990       0.00      0.00      0.00         1\\n      247900       0.00      0.00      0.00         1\\n      248000       0.00      0.00      0.00         1\\n      250000       0.00      0.00      0.00         1\\n      251600       0.00      0.00      0.00         1\\n      255000       0.00      0.00      0.00         1\\n      257412       0.00      0.00      0.00         0\\n      259900       0.00      0.00      0.00         1\\n      262990       0.00      0.00      0.00         1\\n      263553       0.00      0.00      0.00         1\\n      263990       0.00      0.00      0.00         1\\n      267000       0.00      0.00      0.00         1\\n      268660       0.00      0.00      0.00         1\\n      270990       0.00      0.00      0.00         1\\n      273104       0.00      0.00      0.00         1\\n      275000       0.00      0.00      0.00         1\\n      275461       0.00      0.00      0.00         1\\n      275861       0.00      0.00      0.00         1\\n      280225       0.00      0.00      0.00         1\\n      280400       0.00      0.00      0.00         0\\n      284900       0.00      0.00      0.00         1\\n      286739       0.00      0.00      0.00         1\\n      287650       0.00      0.00      0.00         1\\n      288000       0.00      0.00      0.00         1\\n      290461       0.00      0.00      0.00         1\\n      291744       0.00      0.00      0.00         1\\n      295000       0.00      0.00      0.00         1\\n      296000       0.00      0.00      0.00         1\\n      296295       0.00      0.00      0.00         1\\n      296387       0.00      0.00      0.00         1\\n      298900       0.00      0.00      0.00         1\\n      303300       0.00      0.00      0.00         1\\n      303700       0.00      0.00      0.00         1\\n      305650       0.00      0.00      0.00         1\\n      310543       0.00      0.00      0.00         1\\n      313088       0.00      0.00      0.00         1\\n      315888       0.00      0.00      0.00         0\\n      319900       0.00      0.00      0.00         1\\n      320580       0.00      0.00      0.00         1\\n      337000       0.00      0.00      0.00         1\\n      354000       0.00      0.00      0.00         1\\n      378200       0.00      0.00      0.00         1\\n      399500       0.00      0.00      0.00         1\\n      402940       0.00      0.00      0.00         1\\n      405500       0.00      0.00      0.00         1\\n      418950       0.00      0.00      0.00         1\\n      440000       0.00      0.00      0.00         1\\n      463000       0.00      0.00      0.00         1\\n      497650       0.00      0.00      0.00         1\\n      548800       0.00      0.00      0.00         1\\n      643330       0.00      0.00      0.00         1\\n     1382750       0.00      0.00      0.00         1\\n     1500000       0.00      0.00      0.00         0\\n     1705769       0.00      0.00      0.00         1\\n\\n    accuracy                           0.08      3575\\n   macro avg       0.00      0.00      0.00      3575\\nweighted avg       0.02      0.08      0.03      3575\\n'"
      ]
     },
     "execution_count": 171,
     "metadata": {},
     "output_type": "execute_result"
    }
   ],
   "source": [
    "classification_report(y_test,predl)"
   ]
  },
  {
   "cell_type": "code",
   "execution_count": null,
   "id": "22dc89ff",
   "metadata": {},
   "outputs": [],
   "source": []
  }
 ],
 "metadata": {
  "kernelspec": {
   "display_name": "Python 3 (ipykernel)",
   "language": "python",
   "name": "python3"
  },
  "language_info": {
   "codemirror_mode": {
    "name": "ipython",
    "version": 3
   },
   "file_extension": ".py",
   "mimetype": "text/x-python",
   "name": "python",
   "nbconvert_exporter": "python",
   "pygments_lexer": "ipython3",
   "version": "3.9.12"
  }
 },
 "nbformat": 4,
 "nbformat_minor": 5
}
