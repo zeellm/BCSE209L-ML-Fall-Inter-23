{
  "nbformat": 4,
  "nbformat_minor": 0,
  "metadata": {
    "colab": {
      "provenance": []
    },
    "kernelspec": {
      "name": "python3",
      "display_name": "Python 3"
    },
    "language_info": {
      "name": "python"
    }
  },
  "cells": [
    {
      "cell_type": "markdown",
      "source": [
        "**Practice Only No Copy and Paste from any sources.**"
      ],
      "metadata": {
        "id": "TdtNBw496_8q"
      }
    },
    {
      "cell_type": "markdown",
      "source": [
        "#Read the dataset (propertydata.csv) and identify the columns and their datatype"
      ],
      "metadata": {
        "id": "Si2g52Jq7Hny"
      }
    },
    {
      "cell_type": "code",
      "execution_count": null,
      "metadata": {
        "id": "Iajrj0S731GJ"
      },
      "outputs": [],
      "source": [
        "#"
      ]
    },
    {
      "cell_type": "markdown",
      "source": [
        "#Describe the dataset"
      ],
      "metadata": {
        "id": "kBxJozwL7TPi"
      }
    },
    {
      "cell_type": "code",
      "source": [
        "#"
      ],
      "metadata": {
        "id": "FWsDXv6Z7YIx"
      },
      "execution_count": null,
      "outputs": []
    },
    {
      "cell_type": "markdown",
      "source": [
        "#Display the street number (ST_NUM) and check any NaN values."
      ],
      "metadata": {
        "id": "NB0q16cj7ZSJ"
      }
    },
    {
      "cell_type": "code",
      "source": [
        "#"
      ],
      "metadata": {
        "id": "VPJ4Cwjo7caJ"
      },
      "execution_count": null,
      "outputs": []
    },
    {
      "cell_type": "markdown",
      "source": [
        "#Print the number of bedrooms (NUM_BEDROOMS) and check any NaN values."
      ],
      "metadata": {
        "id": "CokzCgHC7e7R"
      }
    },
    {
      "cell_type": "code",
      "source": [
        "#"
      ],
      "metadata": {
        "id": "q62kzcwp7jJJ"
      },
      "execution_count": null,
      "outputs": []
    },
    {
      "cell_type": "markdown",
      "source": [
        "#There are few missing values like [\"n/a\", \"na\",  \"--\"] Apply some technique to replace these values with NaN."
      ],
      "metadata": {
        "id": "yuUap3Q87kRK"
      }
    },
    {
      "cell_type": "code",
      "source": [
        "#"
      ],
      "metadata": {
        "id": "GBl24Vpt7o4B"
      },
      "execution_count": null,
      "outputs": []
    },
    {
      "cell_type": "markdown",
      "source": [
        "#Fill the ST_NUM by the maximum number of houses in a particular street"
      ],
      "metadata": {
        "id": "GAGe_VkX7wiK"
      }
    },
    {
      "cell_type": "code",
      "source": [
        "#"
      ],
      "metadata": {
        "id": "FIRyyGzc71W3"
      },
      "execution_count": null,
      "outputs": []
    }
  ]
}