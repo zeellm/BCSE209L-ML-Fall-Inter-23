{
 "cells": [
  {
   "cell_type": "markdown",
   "id": "bP7xRD_I1j6f",
   "metadata": {
    "id": "bP7xRD_I1j6f"
   },
   "source": [
    "**Names of all participants: **\n",
    "\n",
    "\n",
    "1.   Zeel Mehta 21BAI1533 \n",
    "2.   Sneha Yaduka 21BAI1382\n",
    "3.   Diya Basu 21BAI1926\n",
    "\n",
    "\n"
   ]
  },
  {
   "cell_type": "code",
   "execution_count": null,
   "id": "376998c4",
   "metadata": {
    "id": "376998c4"
   },
   "outputs": [],
   "source": [
    "import pandas as pd\n",
    "import numpy as np\n",
    "import seaborn as sns\n",
    "import matplotlib.pyplot as plt"
   ]
  },
  {
   "cell_type": "code",
   "execution_count": null,
   "id": "a6b02747",
   "metadata": {
    "colab": {
     "base_uri": "https://localhost:8080/",
     "height": 206
    },
    "id": "a6b02747",
    "outputId": "38f95c8a-766c-4e9e-feee-dd21d6c8a07a"
   },
   "outputs": [],
   "source": [
    "df=pd.read_csv('/Users/zeelmehta/Desktop/SMSSpamCollection.csv', names=['label','message'])\n",
    "df.head()"
   ]
  },
  {
   "cell_type": "code",
   "execution_count": null,
   "id": "04604c95",
   "metadata": {
    "colab": {
     "base_uri": "https://localhost:8080/",
     "height": 0
    },
    "id": "04604c95",
    "outputId": "adda9e4c-098d-40e7-ce2d-6f8ad4806154"
   },
   "outputs": [],
   "source": [
    "df.shape"
   ]
  },
  {
   "cell_type": "code",
   "execution_count": null,
   "id": "05598d91",
   "metadata": {
    "colab": {
     "base_uri": "https://localhost:8080/",
     "height": 0
    },
    "id": "05598d91",
    "outputId": "539f88fe-902d-4bd3-813e-b3bde13eaa06"
   },
   "outputs": [],
   "source": [
    "df.isnull().sum()"
   ]
  },
  {
   "cell_type": "code",
   "execution_count": null,
   "id": "8091efc1",
   "metadata": {
    "colab": {
     "base_uri": "https://localhost:8080/",
     "height": 174
    },
    "id": "8091efc1",
    "outputId": "87739e9a-498c-4398-a5c0-c802eb3c5ac9"
   },
   "outputs": [],
   "source": [
    "df.describe()\n"
   ]
  },
  {
   "cell_type": "code",
   "execution_count": null,
   "id": "db1bbffe",
   "metadata": {
    "colab": {
     "base_uri": "https://localhost:8080/",
     "height": 174
    },
    "id": "db1bbffe",
    "outputId": "8b42644f-ad53-4fa3-ee80-19a14e91d539"
   },
   "outputs": [],
   "source": [
    "\n",
    "df.groupby('label').describe()\n",
    "\n"
   ]
  },
  {
   "cell_type": "code",
   "execution_count": null,
   "id": "ab59de6c",
   "metadata": {
    "colab": {
     "base_uri": "https://localhost:8080/",
     "height": 206
    },
    "id": "ab59de6c",
    "outputId": "fed0c099-a398-4733-b34e-a491e5664f6a"
   },
   "outputs": [],
   "source": [
    "df['length']=df['message'].apply(len)\n",
    "df.head()\n"
   ]
  },
  {
   "cell_type": "code",
   "execution_count": null,
   "id": "8cdf1a0c",
   "metadata": {
    "colab": {
     "base_uri": "https://localhost:8080/",
     "height": 0
    },
    "id": "8cdf1a0c",
    "outputId": "fdc685a9-7045-4815-ac9f-f3227e6598b9"
   },
   "outputs": [],
   "source": [
    "\n",
    "df.length.describe()\n"
   ]
  },
  {
   "cell_type": "code",
   "execution_count": null,
   "id": "732330cf",
   "metadata": {
    "colab": {
     "base_uri": "https://localhost:8080/",
     "height": 466
    },
    "id": "732330cf",
    "outputId": "448965d7-9dc2-4f8c-e124-0cd991c395c3"
   },
   "outputs": [],
   "source": [
    "\n",
    "sns.histplot(data=df,x='length')\n"
   ]
  },
  {
   "cell_type": "code",
   "execution_count": null,
   "id": "e752ffab",
   "metadata": {
    "colab": {
     "base_uri": "https://localhost:8080/",
     "height": 174
    },
    "id": "e752ffab",
    "outputId": "960cc3b8-4a12-42a4-cef4-2e5f9688be66"
   },
   "outputs": [],
   "source": [
    "\n",
    "df.groupby('label').describe()\n",
    "\n"
   ]
  },
  {
   "cell_type": "code",
   "execution_count": null,
   "id": "96957dc8",
   "metadata": {
    "colab": {
     "base_uri": "https://localhost:8080/",
     "height": 466
    },
    "id": "96957dc8",
    "outputId": "54048d82-9b12-4274-927c-c2037efde357",
    "scrolled": false
   },
   "outputs": [],
   "source": [
    "sns.histplot(data=df, x='length', hue='label', bins=50)"
   ]
  },
  {
   "cell_type": "code",
   "execution_count": null,
   "id": "8d95ad43",
   "metadata": {
    "colab": {
     "base_uri": "https://localhost:8080/",
     "height": 0
    },
    "id": "8d95ad43",
    "outputId": "6f4b8778-fca3-45a5-80af-726db9562a0e"
   },
   "outputs": [],
   "source": [
    "m4 = df['message'][3]\n",
    "print(m4)"
   ]
  },
  {
   "cell_type": "code",
   "execution_count": null,
   "id": "d9cf82fb",
   "metadata": {
    "id": "d9cf82fb"
   },
   "outputs": [],
   "source": [
    "import string"
   ]
  },
  {
   "cell_type": "code",
   "execution_count": null,
   "id": "6CJo6TKWwo75",
   "metadata": {
    "colab": {
     "base_uri": "https://localhost:8080/",
     "height": 0
    },
    "id": "6CJo6TKWwo75",
    "outputId": "0b2c8406-d4a8-4b51-efaa-99f2c89f04a6"
   },
   "outputs": [],
   "source": [
    "!pip install nltk"
   ]
  },
  {
   "cell_type": "code",
   "execution_count": null,
   "id": "nESEGkfQwzw_",
   "metadata": {
    "colab": {
     "base_uri": "https://localhost:8080/",
     "height": 0
    },
    "id": "nESEGkfQwzw_",
    "outputId": "03d3d1c7-8346-4a75-b12c-ff1c244ce740"
   },
   "outputs": [],
   "source": [
    "import nltk\n",
    "nltk.download('all')"
   ]
  },
  {
   "cell_type": "code",
   "execution_count": null,
   "id": "7ce56325",
   "metadata": {
    "colab": {
     "base_uri": "https://localhost:8080/",
     "height": 0
    },
    "id": "7ce56325",
    "outputId": "50fafbc4-eed6-42d6-d18f-57a374e1d07c"
   },
   "outputs": [],
   "source": [
    "from nltk.corpus import stopwords\n",
    "stopwords.words('english')[0:10]"
   ]
  },
  {
   "cell_type": "code",
   "execution_count": null,
   "id": "vJ_DEZOfxg7_",
   "metadata": {
    "colab": {
     "base_uri": "https://localhost:8080/",
     "height": 0
    },
    "id": "vJ_DEZOfxg7_",
    "outputId": "d95dc115-71a9-4170-b6a8-be26b97c1d92"
   },
   "outputs": [],
   "source": [
    "!pip install sklearn"
   ]
  },
  {
   "cell_type": "code",
   "execution_count": null,
   "id": "dea0a61f",
   "metadata": {
    "id": "dea0a61f"
   },
   "outputs": [],
   "source": [
    "from sklearn.feature_extraction.text import CountVectorizer"
   ]
  },
  {
   "cell_type": "code",
   "execution_count": null,
   "id": "be7ddd33",
   "metadata": {
    "colab": {
     "base_uri": "https://localhost:8080/",
     "height": 363
    },
    "id": "be7ddd33",
    "outputId": "60018ef1-fbb5-49a9-8f10-0f01ba1b9ee2"
   },
   "outputs": [],
   "source": [
    "bow_transformer=CountVectorizer()\n",
    "bow4 = bow_transformer.transform([m4])\n",
    "print(bow4)\n",
    "print(bow4.shape)"
   ]
  },
  {
   "cell_type": "code",
   "execution_count": null,
   "id": "9d1a2c1f",
   "metadata": {
    "id": "9d1a2c1f"
   },
   "outputs": [],
   "source": [
    "def text_process(mess):\n",
    "    nopunc = [char for char in mess if char not in string.punctuation]\n",
    "    nopunc = ''.join(nopunc)\n",
    "    return [word for word in nopunc.split() if word.lower() not in stopwords.words('english')]"
   ]
  },
  {
   "cell_type": "code",
   "execution_count": null,
   "id": "86645cf4",
   "metadata": {
    "colab": {
     "base_uri": "https://localhost:8080/",
     "height": 183
    },
    "id": "86645cf4",
    "outputId": "9368fdf1-d875-4186-fdcc-17c9bd3e6061",
    "scrolled": true
   },
   "outputs": [],
   "source": [
    "bowtransform = CountVectorizer(analyzer=text_process).fit(df['message'])\n",
    "print(len(bow_transformer.vocabulary_))"
   ]
  },
  {
   "cell_type": "code",
   "execution_count": null,
   "id": "06c8956d",
   "metadata": {
    "id": "06c8956d"
   },
   "outputs": [],
   "source": [
    "mbow=bowtransform.transform(df['message'])"
   ]
  },
  {
   "cell_type": "code",
   "execution_count": null,
   "id": "11eee697",
   "metadata": {
    "id": "11eee697",
    "outputId": "15a4710d-3caa-4dee-ddde-ad5ed4f54089"
   },
   "outputs": [],
   "source": [
    "print('Shape of Sparse Matrix: ', mbow.shape)\n",
    "print('Amount of Non-Zero occurences: ', mbow.nnz)"
   ]
  },
  {
   "cell_type": "code",
   "execution_count": null,
   "id": "da52e50c",
   "metadata": {
    "id": "da52e50c"
   },
   "outputs": [],
   "source": [
    "from sklearn.feature_extraction.text import TfidfTransformer"
   ]
  },
  {
   "cell_type": "code",
   "execution_count": null,
   "id": "08ea1351",
   "metadata": {
    "id": "08ea1351",
    "outputId": "dc26e334-d9b3-4134-bc3b-bd1a4cc7af89"
   },
   "outputs": [],
   "source": [
    "tfidft = TfidfTransformer().fit(mbow)\n",
    "tfidf4 = tfidft.transform(bow4)\n",
    "print(tfidf4)"
   ]
  },
  {
   "cell_type": "code",
   "execution_count": null,
   "id": "9e39b04b",
   "metadata": {
    "id": "9e39b04b",
    "outputId": "edf9f6a1-d7e5-47c2-ce7f-c9a7c77e9c41"
   },
   "outputs": [],
   "source": [
    "mtfidf = tfidft.transform(messages_bow)\n",
    "print(mtfidf.shape)"
   ]
  },
  {
   "cell_type": "code",
   "execution_count": null,
   "id": "ad730190",
   "metadata": {
    "id": "ad730190"
   },
   "outputs": [],
   "source": [
    "from sklearn.naive_bayes import MultinomialNB\n",
    "det = MultinomialNB().fit(mtfidf, df['label'])"
   ]
  },
  {
   "cell_type": "code",
   "execution_count": null,
   "id": "5e6bfe87",
   "metadata": {
    "id": "5e6bfe87",
    "outputId": "5bdd3246-caf2-49f7-92b3-249985564c6a"
   },
   "outputs": [],
   "source": [
    "print('predicted:', det.predict(tfidf4)[0])\n",
    "print('expected:', df.label[3])"
   ]
  },
  {
   "cell_type": "code",
   "execution_count": null,
   "id": "2eb87700",
   "metadata": {
    "id": "2eb87700",
    "outputId": "de6dacfd-25b2-424d-f9ff-5dbad78d80c2"
   },
   "outputs": [],
   "source": [
    "pred = det.predict(mtfidf)\n",
    "print(pred)"
   ]
  },
  {
   "cell_type": "code",
   "execution_count": null,
   "id": "49955293",
   "metadata": {
    "id": "49955293",
    "outputId": "2b50e53f-d378-4bbd-e743-9f8875fac095"
   },
   "outputs": [],
   "source": [
    "from sklearn.metrics import classification_report\n",
    "print (classification_report(df['label'], pred))"
   ]
  },
  {
   "cell_type": "code",
   "execution_count": null,
   "id": "b6131caa",
   "metadata": {
    "id": "b6131caa"
   },
   "outputs": [],
   "source": [
    "from sklearn.model_selection import train_test_split"
   ]
  },
  {
   "cell_type": "code",
   "execution_count": null,
   "id": "fa359d50",
   "metadata": {
    "id": "fa359d50"
   },
   "outputs": [],
   "source": [
    "msg_train, msg_test, label_train, label_test = \\\n",
    "train_test_split(df['message'], df['label'], test_size=0.2)"
   ]
  },
  {
   "cell_type": "code",
   "execution_count": null,
   "id": "575f27bc",
   "metadata": {
    "id": "575f27bc",
    "outputId": "eeebb0c8-dcc9-4eb4-f7ca-8960ce89bb3a"
   },
   "outputs": [],
   "source": [
    "print(len(msg_train), len(msg_test), len(msg_train) + len(msg_test))"
   ]
  },
  {
   "cell_type": "code",
   "execution_count": null,
   "id": "0a90490d",
   "metadata": {
    "id": "0a90490d"
   },
   "outputs": [],
   "source": [
    "from sklearn.pipeline import Pipeline"
   ]
  },
  {
   "cell_type": "code",
   "execution_count": null,
   "id": "5f3fd91d",
   "metadata": {
    "id": "5f3fd91d"
   },
   "outputs": [],
   "source": [
    "pipeline = Pipeline([\n",
    "    ('bow', CountVectorizer(analyzer=text_process)), \n",
    "    ('tfidf', TfidfTransformer()),  \n",
    "    ('classifier', MultinomialNB()),\n",
    "])"
   ]
  },
  {
   "cell_type": "code",
   "execution_count": null,
   "id": "a7e0631b",
   "metadata": {
    "id": "a7e0631b",
    "outputId": "79f0ce51-2374-4332-dc81-0ada7f1bc76d"
   },
   "outputs": [],
   "source": [
    "pipeline.fit(msg_train,label_train)"
   ]
  },
  {
   "cell_type": "code",
   "execution_count": null,
   "id": "68bc4153",
   "metadata": {
    "id": "68bc4153"
   },
   "outputs": [],
   "source": [
    "pred = pipeline.predict(msg_test)"
   ]
  },
  {
   "cell_type": "code",
   "execution_count": null,
   "id": "c03c2eb4",
   "metadata": {
    "id": "c03c2eb4",
    "outputId": "967e68c1-2742-4a17-e958-af23e1ec9db5"
   },
   "outputs": [],
   "source": [
    "print(classification_report(pred,label_test))"
   ]
  },
  {
   "cell_type": "markdown",
   "id": "2KZNCT2x2Hqe",
   "metadata": {
    "id": "2KZNCT2x2Hqe"
   },
   "source": [
    "CHECKING FINAL OUTPUT WITH THE CLASSIFIER"
   ]
  },
  {
   "cell_type": "code",
   "execution_count": null,
   "id": "eff47265",
   "metadata": {
    "colab": {
     "base_uri": "https://localhost:8080/"
    },
    "id": "eff47265",
    "outputId": "f5071b58-990c-476d-823b-87c5dc6cef60"
   },
   "outputs": [],
   "source": [
    "test_msg=input()"
   ]
  },
  {
   "cell_type": "code",
   "execution_count": null,
   "id": "M-65xfP8zYre",
   "metadata": {
    "id": "M-65xfP8zYre"
   },
   "outputs": [],
   "source": [
    "prediction=pipeline.predict(test_msg)"
   ]
  },
  {
   "cell_type": "code",
   "execution_count": null,
   "id": "wVvgeUOJ1WX7",
   "metadata": {
    "id": "wVvgeUOJ1WX7"
   },
   "outputs": [],
   "source": [
    "print(classification_report(prediction,label_test))"
   ]
  }
 ],
 "metadata": {
  "colab": {
   "provenance": []
  },
  "kernelspec": {
   "display_name": "Python 3 (ipykernel)",
   "language": "python",
   "name": "python3"
  },
  "language_info": {
   "codemirror_mode": {
    "name": "ipython",
    "version": 3
   },
   "file_extension": ".py",
   "mimetype": "text/x-python",
   "name": "python",
   "nbconvert_exporter": "python",
   "pygments_lexer": "ipython3",
   "version": "3.9.12"
  }
 },
 "nbformat": 4,
 "nbformat_minor": 5
}
