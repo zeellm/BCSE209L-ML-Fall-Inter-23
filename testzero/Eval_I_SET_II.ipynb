{
 "cells": [
  {
   "cell_type": "markdown",
   "metadata": {
    "id": "_YZdqmaj0_9F"
   },
   "source": [
    "## Data Set Description"
   ]
  },
  {
   "cell_type": "markdown",
   "metadata": {
    "id": "SgF16qVg0fP9"
   },
   "source": [
    "1. age - age in years\n",
    "\n",
    "2. sex - (1 = male; 0 = female)\n",
    "\n",
    "3. cp - chest pain type\n",
    "  0: Typical angina: chest pain related decrease blood supply to the heart\n",
    "  1: Atypical angina: chest pain not related to heart\n",
    "  2: Non-anginal pain: typically esophageal spasms (non heart related)\n",
    "  3: Asymptomatic: chest pain not showing signs of disease\n",
    "\n",
    "4. trestbps - resting blood pressure (in mm Hg on admission to the hospital)\n",
    "anything above 130-140 is typically cause for concern\n",
    "\n",
    "5. chol - serum cholestoral in mg/dl\n",
    "serum = LDL + HDL + .2 * triglycerides\n",
    "above 200 is cause for concern\n",
    "\n",
    "6. fbs - (fasting blood sugar > 120 mg/dl) (1 = true; 0 = false)\n",
    "'>126' mg/dL signals diabetes\n",
    "\n",
    "7. restecg - resting electrocardiographic results\n",
    "  0: Nothing to note\n",
    "  1: ST-T Wave abnormality\n",
    "  can range from mild symptoms to severe problems\n",
    "  signals non-normal heart beat\n",
    "  2: Possible or definite left ventricular hypertrophy\n",
    "  Enlarged heart's main pumping chamber\n",
    "\n",
    "8. thalach - maximum heart rate achieved\n",
    "\n",
    "9. exang - exercise induced angina (1 = yes; 0 = no)\n",
    "\n",
    "10. oldpeak - ST depression induced by exercise relative to rest\n",
    "    looks at stress of heart during excercise\n",
    "    unhealthy heart will stress more\n",
    "\n",
    "11. slope - the slope of the peak exercise ST segment\n",
    "    0: Upsloping: better heart rate with excercise (uncommon)\n",
    "    1: Flatsloping: minimal change (typical healthy heart)\n",
    "    2: Downslopins: signs of unhealthy heart\n",
    "\n",
    "12. ca - number of major vessels (0-3) colored by flourosopy\n",
    "    colored vessel means the doctor can see the blood passing through\n",
    "    the more blood movement the better (no clots)\n",
    "\n",
    "13. thal - thalium stress result\n",
    "    1,3: normal\n",
    "    6: fixed defect: used to be defect but ok now\n",
    "    7: reversable defect: no proper blood movement when excercising\n",
    "\n",
    "14. AHD/target - have disease or not (1=yes, 0=no) (= the predicted attribute)"
   ]
  },
  {
   "cell_type": "markdown",
   "metadata": {
    "id": "gtvXJUEy1FMS"
   },
   "source": [
    "## Add necessary libararies/ modules"
   ]
  },
  {
   "cell_type": "code",
   "execution_count": null,
   "metadata": {
    "id": "gvYelTbtOgFC"
   },
   "outputs": [],
   "source": [
    "#import numpy as np\n",
    "#import pandas as pd\n",
    "#import seaborn as sns\n",
    "#import matplotlib.pyplot as plt"
   ]
  },
  {
   "cell_type": "markdown",
   "metadata": {
    "id": "ZeI1m-Oj1KzQ"
   },
   "source": [
    "# Read the dataset and display the first 40 records an Identify the columns ( 1 Mark )"
   ]
  },
  {
   "cell_type": "markdown",
   "metadata": {
    "id": "LpWVyfH71rSG"
   },
   "source": [
    "#Check any duplicates are there using duplicated() method. Some duplicates are there. ( Hint : Unnamed: 0 - Column is creating the problem)     ( 2 Marks)\n",
    "\n",
    "\n",
    "*   Display number of duplcaites in the dataset\n",
    "\n"
   ]
  },
  {
   "cell_type": "markdown",
   "metadata": {
    "id": "PexLy2EA3FcU"
   },
   "source": [
    "# Check any Null values - Identify the suitable Imputing technique  for the attribute **Ca**  and apply the same.  ( 2 Marks )"
   ]
  },
  {
   "cell_type": "markdown",
   "metadata": {
    "id": "mcne6GQ33cAj"
   },
   "source": [
    "# Visualize the outlier data using Box Plot for the column : RestBP 1 ( 1 Mark )"
   ]
  },
  {
   "cell_type": "markdown",
   "metadata": {
    "id": "P2sTrND83lh6"
   },
   "source": [
    "# Remove the outliers from the data set based on the column : RestBP ( 2 Marks) USING Z Score method"
   ]
  },
  {
   "cell_type": "code",
   "execution_count": null,
   "metadata": {
    "id": "g3uFyAI18vvS"
   },
   "outputs": [],
   "source": [
    "#-3sigma to +3sigma as stanard deviation Hint: df['col'].mean to compute mean, df['col'].std() to find std. \n",
    "\n",
    "upper_limit = \n",
    "lower_limit = \n",
    "print(upper_limit)\n",
    "print(lower_limit)"
   ]
  },
  {
   "cell_type": "markdown",
   "metadata": {
    "id": "Pw_VSz647BtM"
   },
   "source": [
    "## Visualize the Correlation between the MaxHR vs AHD ( 2 Marks )"
   ]
  }
 ],
 "metadata": {
  "colab": {
   "collapsed_sections": [
    "_YZdqmaj0_9F"
   ],
   "provenance": []
  },
  "kernelspec": {
   "display_name": "Python 3 (ipykernel)",
   "language": "python",
   "name": "python3"
  },
  "language_info": {
   "codemirror_mode": {
    "name": "ipython",
    "version": 3
   },
   "file_extension": ".py",
   "mimetype": "text/x-python",
   "name": "python",
   "nbconvert_exporter": "python",
   "pygments_lexer": "ipython3",
   "version": "3.9.12"
  }
 },
 "nbformat": 4,
 "nbformat_minor": 1
}
